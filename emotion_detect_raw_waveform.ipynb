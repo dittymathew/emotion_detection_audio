{
  "nbformat": 4,
  "nbformat_minor": 0,
  "metadata": {
    "colab": {
      "provenance": []
    },
    "kernelspec": {
      "name": "python3",
      "display_name": "Python 3"
    },
    "language_info": {
      "name": "python"
    }
  },
  "cells": [
    {
      "cell_type": "code",
      "execution_count": 1,
      "metadata": {
        "colab": {
          "base_uri": "https://localhost:8080/"
        },
        "id": "cbewmZNGDeeQ",
        "outputId": "be2414af-3cc4-40d5-898d-8f892af17607"
      },
      "outputs": [
        {
          "output_type": "stream",
          "name": "stdout",
          "text": [
            "Requirement already satisfied: audformat in /usr/local/lib/python3.10/dist-packages (1.0.3)\n",
            "Requirement already satisfied: audeer<2.0.0,>=1.19.0 in /usr/local/lib/python3.10/dist-packages (from audformat) (1.20.1)\n",
            "Requirement already satisfied: audiofile>=0.4.0 in /usr/local/lib/python3.10/dist-packages (from audformat) (1.3.0)\n",
            "Requirement already satisfied: iso-639 in /usr/local/lib/python3.10/dist-packages (from audformat) (0.4.5)\n",
            "Requirement already satisfied: iso3166 in /usr/local/lib/python3.10/dist-packages (from audformat) (2.1.1)\n",
            "Requirement already satisfied: oyaml in /usr/local/lib/python3.10/dist-packages (from audformat) (1.0)\n",
            "Requirement already satisfied: pyyaml>=5.4.1 in /usr/local/lib/python3.10/dist-packages (from audformat) (6.0.1)\n",
            "Requirement already satisfied: pandas>=1.4.1 in /usr/local/lib/python3.10/dist-packages (from audformat) (1.5.3)\n",
            "Requirement already satisfied: tqdm in /usr/local/lib/python3.10/dist-packages (from audeer<2.0.0,>=1.19.0->audformat) (4.66.1)\n",
            "Requirement already satisfied: audmath>=1.2.1 in /usr/local/lib/python3.10/dist-packages (from audiofile>=0.4.0->audformat) (1.4.0)\n",
            "Requirement already satisfied: numpy in /usr/local/lib/python3.10/dist-packages (from audiofile>=0.4.0->audformat) (1.23.5)\n",
            "Requirement already satisfied: soundfile in /usr/local/lib/python3.10/dist-packages (from audiofile>=0.4.0->audformat) (0.12.1)\n",
            "Requirement already satisfied: python-dateutil>=2.8.1 in /usr/local/lib/python3.10/dist-packages (from pandas>=1.4.1->audformat) (2.8.2)\n",
            "Requirement already satisfied: pytz>=2020.1 in /usr/local/lib/python3.10/dist-packages (from pandas>=1.4.1->audformat) (2023.3.post1)\n",
            "Requirement already satisfied: six>=1.5 in /usr/local/lib/python3.10/dist-packages (from python-dateutil>=2.8.1->pandas>=1.4.1->audformat) (1.16.0)\n",
            "Requirement already satisfied: cffi>=1.0 in /usr/local/lib/python3.10/dist-packages (from soundfile->audiofile>=0.4.0->audformat) (1.16.0)\n",
            "Requirement already satisfied: pycparser in /usr/local/lib/python3.10/dist-packages (from cffi>=1.0->soundfile->audiofile>=0.4.0->audformat) (2.21)\n",
            "Requirement already satisfied: opensmile in /usr/local/lib/python3.10/dist-packages (2.5.0)\n",
            "Requirement already satisfied: audobject>=0.6.1 in /usr/local/lib/python3.10/dist-packages (from opensmile) (0.7.9)\n",
            "Requirement already satisfied: audinterface>=0.7.0 in /usr/local/lib/python3.10/dist-packages (from opensmile) (1.1.0)\n",
            "Requirement already satisfied: audformat<2.0.0,>=1.0.1 in /usr/local/lib/python3.10/dist-packages (from audinterface>=0.7.0->opensmile) (1.0.3)\n",
            "Requirement already satisfied: audiofile>=1.3.0 in /usr/local/lib/python3.10/dist-packages (from audinterface>=0.7.0->opensmile) (1.3.0)\n",
            "Requirement already satisfied: audmath>=1.3.0 in /usr/local/lib/python3.10/dist-packages (from audinterface>=0.7.0->opensmile) (1.4.0)\n",
            "Requirement already satisfied: audresample<2.0.0,>=1.1.0 in /usr/local/lib/python3.10/dist-packages (from audinterface>=0.7.0->opensmile) (1.3.2)\n",
            "Requirement already satisfied: audeer>=1.18.0 in /usr/local/lib/python3.10/dist-packages (from audobject>=0.6.1->opensmile) (1.20.1)\n",
            "Requirement already satisfied: importlib-metadata>=4.8.0 in /usr/local/lib/python3.10/dist-packages (from audobject>=0.6.1->opensmile) (6.8.0)\n",
            "Requirement already satisfied: oyaml in /usr/local/lib/python3.10/dist-packages (from audobject>=0.6.1->opensmile) (1.0)\n",
            "Requirement already satisfied: tqdm in /usr/local/lib/python3.10/dist-packages (from audeer>=1.18.0->audobject>=0.6.1->opensmile) (4.66.1)\n",
            "Requirement already satisfied: iso-639 in /usr/local/lib/python3.10/dist-packages (from audformat<2.0.0,>=1.0.1->audinterface>=0.7.0->opensmile) (0.4.5)\n",
            "Requirement already satisfied: iso3166 in /usr/local/lib/python3.10/dist-packages (from audformat<2.0.0,>=1.0.1->audinterface>=0.7.0->opensmile) (2.1.1)\n",
            "Requirement already satisfied: pyyaml>=5.4.1 in /usr/local/lib/python3.10/dist-packages (from audformat<2.0.0,>=1.0.1->audinterface>=0.7.0->opensmile) (6.0.1)\n",
            "Requirement already satisfied: pandas>=1.4.1 in /usr/local/lib/python3.10/dist-packages (from audformat<2.0.0,>=1.0.1->audinterface>=0.7.0->opensmile) (1.5.3)\n",
            "Requirement already satisfied: numpy in /usr/local/lib/python3.10/dist-packages (from audiofile>=1.3.0->audinterface>=0.7.0->opensmile) (1.23.5)\n",
            "Requirement already satisfied: soundfile in /usr/local/lib/python3.10/dist-packages (from audiofile>=1.3.0->audinterface>=0.7.0->opensmile) (0.12.1)\n",
            "Requirement already satisfied: zipp>=0.5 in /usr/local/lib/python3.10/dist-packages (from importlib-metadata>=4.8.0->audobject>=0.6.1->opensmile) (3.17.0)\n",
            "Requirement already satisfied: python-dateutil>=2.8.1 in /usr/local/lib/python3.10/dist-packages (from pandas>=1.4.1->audformat<2.0.0,>=1.0.1->audinterface>=0.7.0->opensmile) (2.8.2)\n",
            "Requirement already satisfied: pytz>=2020.1 in /usr/local/lib/python3.10/dist-packages (from pandas>=1.4.1->audformat<2.0.0,>=1.0.1->audinterface>=0.7.0->opensmile) (2023.3.post1)\n",
            "Requirement already satisfied: cffi>=1.0 in /usr/local/lib/python3.10/dist-packages (from soundfile->audiofile>=1.3.0->audinterface>=0.7.0->opensmile) (1.16.0)\n",
            "Requirement already satisfied: pycparser in /usr/local/lib/python3.10/dist-packages (from cffi>=1.0->soundfile->audiofile>=1.3.0->audinterface>=0.7.0->opensmile) (2.21)\n",
            "Requirement already satisfied: six>=1.5 in /usr/local/lib/python3.10/dist-packages (from python-dateutil>=2.8.1->pandas>=1.4.1->audformat<2.0.0,>=1.0.1->audinterface>=0.7.0->opensmile) (1.16.0)\n",
            "Requirement already satisfied: Keras-Preprocessing in /usr/local/lib/python3.10/dist-packages (1.1.2)\n",
            "Requirement already satisfied: numpy>=1.9.1 in /usr/local/lib/python3.10/dist-packages (from Keras-Preprocessing) (1.23.5)\n",
            "Requirement already satisfied: six>=1.9.0 in /usr/local/lib/python3.10/dist-packages (from Keras-Preprocessing) (1.16.0)\n"
          ]
        }
      ],
      "source": [
        "!pip install audformat\n",
        "!pip install opensmile\n",
        "!pip install Keras-Preprocessing"
      ]
    },
    {
      "cell_type": "code",
      "source": [
        "!wget https://zenodo.org/record/7447302/files/emodb.zip\n",
        "\n",
        "!unzip emodb.zip"
      ],
      "metadata": {
        "colab": {
          "base_uri": "https://localhost:8080/"
        },
        "id": "4GWmhBlrGq17",
        "outputId": "8d83bc40-5892-4e88-8f6e-9b19b6cb3b68"
      },
      "execution_count": 2,
      "outputs": [
        {
          "output_type": "stream",
          "name": "stdout",
          "text": [
            "--2023-11-21 13:45:56--  https://zenodo.org/record/7447302/files/emodb.zip\n",
            "Resolving zenodo.org (zenodo.org)... 188.184.98.238, 188.185.79.172, 188.184.103.159, ...\n",
            "Connecting to zenodo.org (zenodo.org)|188.184.98.238|:443... connected.\n",
            "HTTP request sent, awaiting response... 301 MOVED PERMANENTLY\n",
            "Location: /records/7447302/files/emodb.zip [following]\n",
            "--2023-11-21 13:45:57--  https://zenodo.org/records/7447302/files/emodb.zip\n",
            "Reusing existing connection to zenodo.org:443.\n",
            "HTTP request sent, awaiting response... 200 OK\n",
            "Length: 39981818 (38M) [application/octet-stream]\n",
            "Saving to: ‘emodb.zip.2’\n",
            "\n",
            "emodb.zip.2         100%[===================>]  38.13M  15.3MB/s    in 2.5s    \n",
            "\n",
            "2023-11-21 13:46:00 (15.3 MB/s) - ‘emodb.zip.2’ saved [39981818/39981818]\n",
            "\n",
            "Archive:  emodb.zip\n",
            "replace emodb/db.emotion.categories.train.gold_standard.pkl? [y]es, [n]o, [A]ll, [N]one, [r]ename: y\n",
            "  inflating: emodb/db.emotion.categories.train.gold_standard.pkl  \n",
            "replace emodb/wav/14b01Fc.wav? [y]es, [n]o, [A]ll, [N]one, [r]ename: y\n",
            "  inflating: emodb/wav/14b01Fc.wav   \n",
            "replace emodb/wav/14a02Ea.wav? [y]es, [n]o, [A]ll, [N]one, [r]ename: y\n",
            "  inflating: emodb/wav/14a02Ea.wav   \n",
            "replace emodb/wav/15a02Ta.wav? [y]es, [n]o, [A]ll, [N]one, [r]ename: y\n",
            "  inflating: emodb/wav/15a02Ta.wav   \n",
            "replace emodb/wav/03a02Wc.wav? [y]es, [n]o, [A]ll, [N]one, [r]ename: y\n",
            "  inflating: emodb/wav/03a02Wc.wav   \n",
            "replace emodb/wav/10a04Wa.wav? [y]es, [n]o, [A]ll, [N]one, [r]ename: y\n",
            "  inflating: emodb/wav/10a04Wa.wav   \n",
            "replace emodb/wav/03b01Lb.wav? [y]es, [n]o, [A]ll, [N]one, [r]ename: y\n",
            "  inflating: emodb/wav/03b01Lb.wav   \n",
            "replace emodb/wav/11a02Tc.wav? [y]es, [n]o, [A]ll, [N]one, [r]ename: "
          ]
        }
      ]
    },
    {
      "cell_type": "markdown",
      "source": [
        "**Loading libraries**"
      ],
      "metadata": {
        "id": "VdlpzxHvM6Q6"
      }
    },
    {
      "cell_type": "code",
      "source": [
        "import audformat\n",
        "\n",
        "import numpy as np\n",
        "from sklearn.pipeline import make_pipeline\n",
        "from sklearn.preprocessing import StandardScaler,OneHotEncoder\n",
        "from sklearn.preprocessing import LabelEncoder\n",
        "from sklearn.svm import SVC\n",
        "from imblearn.over_sampling import SMOTE\n",
        "\n",
        "from keras_preprocessing.sequence import pad_sequences\n",
        "import tensorflow as tf\n",
        "from tensorflow.keras import layers, models\n",
        "from tensorflow.keras.utils import to_categorical\n",
        "import keras\n",
        "from keras import layers\n",
        "from keras.callbacks import ModelCheckpoint, EarlyStopping\n",
        "\n",
        "import opensmile\n",
        "\n",
        "import pandas as pd\n",
        "import matplotlib.pyplot as plt\n",
        "import torch"
      ],
      "metadata": {
        "id": "9b_FCstUHi7I"
      },
      "execution_count": 3,
      "outputs": []
    },
    {
      "cell_type": "markdown",
      "source": [
        "**Loading dataset**\n",
        "\n",
        "using the gold standard train and test data"
      ],
      "metadata": {
        "id": "YD_lG9ExNHYi"
      }
    },
    {
      "cell_type": "code",
      "source": [
        "\n",
        "db = audformat.Database.load('emodb')\n",
        "\n",
        "df_test = db['emotion.categories.test.gold_standard'].get()\n",
        "\n",
        "df_train = db['emotion.categories.train.gold_standard'].get()\n",
        "\n",
        "print(f'samples in train: {df_train.shape[0]}, and test: {df_test.shape[0]}')\n",
        "\n"
      ],
      "metadata": {
        "colab": {
          "base_uri": "https://localhost:8080/"
        },
        "id": "bNusx50CHhiD",
        "outputId": "1142f884-aa82-4151-ff67-34dbb111cb80"
      },
      "execution_count": 4,
      "outputs": [
        {
          "output_type": "stream",
          "name": "stdout",
          "text": [
            "samples in train: 304, and test: 231\n"
          ]
        }
      ]
    },
    {
      "cell_type": "code",
      "source": [
        "# Encode the emotion words as numbers and use this as target\n",
        "target = 'label'\n",
        "encoder = LabelEncoder()\n",
        "encoder.fit(df_train['emotion'])\n",
        "df_train[target] = encoder.transform(df_train['emotion'])\n",
        "df_test[target] = encoder.transform(df_test['emotion'])"
      ],
      "metadata": {
        "id": "zO3a83x8HDun"
      },
      "execution_count": 5,
      "outputs": []
    },
    {
      "cell_type": "code",
      "source": [
        "df_test[target]"
      ],
      "metadata": {
        "colab": {
          "base_uri": "https://localhost:8080/"
        },
        "id": "eRF5tbAeHuHH",
        "outputId": "579a2085-8e51-40d3-cd96-d5f9370ff68c"
      },
      "execution_count": 6,
      "outputs": [
        {
          "output_type": "execute_result",
          "data": {
            "text/plain": [
              "file\n",
              "wav/12a01Fb.wav    4\n",
              "wav/12a01Lb.wav    1\n",
              "wav/12a01Nb.wav    5\n",
              "wav/12a01Wc.wav    0\n",
              "wav/12a02Ac.wav    3\n",
              "                  ..\n",
              "wav/16b10Lb.wav    1\n",
              "wav/16b10Tb.wav    6\n",
              "wav/16b10Td.wav    6\n",
              "wav/16b10Wa.wav    0\n",
              "wav/16b10Wb.wav    0\n",
              "Name: label, Length: 231, dtype: int64"
            ]
          },
          "metadata": {},
          "execution_count": 6
        }
      ]
    },
    {
      "cell_type": "markdown",
      "source": [
        "Using opensmile to extract raw features"
      ],
      "metadata": {
        "id": "t2b5mbIeNMsR"
      }
    },
    {
      "cell_type": "code",
      "source": [
        "\n",
        "\n",
        "smile = opensmile.Smile(\n",
        "    opensmile.FeatureSet.ComParE_2016,\n",
        "    opensmile.FeatureLevel.Functionals,\n",
        "    sampling_rate=16000,\n",
        "    resample=True,\n",
        "    num_workers=5,\n",
        "    verbose=True,\n",
        ")\n",
        "\n",
        "X_train = smile.process_index(\n",
        "    df_train.index,\n",
        "    root=db.root,\n",
        "\n",
        ")\n",
        "X_test = smile.process_index(\n",
        "    df_test.index,\n",
        "    root=db.root,\n",
        "\n",
        ")\n"
      ],
      "metadata": {
        "colab": {
          "base_uri": "https://localhost:8080/"
        },
        "id": "KOXyS8KsGbj2",
        "outputId": "6e5e4ebd-edc2-4411-eeeb-c20b59f4ace5"
      },
      "execution_count": 7,
      "outputs": [
        {
          "output_type": "stream",
          "name": "stderr",
          "text": []
        }
      ]
    },
    {
      "cell_type": "code",
      "source": [
        "X_train.head"
      ],
      "metadata": {
        "colab": {
          "base_uri": "https://localhost:8080/"
        },
        "id": "1NRD4YZGIoLc",
        "outputId": "a264c61f-7ff4-4810-8490-1f39df686c92"
      },
      "execution_count": 8,
      "outputs": [
        {
          "output_type": "execute_result",
          "data": {
            "text/plain": [
              "<bound method NDFrame.head of                                                   audspec_lengthL1norm_sma_range  \\\n",
              "file            start  end                                                         \n",
              "wav/03a01Fa.wav 0 days 0 days 00:00:01.898250                           2.935072   \n",
              "wav/03a01Nc.wav 0 days 0 days 00:00:01.611250                           3.087914   \n",
              "wav/03a01Wa.wav 0 days 0 days 00:00:01.877812500                        3.673083   \n",
              "wav/03a02Fc.wav 0 days 0 days 00:00:02.006250                           3.149658   \n",
              "wav/03a02Nc.wav 0 days 0 days 00:00:01.439812500                        2.437313   \n",
              "...                                                                          ...   \n",
              "wav/13b10Fa.wav 0 days 0 days 00:00:02.158562500                        3.092541   \n",
              "wav/13b10La.wav 0 days 0 days 00:00:02.348437500                        2.381379   \n",
              "wav/13b10Nc.wav 0 days 0 days 00:00:02.367812500                        2.680195   \n",
              "wav/13b10Wa.wav 0 days 0 days 00:00:02.200562500                        3.630123   \n",
              "wav/13b10Wc.wav 0 days 0 days 00:00:02.683312500                        3.386507   \n",
              "\n",
              "                                                  audspec_lengthL1norm_sma_maxPos  \\\n",
              "file            start  end                                                          \n",
              "wav/03a01Fa.wav 0 days 0 days 00:00:01.898250                            0.203297   \n",
              "wav/03a01Nc.wav 0 days 0 days 00:00:01.611250                            0.155844   \n",
              "wav/03a01Wa.wav 0 days 0 days 00:00:01.877812500                         0.677778   \n",
              "wav/03a02Fc.wav 0 days 0 days 00:00:02.006250                            0.549223   \n",
              "wav/03a02Nc.wav 0 days 0 days 00:00:01.439812500                         0.632353   \n",
              "...                                                                           ...   \n",
              "wav/13b10Fa.wav 0 days 0 days 00:00:02.158562500                         0.177885   \n",
              "wav/13b10La.wav 0 days 0 days 00:00:02.348437500                         0.325991   \n",
              "wav/13b10Nc.wav 0 days 0 days 00:00:02.367812500                         0.310044   \n",
              "wav/13b10Wa.wav 0 days 0 days 00:00:02.200562500                         0.713615   \n",
              "wav/13b10Wc.wav 0 days 0 days 00:00:02.683312500                         0.160920   \n",
              "\n",
              "                                                  audspec_lengthL1norm_sma_minPos  \\\n",
              "file            start  end                                                          \n",
              "wav/03a01Fa.wav 0 days 0 days 00:00:01.898250                            0.010989   \n",
              "wav/03a01Nc.wav 0 days 0 days 00:00:01.611250                            0.889610   \n",
              "wav/03a01Wa.wav 0 days 0 days 00:00:01.877812500                         0.011111   \n",
              "wav/03a02Fc.wav 0 days 0 days 00:00:02.006250                            0.720207   \n",
              "wav/03a02Nc.wav 0 days 0 days 00:00:01.439812500                         0.691176   \n",
              "...                                                                           ...   \n",
              "wav/13b10Fa.wav 0 days 0 days 00:00:02.158562500                         0.024038   \n",
              "wav/13b10La.wav 0 days 0 days 00:00:02.348437500                         0.004405   \n",
              "wav/13b10Nc.wav 0 days 0 days 00:00:02.367812500                         0.030568   \n",
              "wav/13b10Wa.wav 0 days 0 days 00:00:02.200562500                         0.000000   \n",
              "wav/13b10Wc.wav 0 days 0 days 00:00:02.683312500                         0.996169   \n",
              "\n",
              "                                                  audspec_lengthL1norm_sma_quartile1  \\\n",
              "file            start  end                                                             \n",
              "wav/03a01Fa.wav 0 days 0 days 00:00:01.898250                               0.295957   \n",
              "wav/03a01Nc.wav 0 days 0 days 00:00:01.611250                               0.230797   \n",
              "wav/03a01Wa.wav 0 days 0 days 00:00:01.877812500                            0.379012   \n",
              "wav/03a02Fc.wav 0 days 0 days 00:00:02.006250                               0.252871   \n",
              "wav/03a02Nc.wav 0 days 0 days 00:00:01.439812500                            0.386229   \n",
              "...                                                                              ...   \n",
              "wav/13b10Fa.wav 0 days 0 days 00:00:02.158562500                            0.538392   \n",
              "wav/13b10La.wav 0 days 0 days 00:00:02.348437500                            0.663416   \n",
              "wav/13b10Nc.wav 0 days 0 days 00:00:02.367812500                            0.639784   \n",
              "wav/13b10Wa.wav 0 days 0 days 00:00:02.200562500                            0.656939   \n",
              "wav/13b10Wc.wav 0 days 0 days 00:00:02.683312500                            0.472829   \n",
              "\n",
              "                                                  audspec_lengthL1norm_sma_quartile2  \\\n",
              "file            start  end                                                             \n",
              "wav/03a01Fa.wav 0 days 0 days 00:00:01.898250                               0.521095   \n",
              "wav/03a01Nc.wav 0 days 0 days 00:00:01.611250                               0.747830   \n",
              "wav/03a01Wa.wav 0 days 0 days 00:00:01.877812500                            0.901301   \n",
              "wav/03a02Fc.wav 0 days 0 days 00:00:02.006250                               0.691515   \n",
              "wav/03a02Nc.wav 0 days 0 days 00:00:01.439812500                            0.809192   \n",
              "...                                                                              ...   \n",
              "wav/13b10Fa.wav 0 days 0 days 00:00:02.158562500                            0.822808   \n",
              "wav/13b10La.wav 0 days 0 days 00:00:02.348437500                            0.985262   \n",
              "wav/13b10Nc.wav 0 days 0 days 00:00:02.367812500                            0.924629   \n",
              "wav/13b10Wa.wav 0 days 0 days 00:00:02.200562500                            1.065703   \n",
              "wav/13b10Wc.wav 0 days 0 days 00:00:02.683312500                            0.833184   \n",
              "\n",
              "                                                  audspec_lengthL1norm_sma_quartile3  \\\n",
              "file            start  end                                                             \n",
              "wav/03a01Fa.wav 0 days 0 days 00:00:01.898250                               1.027880   \n",
              "wav/03a01Nc.wav 0 days 0 days 00:00:01.611250                               1.160158   \n",
              "wav/03a01Wa.wav 0 days 0 days 00:00:01.877812500                            1.801537   \n",
              "wav/03a02Fc.wav 0 days 0 days 00:00:02.006250                               1.456156   \n",
              "wav/03a02Nc.wav 0 days 0 days 00:00:01.439812500                            1.433426   \n",
              "...                                                                              ...   \n",
              "wav/13b10Fa.wav 0 days 0 days 00:00:02.158562500                            1.446496   \n",
              "wav/13b10La.wav 0 days 0 days 00:00:02.348437500                            1.369065   \n",
              "wav/13b10Nc.wav 0 days 0 days 00:00:02.367812500                            1.338478   \n",
              "wav/13b10Wa.wav 0 days 0 days 00:00:02.200562500                            1.683496   \n",
              "wav/13b10Wc.wav 0 days 0 days 00:00:02.683312500                            1.200342   \n",
              "\n",
              "                                                  audspec_lengthL1norm_sma_iqr1-2  \\\n",
              "file            start  end                                                          \n",
              "wav/03a01Fa.wav 0 days 0 days 00:00:01.898250                            0.225138   \n",
              "wav/03a01Nc.wav 0 days 0 days 00:00:01.611250                            0.517033   \n",
              "wav/03a01Wa.wav 0 days 0 days 00:00:01.877812500                         0.522289   \n",
              "wav/03a02Fc.wav 0 days 0 days 00:00:02.006250                            0.438644   \n",
              "wav/03a02Nc.wav 0 days 0 days 00:00:01.439812500                         0.422963   \n",
              "...                                                                           ...   \n",
              "wav/13b10Fa.wav 0 days 0 days 00:00:02.158562500                         0.284416   \n",
              "wav/13b10La.wav 0 days 0 days 00:00:02.348437500                         0.321846   \n",
              "wav/13b10Nc.wav 0 days 0 days 00:00:02.367812500                         0.284846   \n",
              "wav/13b10Wa.wav 0 days 0 days 00:00:02.200562500                         0.408764   \n",
              "wav/13b10Wc.wav 0 days 0 days 00:00:02.683312500                         0.360355   \n",
              "\n",
              "                                                  audspec_lengthL1norm_sma_iqr2-3  \\\n",
              "file            start  end                                                          \n",
              "wav/03a01Fa.wav 0 days 0 days 00:00:01.898250                            0.506785   \n",
              "wav/03a01Nc.wav 0 days 0 days 00:00:01.611250                            0.412327   \n",
              "wav/03a01Wa.wav 0 days 0 days 00:00:01.877812500                         0.900236   \n",
              "wav/03a02Fc.wav 0 days 0 days 00:00:02.006250                            0.764641   \n",
              "wav/03a02Nc.wav 0 days 0 days 00:00:01.439812500                         0.624234   \n",
              "...                                                                           ...   \n",
              "wav/13b10Fa.wav 0 days 0 days 00:00:02.158562500                         0.623688   \n",
              "wav/13b10La.wav 0 days 0 days 00:00:02.348437500                         0.383803   \n",
              "wav/13b10Nc.wav 0 days 0 days 00:00:02.367812500                         0.413849   \n",
              "wav/13b10Wa.wav 0 days 0 days 00:00:02.200562500                         0.617793   \n",
              "wav/13b10Wc.wav 0 days 0 days 00:00:02.683312500                         0.367158   \n",
              "\n",
              "                                                  audspec_lengthL1norm_sma_iqr1-3  \\\n",
              "file            start  end                                                          \n",
              "wav/03a01Fa.wav 0 days 0 days 00:00:01.898250                            0.731923   \n",
              "wav/03a01Nc.wav 0 days 0 days 00:00:01.611250                            0.929361   \n",
              "wav/03a01Wa.wav 0 days 0 days 00:00:01.877812500                         1.422525   \n",
              "wav/03a02Fc.wav 0 days 0 days 00:00:02.006250                            1.203285   \n",
              "wav/03a02Nc.wav 0 days 0 days 00:00:01.439812500                         1.047197   \n",
              "...                                                                           ...   \n",
              "wav/13b10Fa.wav 0 days 0 days 00:00:02.158562500                         0.908104   \n",
              "wav/13b10La.wav 0 days 0 days 00:00:02.348437500                         0.705649   \n",
              "wav/13b10Nc.wav 0 days 0 days 00:00:02.367812500                         0.698695   \n",
              "wav/13b10Wa.wav 0 days 0 days 00:00:02.200562500                         1.026557   \n",
              "wav/13b10Wc.wav 0 days 0 days 00:00:02.683312500                         0.727513   \n",
              "\n",
              "                                                  audspec_lengthL1norm_sma_percentile1.0  \\\n",
              "file            start  end                                                                 \n",
              "wav/03a01Fa.wav 0 days 0 days 00:00:01.898250                                   0.036379   \n",
              "wav/03a01Nc.wav 0 days 0 days 00:00:01.611250                                   0.039586   \n",
              "wav/03a01Wa.wav 0 days 0 days 00:00:01.877812500                                0.027108   \n",
              "wav/03a02Fc.wav 0 days 0 days 00:00:02.006250                                   0.044348   \n",
              "wav/03a02Nc.wav 0 days 0 days 00:00:01.439812500                                0.047513   \n",
              "...                                                                                  ...   \n",
              "wav/13b10Fa.wav 0 days 0 days 00:00:02.158562500                                0.048754   \n",
              "wav/13b10La.wav 0 days 0 days 00:00:02.348437500                                0.077727   \n",
              "wav/13b10Nc.wav 0 days 0 days 00:00:02.367812500                                0.093611   \n",
              "wav/13b10Wa.wav 0 days 0 days 00:00:02.200562500                                0.034931   \n",
              "wav/13b10Wc.wav 0 days 0 days 00:00:02.683312500                                0.042650   \n",
              "\n",
              "                                                  ...  \\\n",
              "file            start  end                        ...   \n",
              "wav/03a01Fa.wav 0 days 0 days 00:00:01.898250     ...   \n",
              "wav/03a01Nc.wav 0 days 0 days 00:00:01.611250     ...   \n",
              "wav/03a01Wa.wav 0 days 0 days 00:00:01.877812500  ...   \n",
              "wav/03a02Fc.wav 0 days 0 days 00:00:02.006250     ...   \n",
              "wav/03a02Nc.wav 0 days 0 days 00:00:01.439812500  ...   \n",
              "...                                               ...   \n",
              "wav/13b10Fa.wav 0 days 0 days 00:00:02.158562500  ...   \n",
              "wav/13b10La.wav 0 days 0 days 00:00:02.348437500  ...   \n",
              "wav/13b10Nc.wav 0 days 0 days 00:00:02.367812500  ...   \n",
              "wav/13b10Wa.wav 0 days 0 days 00:00:02.200562500  ...   \n",
              "wav/13b10Wc.wav 0 days 0 days 00:00:02.683312500  ...   \n",
              "\n",
              "                                                  mfcc_sma_de[14]_peakRangeAbs  \\\n",
              "file            start  end                                                       \n",
              "wav/03a01Fa.wav 0 days 0 days 00:00:01.898250                         4.534245   \n",
              "wav/03a01Nc.wav 0 days 0 days 00:00:01.611250                         5.695178   \n",
              "wav/03a01Wa.wav 0 days 0 days 00:00:01.877812500                      8.072537   \n",
              "wav/03a02Fc.wav 0 days 0 days 00:00:02.006250                         8.049533   \n",
              "wav/03a02Nc.wav 0 days 0 days 00:00:01.439812500                      6.743878   \n",
              "...                                                                        ...   \n",
              "wav/13b10Fa.wav 0 days 0 days 00:00:02.158562500                      9.523122   \n",
              "wav/13b10La.wav 0 days 0 days 00:00:02.348437500                      5.251092   \n",
              "wav/13b10Nc.wav 0 days 0 days 00:00:02.367812500                      6.959195   \n",
              "wav/13b10Wa.wav 0 days 0 days 00:00:02.200562500                      6.996676   \n",
              "wav/13b10Wc.wav 0 days 0 days 00:00:02.683312500                      8.394814   \n",
              "\n",
              "                                                  mfcc_sma_de[14]_peakRangeRel  \\\n",
              "file            start  end                                                       \n",
              "wav/03a01Fa.wav 0 days 0 days 00:00:01.898250                         0.369439   \n",
              "wav/03a01Nc.wav 0 days 0 days 00:00:01.611250                         0.373871   \n",
              "wav/03a01Wa.wav 0 days 0 days 00:00:01.877812500                      0.486622   \n",
              "wav/03a02Fc.wav 0 days 0 days 00:00:02.006250                         0.537332   \n",
              "wav/03a02Nc.wav 0 days 0 days 00:00:01.439812500                      0.511177   \n",
              "...                                                                        ...   \n",
              "wav/13b10Fa.wav 0 days 0 days 00:00:02.158562500                      0.457842   \n",
              "wav/13b10La.wav 0 days 0 days 00:00:02.348437500                      0.433123   \n",
              "wav/13b10Nc.wav 0 days 0 days 00:00:02.367812500                      0.476422   \n",
              "wav/13b10Wa.wav 0 days 0 days 00:00:02.200562500                      0.422796   \n",
              "wav/13b10Wc.wav 0 days 0 days 00:00:02.683312500                      0.489331   \n",
              "\n",
              "                                                  mfcc_sma_de[14]_peakMeanAbs  \\\n",
              "file            start  end                                                      \n",
              "wav/03a01Fa.wav 0 days 0 days 00:00:01.898250                        2.608829   \n",
              "wav/03a01Nc.wav 0 days 0 days 00:00:01.611250                        3.123539   \n",
              "wav/03a01Wa.wav 0 days 0 days 00:00:01.877812500                     3.802572   \n",
              "wav/03a02Fc.wav 0 days 0 days 00:00:02.006250                        3.237765   \n",
              "wav/03a02Nc.wav 0 days 0 days 00:00:01.439812500                     2.217380   \n",
              "...                                                                       ...   \n",
              "wav/13b10Fa.wav 0 days 0 days 00:00:02.158562500                     3.847104   \n",
              "wav/13b10La.wav 0 days 0 days 00:00:02.348437500                     2.525344   \n",
              "wav/13b10Nc.wav 0 days 0 days 00:00:02.367812500                     3.486575   \n",
              "wav/13b10Wa.wav 0 days 0 days 00:00:02.200562500                     3.944353   \n",
              "wav/13b10Wc.wav 0 days 0 days 00:00:02.683312500                     4.153439   \n",
              "\n",
              "                                                  mfcc_sma_de[14]_peakMeanMeanDist  \\\n",
              "file            start  end                                                           \n",
              "wav/03a01Fa.wav 0 days 0 days 00:00:01.898250                             2.575876   \n",
              "wav/03a01Nc.wav 0 days 0 days 00:00:01.611250                             3.173356   \n",
              "wav/03a01Wa.wav 0 days 0 days 00:00:01.877812500                          3.807790   \n",
              "wav/03a02Fc.wav 0 days 0 days 00:00:02.006250                             3.310604   \n",
              "wav/03a02Nc.wav 0 days 0 days 00:00:01.439812500                          2.281038   \n",
              "...                                                                            ...   \n",
              "wav/13b10Fa.wav 0 days 0 days 00:00:02.158562500                          3.899788   \n",
              "wav/13b10La.wav 0 days 0 days 00:00:02.348437500                          2.519662   \n",
              "wav/13b10Nc.wav 0 days 0 days 00:00:02.367812500                          3.484844   \n",
              "wav/13b10Wa.wav 0 days 0 days 00:00:02.200562500                          3.926158   \n",
              "wav/13b10Wc.wav 0 days 0 days 00:00:02.683312500                          4.178314   \n",
              "\n",
              "                                                  mfcc_sma_de[14]_peakMeanRel  \\\n",
              "file            start  end                                                      \n",
              "wav/03a01Fa.wav 0 days 0 days 00:00:01.898250                       19.005924   \n",
              "wav/03a01Nc.wav 0 days 0 days 00:00:01.611250                      -18.526028   \n",
              "wav/03a01Wa.wav 0 days 0 days 00:00:01.877812500                   -19.999348   \n",
              "wav/03a02Fc.wav 0 days 0 days 00:00:02.006250                      -17.577114   \n",
              "wav/03a02Nc.wav 0 days 0 days 00:00:01.439812500                   -16.731733   \n",
              "...                                                                       ...   \n",
              "wav/13b10Fa.wav 0 days 0 days 00:00:02.158562500                   -18.854122   \n",
              "wav/13b10La.wav 0 days 0 days 00:00:02.348437500                    19.992928   \n",
              "wav/13b10Nc.wav 0 days 0 days 00:00:02.367812500                    20.000000   \n",
              "wav/13b10Wa.wav 0 days 0 days 00:00:02.200562500                    19.906961   \n",
              "wav/13b10Wc.wav 0 days 0 days 00:00:02.683312500                   -19.806301   \n",
              "\n",
              "                                                  mfcc_sma_de[14]_minRangeRel  \\\n",
              "file            start  end                                                      \n",
              "wav/03a01Fa.wav 0 days 0 days 00:00:01.898250                        0.681891   \n",
              "wav/03a01Nc.wav 0 days 0 days 00:00:01.611250                        0.684225   \n",
              "wav/03a01Wa.wav 0 days 0 days 00:00:01.877812500                     0.385978   \n",
              "wav/03a02Fc.wav 0 days 0 days 00:00:02.006250                        0.442254   \n",
              "wav/03a02Nc.wav 0 days 0 days 00:00:01.439812500                     0.492748   \n",
              "...                                                                       ...   \n",
              "wav/13b10Fa.wav 0 days 0 days 00:00:02.158562500                     0.499040   \n",
              "wav/13b10La.wav 0 days 0 days 00:00:02.348437500                     0.553082   \n",
              "wav/13b10Nc.wav 0 days 0 days 00:00:02.367812500                     0.459337   \n",
              "wav/13b10Wa.wav 0 days 0 days 00:00:02.200562500                     0.494384   \n",
              "wav/13b10Wc.wav 0 days 0 days 00:00:02.683312500                     0.635713   \n",
              "\n",
              "                                                  mfcc_sma_de[14]_meanRisingSlope  \\\n",
              "file            start  end                                                          \n",
              "wav/03a01Fa.wav 0 days 0 days 00:00:01.898250                          117.093933   \n",
              "wav/03a01Nc.wav 0 days 0 days 00:00:01.611250                          126.975647   \n",
              "wav/03a01Wa.wav 0 days 0 days 00:00:01.877812500                       177.820740   \n",
              "wav/03a02Fc.wav 0 days 0 days 00:00:02.006250                          161.931686   \n",
              "wav/03a02Nc.wav 0 days 0 days 00:00:01.439812500                       106.720039   \n",
              "...                                                                           ...   \n",
              "wav/13b10Fa.wav 0 days 0 days 00:00:02.158562500                       164.151596   \n",
              "wav/13b10La.wav 0 days 0 days 00:00:02.348437500                       111.519310   \n",
              "wav/13b10Nc.wav 0 days 0 days 00:00:02.367812500                       136.396820   \n",
              "wav/13b10Wa.wav 0 days 0 days 00:00:02.200562500                       173.685638   \n",
              "wav/13b10Wc.wav 0 days 0 days 00:00:02.683312500                       150.440933   \n",
              "\n",
              "                                                  mfcc_sma_de[14]_stddevRisingSlope  \\\n",
              "file            start  end                                                            \n",
              "wav/03a01Fa.wav 0 days 0 days 00:00:01.898250                             56.662125   \n",
              "wav/03a01Nc.wav 0 days 0 days 00:00:01.611250                             63.870255   \n",
              "wav/03a01Wa.wav 0 days 0 days 00:00:01.877812500                          89.425529   \n",
              "wav/03a02Fc.wav 0 days 0 days 00:00:02.006250                             82.129478   \n",
              "wav/03a02Nc.wav 0 days 0 days 00:00:01.439812500                          57.315079   \n",
              "...                                                                             ...   \n",
              "wav/13b10Fa.wav 0 days 0 days 00:00:02.158562500                          50.696602   \n",
              "wav/13b10La.wav 0 days 0 days 00:00:02.348437500                          57.050812   \n",
              "wav/13b10Nc.wav 0 days 0 days 00:00:02.367812500                          73.896828   \n",
              "wav/13b10Wa.wav 0 days 0 days 00:00:02.200562500                          98.499344   \n",
              "wav/13b10Wc.wav 0 days 0 days 00:00:02.683312500                          82.409042   \n",
              "\n",
              "                                                  mfcc_sma_de[14]_meanFallingSlope  \\\n",
              "file            start  end                                                           \n",
              "wav/03a01Fa.wav 0 days 0 days 00:00:01.898250                           120.517212   \n",
              "wav/03a01Nc.wav 0 days 0 days 00:00:01.611250                           157.944702   \n",
              "wav/03a01Wa.wav 0 days 0 days 00:00:01.877812500                        153.756653   \n",
              "wav/03a02Fc.wav 0 days 0 days 00:00:02.006250                           134.208984   \n",
              "wav/03a02Nc.wav 0 days 0 days 00:00:01.439812500                         97.520103   \n",
              "...                                                                            ...   \n",
              "wav/13b10Fa.wav 0 days 0 days 00:00:02.158562500                        148.998123   \n",
              "wav/13b10La.wav 0 days 0 days 00:00:02.348437500                         95.731750   \n",
              "wav/13b10Nc.wav 0 days 0 days 00:00:02.367812500                        120.085526   \n",
              "wav/13b10Wa.wav 0 days 0 days 00:00:02.200562500                        161.770462   \n",
              "wav/13b10Wc.wav 0 days 0 days 00:00:02.683312500                        172.160355   \n",
              "\n",
              "                                                  mfcc_sma_de[14]_stddevFallingSlope  \n",
              "file            start  end                                                            \n",
              "wav/03a01Fa.wav 0 days 0 days 00:00:01.898250                              53.837585  \n",
              "wav/03a01Nc.wav 0 days 0 days 00:00:01.611250                              60.625206  \n",
              "wav/03a01Wa.wav 0 days 0 days 00:00:01.877812500                           92.122215  \n",
              "wav/03a02Fc.wav 0 days 0 days 00:00:02.006250                              73.309341  \n",
              "wav/03a02Nc.wav 0 days 0 days 00:00:01.439812500                           41.168545  \n",
              "...                                                                              ...  \n",
              "wav/13b10Fa.wav 0 days 0 days 00:00:02.158562500                           82.034767  \n",
              "wav/13b10La.wav 0 days 0 days 00:00:02.348437500                           57.652996  \n",
              "wav/13b10Nc.wav 0 days 0 days 00:00:02.367812500                           61.135952  \n",
              "wav/13b10Wa.wav 0 days 0 days 00:00:02.200562500                           76.496948  \n",
              "wav/13b10Wc.wav 0 days 0 days 00:00:02.683312500                           78.048943  \n",
              "\n",
              "[304 rows x 6373 columns]>"
            ]
          },
          "metadata": {},
          "execution_count": 8
        }
      ]
    },
    {
      "cell_type": "code",
      "source": [
        "labels_encoded = {'anger':0, 'boredom':1, 'disgust':2, 'fear':3, 'happiness':4, 'sadness':5, 'neutral':6}\n",
        "df_train['label']=df_train['emotion'].apply(lambda x:labels_encoded[x])\n",
        "df_test['label']=df_test['emotion'].apply(lambda x:labels_encoded[x])\n",
        "\n",
        "y_train=np.array(df_train.label)\n",
        "y_test=np.array(df_test.label)"
      ],
      "metadata": {
        "id": "l44skayic2aj"
      },
      "execution_count": 9,
      "outputs": []
    },
    {
      "cell_type": "code",
      "source": [
        "print(y_train.shape)\n",
        "print(y_test.shape)"
      ],
      "metadata": {
        "colab": {
          "base_uri": "https://localhost:8080/"
        },
        "id": "GKAqFaz4y6jQ",
        "outputId": "49f7c7bc-1021-4ad9-f4d7-ce7416f7b650"
      },
      "execution_count": 10,
      "outputs": [
        {
          "output_type": "stream",
          "name": "stdout",
          "text": [
            "(304,)\n",
            "(231,)\n"
          ]
        }
      ]
    },
    {
      "cell_type": "code",
      "source": [
        "# Perform a standard scaling / z-transformation on the features (mean=0, std=1)\n",
        "scaler = StandardScaler()\n",
        "scaler.fit(X_train)\n",
        "X_train = pd.DataFrame(scaler.transform(X_train))\n",
        "X_test = pd.DataFrame(scaler.transform(X_test))"
      ],
      "metadata": {
        "id": "I36o-MmZK6rs"
      },
      "execution_count": 11,
      "outputs": []
    },
    {
      "cell_type": "markdown",
      "source": [
        "**Balancing classes**"
      ],
      "metadata": {
        "id": "IG6a9bAINTKy"
      }
    },
    {
      "cell_type": "code",
      "source": [
        "# # balance train classes\n",
        "sm = SMOTE()\n",
        "X_train, y_train = sm.fit_resample(X_train, y_train)"
      ],
      "metadata": {
        "id": "z2H_wVD1K0aD"
      },
      "execution_count": 12,
      "outputs": []
    },
    {
      "cell_type": "code",
      "source": [
        "encoder = OneHotEncoder(sparse=False)\n",
        "y_train= y_train.reshape(-1, 1)\n",
        "print(y_train.shape)\n",
        "y_train = encoder.fit_transform(y_train)\n",
        "print(y_train.shape)\n",
        "y_test= y_test.reshape(-1, 1)\n",
        "print(y_test.shape)\n",
        "y_test = encoder.fit_transform(y_test)\n",
        "print(y_test.shape)"
      ],
      "metadata": {
        "colab": {
          "base_uri": "https://localhost:8080/"
        },
        "id": "aqW_uB2Baa7u",
        "outputId": "4d643c13-5856-4d24-c57d-70a23432e487"
      },
      "execution_count": 13,
      "outputs": [
        {
          "output_type": "stream",
          "name": "stdout",
          "text": [
            "(504, 1)\n",
            "(504, 7)\n",
            "(231, 1)\n",
            "(231, 7)\n"
          ]
        },
        {
          "output_type": "stream",
          "name": "stderr",
          "text": [
            "/usr/local/lib/python3.10/dist-packages/sklearn/preprocessing/_encoders.py:868: FutureWarning: `sparse` was renamed to `sparse_output` in version 1.2 and will be removed in 1.4. `sparse_output` is ignored unless you leave `sparse` to its default value.\n",
            "  warnings.warn(\n",
            "/usr/local/lib/python3.10/dist-packages/sklearn/preprocessing/_encoders.py:868: FutureWarning: `sparse` was renamed to `sparse_output` in version 1.2 and will be removed in 1.4. `sparse_output` is ignored unless you leave `sparse` to its default value.\n",
            "  warnings.warn(\n"
          ]
        }
      ]
    },
    {
      "cell_type": "code",
      "source": [
        "print(y_test[0],df_test.label[0])"
      ],
      "metadata": {
        "colab": {
          "base_uri": "https://localhost:8080/"
        },
        "id": "xV-SLkecBlkR",
        "outputId": "bceef784-605f-408f-ba1b-ac3741d67423"
      },
      "execution_count": 14,
      "outputs": [
        {
          "output_type": "stream",
          "name": "stdout",
          "text": [
            "[0. 0. 0. 0. 1. 0. 0.] 4\n"
          ]
        }
      ]
    },
    {
      "cell_type": "code",
      "source": [
        "model = models.Sequential([\n",
        "    layers.Dense(16, activation='relu'),\n",
        "    # layers.Dense(128, activation='relu'),\n",
        "    layers.Dense(len(labels_encoded), activation='softmax')  # Output layer with number of emotions\n",
        "])"
      ],
      "metadata": {
        "id": "9imOUBgwcfRx"
      },
      "execution_count": 15,
      "outputs": []
    },
    {
      "cell_type": "code",
      "source": [
        "model.compile(loss='categorical_crossentropy', optimizer='adam', metrics=['accuracy'])\n",
        "# print(str(model.summary()))"
      ],
      "metadata": {
        "id": "PRYaVDvZdMBN"
      },
      "execution_count": 16,
      "outputs": []
    },
    {
      "cell_type": "code",
      "source": [
        "best_weights_file = \"nn_weights.h5\"\n",
        "es = EarlyStopping(monitor='val_loss', mode='min', verbose=2, patience=10)\n",
        "mc = ModelCheckpoint(best_weights_file, monitor='val_loss', mode='min', verbose=2,\n",
        "                         save_best_only=True)\n",
        "model.fit(X_train, y_train, epochs=30, batch_size=32, validation_split=0.2,callbacks=[es, mc])"
      ],
      "metadata": {
        "colab": {
          "base_uri": "https://localhost:8080/"
        },
        "id": "qF_3Egx-dR8p",
        "outputId": "2e4d8fdf-cfad-47f5-850a-5cb2f7327370"
      },
      "execution_count": 17,
      "outputs": [
        {
          "output_type": "stream",
          "name": "stdout",
          "text": [
            "Epoch 1/30\n",
            " 8/13 [=================>............] - ETA: 0s - loss: 1.3997 - accuracy: 0.4922 \n",
            "Epoch 1: val_loss improved from inf to 0.19087, saving model to nn_weights.h5\n",
            "13/13 [==============================] - 2s 55ms/step - loss: 1.0873 - accuracy: 0.6228 - val_loss: 0.1909 - val_accuracy: 0.9604\n",
            "Epoch 2/30\n",
            "13/13 [==============================] - ETA: 0s - loss: 0.1756 - accuracy: 0.9479"
          ]
        },
        {
          "output_type": "stream",
          "name": "stderr",
          "text": [
            "/usr/local/lib/python3.10/dist-packages/keras/src/engine/training.py:3079: UserWarning: You are saving your model as an HDF5 file via `model.save()`. This file format is considered legacy. We recommend using instead the native Keras format, e.g. `model.save('my_model.keras')`.\n",
            "  saving_api.save_model(\n"
          ]
        },
        {
          "output_type": "stream",
          "name": "stdout",
          "text": [
            "\n",
            "Epoch 2: val_loss improved from 0.19087 to 0.06215, saving model to nn_weights.h5\n",
            "13/13 [==============================] - 0s 19ms/step - loss: 0.1756 - accuracy: 0.9479 - val_loss: 0.0621 - val_accuracy: 1.0000\n",
            "Epoch 3/30\n",
            " 8/13 [=================>............] - ETA: 0s - loss: 0.0550 - accuracy: 0.9961\n",
            "Epoch 3: val_loss improved from 0.06215 to 0.03364, saving model to nn_weights.h5\n",
            "13/13 [==============================] - 0s 14ms/step - loss: 0.0507 - accuracy: 0.9950 - val_loss: 0.0336 - val_accuracy: 1.0000\n",
            "Epoch 4/30\n",
            " 8/13 [=================>............] - ETA: 0s - loss: 0.0236 - accuracy: 1.0000\n",
            "Epoch 4: val_loss improved from 0.03364 to 0.00821, saving model to nn_weights.h5\n",
            "13/13 [==============================] - 0s 14ms/step - loss: 0.0206 - accuracy: 1.0000 - val_loss: 0.0082 - val_accuracy: 1.0000\n",
            "Epoch 5/30\n",
            " 7/13 [===============>..............] - ETA: 0s - loss: 0.0127 - accuracy: 1.0000\n",
            "Epoch 5: val_loss improved from 0.00821 to 0.00561, saving model to nn_weights.h5\n",
            "13/13 [==============================] - 0s 16ms/step - loss: 0.0126 - accuracy: 1.0000 - val_loss: 0.0056 - val_accuracy: 1.0000\n",
            "Epoch 6/30\n",
            " 8/13 [=================>............] - ETA: 0s - loss: 0.0085 - accuracy: 1.0000\n",
            "Epoch 6: val_loss improved from 0.00561 to 0.00500, saving model to nn_weights.h5\n",
            "13/13 [==============================] - 0s 12ms/step - loss: 0.0078 - accuracy: 1.0000 - val_loss: 0.0050 - val_accuracy: 1.0000\n",
            "Epoch 7/30\n",
            "10/13 [======================>.......] - ETA: 0s - loss: 0.0063 - accuracy: 1.0000\n",
            "Epoch 7: val_loss improved from 0.00500 to 0.00445, saving model to nn_weights.h5\n",
            "13/13 [==============================] - 0s 11ms/step - loss: 0.0059 - accuracy: 1.0000 - val_loss: 0.0044 - val_accuracy: 1.0000\n",
            "Epoch 8/30\n",
            "12/13 [==========================>...] - ETA: 0s - loss: 0.0051 - accuracy: 1.0000\n",
            "Epoch 8: val_loss improved from 0.00445 to 0.00402, saving model to nn_weights.h5\n",
            "13/13 [==============================] - 0s 11ms/step - loss: 0.0049 - accuracy: 1.0000 - val_loss: 0.0040 - val_accuracy: 1.0000\n",
            "Epoch 9/30\n",
            "11/13 [========================>.....] - ETA: 0s - loss: 0.0043 - accuracy: 1.0000\n",
            "Epoch 9: val_loss improved from 0.00402 to 0.00366, saving model to nn_weights.h5\n",
            "13/13 [==============================] - 0s 11ms/step - loss: 0.0042 - accuracy: 1.0000 - val_loss: 0.0037 - val_accuracy: 1.0000\n",
            "Epoch 10/30\n",
            "12/13 [==========================>...] - ETA: 0s - loss: 0.0037 - accuracy: 1.0000\n",
            "Epoch 10: val_loss improved from 0.00366 to 0.00333, saving model to nn_weights.h5\n",
            "13/13 [==============================] - 0s 9ms/step - loss: 0.0036 - accuracy: 1.0000 - val_loss: 0.0033 - val_accuracy: 1.0000\n",
            "Epoch 11/30\n",
            "12/13 [==========================>...] - ETA: 0s - loss: 0.0031 - accuracy: 1.0000\n",
            "Epoch 11: val_loss improved from 0.00333 to 0.00310, saving model to nn_weights.h5\n",
            "13/13 [==============================] - 0s 11ms/step - loss: 0.0031 - accuracy: 1.0000 - val_loss: 0.0031 - val_accuracy: 1.0000\n",
            "Epoch 12/30\n",
            " 9/13 [===================>..........] - ETA: 0s - loss: 0.0029 - accuracy: 1.0000\n",
            "Epoch 12: val_loss improved from 0.00310 to 0.00284, saving model to nn_weights.h5\n",
            "13/13 [==============================] - 0s 11ms/step - loss: 0.0028 - accuracy: 1.0000 - val_loss: 0.0028 - val_accuracy: 1.0000\n",
            "Epoch 13/30\n",
            "11/13 [========================>.....] - ETA: 0s - loss: 0.0026 - accuracy: 1.0000\n",
            "Epoch 13: val_loss improved from 0.00284 to 0.00266, saving model to nn_weights.h5\n",
            "13/13 [==============================] - 0s 11ms/step - loss: 0.0025 - accuracy: 1.0000 - val_loss: 0.0027 - val_accuracy: 1.0000\n",
            "Epoch 14/30\n",
            "11/13 [========================>.....] - ETA: 0s - loss: 0.0023 - accuracy: 1.0000\n",
            "Epoch 14: val_loss improved from 0.00266 to 0.00250, saving model to nn_weights.h5\n",
            "13/13 [==============================] - 0s 11ms/step - loss: 0.0023 - accuracy: 1.0000 - val_loss: 0.0025 - val_accuracy: 1.0000\n",
            "Epoch 15/30\n",
            "13/13 [==============================] - ETA: 0s - loss: 0.0021 - accuracy: 1.0000\n",
            "Epoch 15: val_loss improved from 0.00250 to 0.00235, saving model to nn_weights.h5\n",
            "13/13 [==============================] - 0s 11ms/step - loss: 0.0021 - accuracy: 1.0000 - val_loss: 0.0023 - val_accuracy: 1.0000\n",
            "Epoch 16/30\n",
            "10/13 [======================>.......] - ETA: 0s - loss: 0.0019 - accuracy: 1.0000\n",
            "Epoch 16: val_loss improved from 0.00235 to 0.00219, saving model to nn_weights.h5\n",
            "13/13 [==============================] - 0s 11ms/step - loss: 0.0019 - accuracy: 1.0000 - val_loss: 0.0022 - val_accuracy: 1.0000\n",
            "Epoch 17/30\n",
            "12/13 [==========================>...] - ETA: 0s - loss: 0.0017 - accuracy: 1.0000\n",
            "Epoch 17: val_loss improved from 0.00219 to 0.00207, saving model to nn_weights.h5\n",
            "13/13 [==============================] - 0s 11ms/step - loss: 0.0017 - accuracy: 1.0000 - val_loss: 0.0021 - val_accuracy: 1.0000\n",
            "Epoch 18/30\n",
            "12/13 [==========================>...] - ETA: 0s - loss: 0.0016 - accuracy: 1.0000\n",
            "Epoch 18: val_loss improved from 0.00207 to 0.00191, saving model to nn_weights.h5\n",
            "13/13 [==============================] - 0s 10ms/step - loss: 0.0016 - accuracy: 1.0000 - val_loss: 0.0019 - val_accuracy: 1.0000\n",
            "Epoch 19/30\n",
            " 9/13 [===================>..........] - ETA: 0s - loss: 0.0015 - accuracy: 1.0000\n",
            "Epoch 19: val_loss improved from 0.00191 to 0.00181, saving model to nn_weights.h5\n",
            "13/13 [==============================] - 0s 11ms/step - loss: 0.0015 - accuracy: 1.0000 - val_loss: 0.0018 - val_accuracy: 1.0000\n",
            "Epoch 20/30\n",
            "11/13 [========================>.....] - ETA: 0s - loss: 0.0013 - accuracy: 1.0000    \n",
            "Epoch 20: val_loss improved from 0.00181 to 0.00172, saving model to nn_weights.h5\n",
            "13/13 [==============================] - 0s 11ms/step - loss: 0.0014 - accuracy: 1.0000 - val_loss: 0.0017 - val_accuracy: 1.0000\n",
            "Epoch 21/30\n",
            "11/13 [========================>.....] - ETA: 0s - loss: 0.0013 - accuracy: 1.0000\n",
            "Epoch 21: val_loss improved from 0.00172 to 0.00163, saving model to nn_weights.h5\n",
            "13/13 [==============================] - 0s 11ms/step - loss: 0.0013 - accuracy: 1.0000 - val_loss: 0.0016 - val_accuracy: 1.0000\n",
            "Epoch 22/30\n",
            "12/13 [==========================>...] - ETA: 0s - loss: 0.0012 - accuracy: 1.0000\n",
            "Epoch 22: val_loss improved from 0.00163 to 0.00155, saving model to nn_weights.h5\n",
            "13/13 [==============================] - 0s 10ms/step - loss: 0.0012 - accuracy: 1.0000 - val_loss: 0.0015 - val_accuracy: 1.0000\n",
            "Epoch 23/30\n",
            "11/13 [========================>.....] - ETA: 0s - loss: 0.0012 - accuracy: 1.0000\n",
            "Epoch 23: val_loss improved from 0.00155 to 0.00146, saving model to nn_weights.h5\n",
            "13/13 [==============================] - 0s 11ms/step - loss: 0.0012 - accuracy: 1.0000 - val_loss: 0.0015 - val_accuracy: 1.0000\n",
            "Epoch 24/30\n",
            "11/13 [========================>.....] - ETA: 0s - loss: 0.0011 - accuracy: 1.0000\n",
            "Epoch 24: val_loss improved from 0.00146 to 0.00140, saving model to nn_weights.h5\n",
            "13/13 [==============================] - 0s 11ms/step - loss: 0.0011 - accuracy: 1.0000 - val_loss: 0.0014 - val_accuracy: 1.0000\n",
            "Epoch 25/30\n",
            "12/13 [==========================>...] - ETA: 0s - loss: 0.0010 - accuracy: 1.0000\n",
            "Epoch 25: val_loss improved from 0.00140 to 0.00134, saving model to nn_weights.h5\n",
            "13/13 [==============================] - 0s 10ms/step - loss: 0.0010 - accuracy: 1.0000 - val_loss: 0.0013 - val_accuracy: 1.0000\n",
            "Epoch 26/30\n",
            "12/13 [==========================>...] - ETA: 0s - loss: 9.5890e-04 - accuracy: 1.0000\n",
            "Epoch 26: val_loss improved from 0.00134 to 0.00128, saving model to nn_weights.h5\n",
            "13/13 [==============================] - 0s 10ms/step - loss: 9.6852e-04 - accuracy: 1.0000 - val_loss: 0.0013 - val_accuracy: 1.0000\n",
            "Epoch 27/30\n",
            "12/13 [==========================>...] - ETA: 0s - loss: 9.1805e-04 - accuracy: 1.0000\n",
            "Epoch 27: val_loss improved from 0.00128 to 0.00123, saving model to nn_weights.h5\n",
            "13/13 [==============================] - 0s 11ms/step - loss: 9.1807e-04 - accuracy: 1.0000 - val_loss: 0.0012 - val_accuracy: 1.0000\n",
            "Epoch 28/30\n",
            "11/13 [========================>.....] - ETA: 0s - loss: 9.0946e-04 - accuracy: 1.0000\n",
            "Epoch 28: val_loss improved from 0.00123 to 0.00117, saving model to nn_weights.h5\n",
            "13/13 [==============================] - 0s 11ms/step - loss: 8.7250e-04 - accuracy: 1.0000 - val_loss: 0.0012 - val_accuracy: 1.0000\n",
            "Epoch 29/30\n",
            "11/13 [========================>.....] - ETA: 0s - loss: 8.2479e-04 - accuracy: 1.0000\n",
            "Epoch 29: val_loss improved from 0.00117 to 0.00112, saving model to nn_weights.h5\n",
            "13/13 [==============================] - 0s 11ms/step - loss: 8.2907e-04 - accuracy: 1.0000 - val_loss: 0.0011 - val_accuracy: 1.0000\n",
            "Epoch 30/30\n",
            "11/13 [========================>.....] - ETA: 0s - loss: 8.0029e-04 - accuracy: 1.0000\n",
            "Epoch 30: val_loss improved from 0.00112 to 0.00108, saving model to nn_weights.h5\n",
            "13/13 [==============================] - 0s 11ms/step - loss: 7.9030e-04 - accuracy: 1.0000 - val_loss: 0.0011 - val_accuracy: 1.0000\n"
          ]
        },
        {
          "output_type": "execute_result",
          "data": {
            "text/plain": [
              "<keras.src.callbacks.History at 0x7e2f6c10a080>"
            ]
          },
          "metadata": {},
          "execution_count": 17
        }
      ]
    },
    {
      "cell_type": "code",
      "source": [
        "# test acc and loss\n",
        "model.load_weights(best_weights_file) # load the best saved model\n",
        "model.compile(loss='categorical_crossentropy', optimizer='adam', metrics=['accuracy',keras.metrics.Recall()])\n",
        "test_metrics = model.evaluate(X_test, y_test, batch_size=8)\n",
        "print(\"\\n%s: %.2f%%\" % (\"test \" + model.metrics_names[1], test_metrics[1] * 100))\n",
        "print(\"%s: %.2f\" % (\"test \" + model.metrics_names[2], test_metrics[2]* 100))"
      ],
      "metadata": {
        "colab": {
          "base_uri": "https://localhost:8080/"
        },
        "id": "j0BLTA5E2TKa",
        "outputId": "8e79d066-4e13-440d-e353-7e77be93c730"
      },
      "execution_count": 19,
      "outputs": [
        {
          "output_type": "stream",
          "name": "stdout",
          "text": [
            "29/29 [==============================] - 1s 8ms/step - loss: 1.1034 - accuracy: 0.7662 - recall: 0.7532\n",
            "\n",
            "test accuracy: 76.62%\n",
            "test recall: 75.32\n"
          ]
        }
      ]
    }
  ]
}