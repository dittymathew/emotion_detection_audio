{
  "cells": [
    {
      "cell_type": "code",
      "execution_count": 1,
      "metadata": {
        "colab": {
          "base_uri": "https://localhost:8080/"
        },
        "id": "zbAoXP0Gf8GD",
        "outputId": "f60108b9-926b-4d81-f4d8-5bc7c7a5ff0a"
      },
      "outputs": [
        {
          "output_type": "stream",
          "name": "stdout",
          "text": [
            "Collecting audformat\n",
            "  Downloading audformat-1.0.3-py3-none-any.whl (129 kB)\n",
            "\u001b[?25l     \u001b[90m━━━━━━━━━━━━━━━━━━━━━━━━━━━━━━━━━━━━━━━━\u001b[0m \u001b[32m0.0/129.0 kB\u001b[0m \u001b[31m?\u001b[0m eta \u001b[36m-:--:--\u001b[0m\r\u001b[2K     \u001b[91m━━━━━━━━━━━━━━━━━━━━━━━━━━━━━━━━━━\u001b[0m\u001b[91m╸\u001b[0m\u001b[90m━━━━━\u001b[0m \u001b[32m112.6/129.0 kB\u001b[0m \u001b[31m3.3 MB/s\u001b[0m eta \u001b[36m0:00:01\u001b[0m\r\u001b[2K     \u001b[90m━━━━━━━━━━━━━━━━━━━━━━━━━━━━━━━━━━━━━━━━\u001b[0m \u001b[32m129.0/129.0 kB\u001b[0m \u001b[31m2.9 MB/s\u001b[0m eta \u001b[36m0:00:00\u001b[0m\n",
            "\u001b[?25hCollecting audeer<2.0.0,>=1.19.0 (from audformat)\n",
            "  Downloading audeer-1.20.1-py3-none-any.whl (23 kB)\n",
            "Collecting audiofile>=0.4.0 (from audformat)\n",
            "  Downloading audiofile-1.3.0-py3-none-any.whl (1.1 MB)\n",
            "\u001b[2K     \u001b[90m━━━━━━━━━━━━━━━━━━━━━━━━━━━━━━━━━━━━━━━━\u001b[0m \u001b[32m1.1/1.1 MB\u001b[0m \u001b[31m57.3 MB/s\u001b[0m eta \u001b[36m0:00:00\u001b[0m\n",
            "\u001b[?25hCollecting iso-639 (from audformat)\n",
            "  Downloading iso-639-0.4.5.tar.gz (167 kB)\n",
            "\u001b[2K     \u001b[90m━━━━━━━━━━━━━━━━━━━━━━━━━━━━━━━━━━━━━━━━\u001b[0m \u001b[32m167.4/167.4 kB\u001b[0m \u001b[31m23.6 MB/s\u001b[0m eta \u001b[36m0:00:00\u001b[0m\n",
            "\u001b[?25h  Preparing metadata (setup.py) ... \u001b[?25l\u001b[?25hdone\n",
            "Collecting iso3166 (from audformat)\n",
            "  Downloading iso3166-2.1.1-py3-none-any.whl (9.8 kB)\n",
            "Collecting oyaml (from audformat)\n",
            "  Downloading oyaml-1.0-py2.py3-none-any.whl (3.0 kB)\n",
            "Requirement already satisfied: pyyaml>=5.4.1 in /usr/local/lib/python3.10/dist-packages (from audformat) (6.0.1)\n",
            "Requirement already satisfied: pandas>=1.4.1 in /usr/local/lib/python3.10/dist-packages (from audformat) (1.5.3)\n",
            "Requirement already satisfied: tqdm in /usr/local/lib/python3.10/dist-packages (from audeer<2.0.0,>=1.19.0->audformat) (4.66.1)\n",
            "Collecting audmath>=1.2.1 (from audiofile>=0.4.0->audformat)\n",
            "  Downloading audmath-1.4.0-py3-none-any.whl (23 kB)\n",
            "Requirement already satisfied: numpy in /usr/local/lib/python3.10/dist-packages (from audiofile>=0.4.0->audformat) (1.23.5)\n",
            "Requirement already satisfied: soundfile in /usr/local/lib/python3.10/dist-packages (from audiofile>=0.4.0->audformat) (0.12.1)\n",
            "Requirement already satisfied: python-dateutil>=2.8.1 in /usr/local/lib/python3.10/dist-packages (from pandas>=1.4.1->audformat) (2.8.2)\n",
            "Requirement already satisfied: pytz>=2020.1 in /usr/local/lib/python3.10/dist-packages (from pandas>=1.4.1->audformat) (2023.3.post1)\n",
            "Requirement already satisfied: six>=1.5 in /usr/local/lib/python3.10/dist-packages (from python-dateutil>=2.8.1->pandas>=1.4.1->audformat) (1.16.0)\n",
            "Requirement already satisfied: cffi>=1.0 in /usr/local/lib/python3.10/dist-packages (from soundfile->audiofile>=0.4.0->audformat) (1.16.0)\n",
            "Requirement already satisfied: pycparser in /usr/local/lib/python3.10/dist-packages (from cffi>=1.0->soundfile->audiofile>=0.4.0->audformat) (2.21)\n",
            "Building wheels for collected packages: iso-639\n",
            "  Building wheel for iso-639 (setup.py) ... \u001b[?25l\u001b[?25hdone\n",
            "  Created wheel for iso-639: filename=iso_639-0.4.5-py3-none-any.whl size=168841 sha256=e80d9dc5e58112be4f0ec0b23e9507395fe12eed8105ceb4264d9823907f04d1\n",
            "  Stored in directory: /root/.cache/pip/wheels/d8/78/cc/5478ca3b1c3f602eae6f8cdbd78f909c0a0bfa0bbcb5c7771f\n",
            "Successfully built iso-639\n",
            "Installing collected packages: iso-639, oyaml, iso3166, audmath, audeer, audiofile, audformat\n",
            "Successfully installed audeer-1.20.1 audformat-1.0.3 audiofile-1.3.0 audmath-1.4.0 iso-639-0.4.5 iso3166-2.1.1 oyaml-1.0\n",
            "Requirement already satisfied: librosa in /usr/local/lib/python3.10/dist-packages (0.10.1)\n",
            "Requirement already satisfied: audioread>=2.1.9 in /usr/local/lib/python3.10/dist-packages (from librosa) (3.0.1)\n",
            "Requirement already satisfied: numpy!=1.22.0,!=1.22.1,!=1.22.2,>=1.20.3 in /usr/local/lib/python3.10/dist-packages (from librosa) (1.23.5)\n",
            "Requirement already satisfied: scipy>=1.2.0 in /usr/local/lib/python3.10/dist-packages (from librosa) (1.11.3)\n",
            "Requirement already satisfied: scikit-learn>=0.20.0 in /usr/local/lib/python3.10/dist-packages (from librosa) (1.2.2)\n",
            "Requirement already satisfied: joblib>=0.14 in /usr/local/lib/python3.10/dist-packages (from librosa) (1.3.2)\n",
            "Requirement already satisfied: decorator>=4.3.0 in /usr/local/lib/python3.10/dist-packages (from librosa) (4.4.2)\n",
            "Requirement already satisfied: numba>=0.51.0 in /usr/local/lib/python3.10/dist-packages (from librosa) (0.58.1)\n",
            "Requirement already satisfied: soundfile>=0.12.1 in /usr/local/lib/python3.10/dist-packages (from librosa) (0.12.1)\n",
            "Requirement already satisfied: pooch>=1.0 in /usr/local/lib/python3.10/dist-packages (from librosa) (1.8.0)\n",
            "Requirement already satisfied: soxr>=0.3.2 in /usr/local/lib/python3.10/dist-packages (from librosa) (0.3.7)\n",
            "Requirement already satisfied: typing-extensions>=4.1.1 in /usr/local/lib/python3.10/dist-packages (from librosa) (4.5.0)\n",
            "Requirement already satisfied: lazy-loader>=0.1 in /usr/local/lib/python3.10/dist-packages (from librosa) (0.3)\n",
            "Requirement already satisfied: msgpack>=1.0 in /usr/local/lib/python3.10/dist-packages (from librosa) (1.0.7)\n",
            "Requirement already satisfied: llvmlite<0.42,>=0.41.0dev0 in /usr/local/lib/python3.10/dist-packages (from numba>=0.51.0->librosa) (0.41.1)\n",
            "Requirement already satisfied: platformdirs>=2.5.0 in /usr/local/lib/python3.10/dist-packages (from pooch>=1.0->librosa) (4.0.0)\n",
            "Requirement already satisfied: packaging>=20.0 in /usr/local/lib/python3.10/dist-packages (from pooch>=1.0->librosa) (23.2)\n",
            "Requirement already satisfied: requests>=2.19.0 in /usr/local/lib/python3.10/dist-packages (from pooch>=1.0->librosa) (2.31.0)\n",
            "Requirement already satisfied: threadpoolctl>=2.0.0 in /usr/local/lib/python3.10/dist-packages (from scikit-learn>=0.20.0->librosa) (3.2.0)\n",
            "Requirement already satisfied: cffi>=1.0 in /usr/local/lib/python3.10/dist-packages (from soundfile>=0.12.1->librosa) (1.16.0)\n",
            "Requirement already satisfied: pycparser in /usr/local/lib/python3.10/dist-packages (from cffi>=1.0->soundfile>=0.12.1->librosa) (2.21)\n",
            "Requirement already satisfied: charset-normalizer<4,>=2 in /usr/local/lib/python3.10/dist-packages (from requests>=2.19.0->pooch>=1.0->librosa) (3.3.2)\n",
            "Requirement already satisfied: idna<4,>=2.5 in /usr/local/lib/python3.10/dist-packages (from requests>=2.19.0->pooch>=1.0->librosa) (3.4)\n",
            "Requirement already satisfied: urllib3<3,>=1.21.1 in /usr/local/lib/python3.10/dist-packages (from requests>=2.19.0->pooch>=1.0->librosa) (2.0.7)\n",
            "Requirement already satisfied: certifi>=2017.4.17 in /usr/local/lib/python3.10/dist-packages (from requests>=2.19.0->pooch>=1.0->librosa) (2023.7.22)\n",
            "Requirement already satisfied: audiofile in /usr/local/lib/python3.10/dist-packages (1.3.0)\n",
            "Requirement already satisfied: audeer in /usr/local/lib/python3.10/dist-packages (from audiofile) (1.20.1)\n",
            "Requirement already satisfied: audmath>=1.2.1 in /usr/local/lib/python3.10/dist-packages (from audiofile) (1.4.0)\n",
            "Requirement already satisfied: numpy in /usr/local/lib/python3.10/dist-packages (from audiofile) (1.23.5)\n",
            "Requirement already satisfied: soundfile in /usr/local/lib/python3.10/dist-packages (from audiofile) (0.12.1)\n",
            "Requirement already satisfied: tqdm in /usr/local/lib/python3.10/dist-packages (from audeer->audiofile) (4.66.1)\n",
            "Requirement already satisfied: cffi>=1.0 in /usr/local/lib/python3.10/dist-packages (from soundfile->audiofile) (1.16.0)\n",
            "Requirement already satisfied: pycparser in /usr/local/lib/python3.10/dist-packages (from cffi>=1.0->soundfile->audiofile) (2.21)\n",
            "Collecting Keras-Preprocessing\n",
            "  Downloading Keras_Preprocessing-1.1.2-py2.py3-none-any.whl (42 kB)\n",
            "\u001b[2K     \u001b[90m━━━━━━━━━━━━━━━━━━━━━━━━━━━━━━━━━━━━━━━━\u001b[0m \u001b[32m42.6/42.6 kB\u001b[0m \u001b[31m3.0 MB/s\u001b[0m eta \u001b[36m0:00:00\u001b[0m\n",
            "\u001b[?25hRequirement already satisfied: numpy>=1.9.1 in /usr/local/lib/python3.10/dist-packages (from Keras-Preprocessing) (1.23.5)\n",
            "Requirement already satisfied: six>=1.9.0 in /usr/local/lib/python3.10/dist-packages (from Keras-Preprocessing) (1.16.0)\n",
            "Installing collected packages: Keras-Preprocessing\n",
            "Successfully installed Keras-Preprocessing-1.1.2\n"
          ]
        }
      ],
      "source": [
        "!pip install audformat\n",
        "!pip install librosa\n",
        "!pip install audiofile\n",
        "!pip install Keras-Preprocessing"
      ]
    },
    {
      "cell_type": "markdown",
      "metadata": {
        "id": "KpR39eCK3PfL"
      },
      "source": [
        "**Libraries loading**"
      ]
    },
    {
      "cell_type": "code",
      "execution_count": 2,
      "metadata": {
        "id": "1dQav09vajrw"
      },
      "outputs": [],
      "source": [
        "import audformat\n",
        "import audiofile\n",
        "import librosa\n",
        "import librosa.display\n",
        "\n",
        "# Import the audio playback widget\n",
        "import IPython.display as ipd\n",
        "from IPython.display import Image\n",
        "\n",
        "import matplotlib.pyplot as plt\n",
        "from keras_preprocessing.sequence import pad_sequences\n",
        "import tensorflow as tf\n",
        "from tensorflow.keras import layers, models\n",
        "from tensorflow.keras.utils import to_categorical\n",
        "import keras\n",
        "from keras import layers\n",
        "from keras.callbacks import ModelCheckpoint, EarlyStopping\n",
        "from sklearn.metrics import classification_report, confusion_matrix,accuracy_score,recall_score\n",
        "from sklearn.preprocessing import StandardScaler, OneHotEncoder\n",
        "from imblearn.over_sampling import SMOTE\n",
        "import numpy as np\n",
        "\n",
        "import math"
      ]
    },
    {
      "cell_type": "markdown",
      "metadata": {
        "id": "zydCV7Qi3kyJ"
      },
      "source": [
        "**Downloading dataset**"
      ]
    },
    {
      "cell_type": "code",
      "execution_count": 3,
      "metadata": {
        "colab": {
          "base_uri": "https://localhost:8080/"
        },
        "id": "WG43bL_zcQWO",
        "outputId": "53cce05a-ddd7-44ed-a55f-26e573b348d9"
      },
      "outputs": [
        {
          "output_type": "stream",
          "name": "stdout",
          "text": [
            "--2023-11-19 08:32:03--  https://zenodo.org/record/7447302/files/emodb.zip\n",
            "Resolving zenodo.org (zenodo.org)... 188.184.103.159, 188.184.98.238, 188.185.79.172, ...\n",
            "Connecting to zenodo.org (zenodo.org)|188.184.103.159|:443... connected.\n",
            "HTTP request sent, awaiting response... 301 MOVED PERMANENTLY\n",
            "Location: /records/7447302/files/emodb.zip [following]\n",
            "--2023-11-19 08:32:04--  https://zenodo.org/records/7447302/files/emodb.zip\n",
            "Reusing existing connection to zenodo.org:443.\n",
            "HTTP request sent, awaiting response... 200 OK\n",
            "Length: 39981818 (38M) [application/octet-stream]\n",
            "Saving to: ‘emodb.zip’\n",
            "\n",
            "emodb.zip           100%[===================>]  38.13M  19.4MB/s    in 2.0s    \n",
            "\n",
            "2023-11-19 08:32:07 (19.4 MB/s) - ‘emodb.zip’ saved [39981818/39981818]\n",
            "\n",
            "Archive:  emodb.zip\n",
            "   creating: emodb/\n",
            "  inflating: emodb/db.emotion.categories.train.gold_standard.pkl  \n",
            "   creating: emodb/wav/\n",
            "  inflating: emodb/wav/14b01Fc.wav   \n",
            "  inflating: emodb/wav/14a02Ea.wav   \n",
            "  inflating: emodb/wav/15a02Ta.wav   \n",
            "  inflating: emodb/wav/03a02Wc.wav   \n",
            "  inflating: emodb/wav/10a04Wa.wav   \n",
            "  inflating: emodb/wav/03b01Lb.wav   \n",
            "  inflating: emodb/wav/11a02Tc.wav   \n",
            "  inflating: emodb/wav/16b01La.wav   \n",
            "  inflating: emodb/wav/15a07Ac.wav   \n",
            "  inflating: emodb/wav/08b09Nb.wav   \n",
            "  inflating: emodb/wav/12b02Ad.wav   \n",
            "  inflating: emodb/wav/03a02Nc.wav   \n",
            "  inflating: emodb/wav/08a02Wc.wav   \n",
            "  inflating: emodb/wav/16b02Aa.wav   \n",
            "  inflating: emodb/wav/11b09Ad.wav   \n",
            "  inflating: emodb/wav/13b03Ac.wav   \n",
            "  inflating: emodb/wav/08a04Wc.wav   \n",
            "  inflating: emodb/wav/15a04Ac.wav   \n",
            "  inflating: emodb/wav/15a07Ld.wav   \n",
            "  inflating: emodb/wav/03a02Wb.wav   \n",
            "  inflating: emodb/wav/15a05Na.wav   \n",
            "  inflating: emodb/wav/13b03Wc.wav   \n",
            "  inflating: emodb/wav/09b01Ea.wav   \n",
            "  inflating: emodb/wav/16a04Tc.wav   \n",
            "  inflating: emodb/wav/11b02Na.wav   \n",
            "  inflating: emodb/wav/08b03Fe.wav   \n",
            "  inflating: emodb/wav/12a05Nd.wav   \n",
            "  inflating: emodb/wav/14a05Wa.wav   \n",
            "  inflating: emodb/wav/16b03Fd.wav   \n",
            "  inflating: emodb/wav/08b02Tc.wav   \n",
            "  inflating: emodb/wav/16a02Ec.wav   \n",
            "  inflating: emodb/wav/13b09Ab.wav   \n",
            "  inflating: emodb/wav/15a05Lb.wav   \n",
            "  inflating: emodb/wav/09b03Wb.wav   \n",
            "  inflating: emodb/wav/10a04Nb.wav   \n",
            "  inflating: emodb/wav/09b02Wd.wav   \n",
            "  inflating: emodb/wav/12b02Wd.wav   \n",
            "  inflating: emodb/wav/11b01Nc.wav   \n",
            "  inflating: emodb/wav/13b03Td.wav   \n",
            "  inflating: emodb/wav/09a04Fd.wav   \n",
            "  inflating: emodb/wav/09a04Nb.wav   \n",
            "  inflating: emodb/wav/13b01Ld.wav   \n",
            "  inflating: emodb/wav/03a02Fc.wav   \n",
            "  inflating: emodb/wav/12b10Ac.wav   \n",
            "  inflating: emodb/wav/10b02La.wav   \n",
            "  inflating: emodb/wav/13a01Nb.wav   \n",
            "  inflating: emodb/wav/14b01Na.wav   \n",
            "  inflating: emodb/wav/08a02Tb.wav   \n",
            "  inflating: emodb/wav/14a05Lb.wav   \n",
            "  inflating: emodb/wav/10a05Tb.wav   \n",
            "  inflating: emodb/wav/03a04Lc.wav   \n",
            "  inflating: emodb/wav/11b01Lb.wav   \n",
            "  inflating: emodb/wav/08b01Fd.wav   \n",
            "  inflating: emodb/wav/16a04Wc.wav   \n",
            "  inflating: emodb/wav/08b01Na.wav   \n",
            "  inflating: emodb/wav/03a05Nd.wav   \n",
            "  inflating: emodb/wav/11b10Td.wav   \n",
            "  inflating: emodb/wav/10a04Wb.wav   \n",
            "  inflating: emodb/wav/16b09Wb.wav   \n",
            "  inflating: emodb/wav/08b09Ab.wav   \n",
            "  inflating: emodb/wav/08a02Ab.wav   \n",
            "  inflating: emodb/wav/10b10Lc.wav   \n",
            "  inflating: emodb/wav/13a05Tc.wav   \n",
            "  inflating: emodb/wav/13b09Na.wav   \n",
            "  inflating: emodb/wav/15b10Lc.wav   \n",
            "  inflating: emodb/wav/08b01Aa.wav   \n",
            "  inflating: emodb/wav/12b10Wa.wav   \n",
            "  inflating: emodb/wav/10a02Wa.wav   \n",
            "  inflating: emodb/wav/16a02Nb.wav   \n",
            "  inflating: emodb/wav/15a01Ea.wav   \n",
            "  inflating: emodb/wav/09a05Tb.wav   \n",
            "  inflating: emodb/wav/16b01Wa.wav   \n",
            "  inflating: emodb/wav/10a07Ta.wav   \n",
            "  inflating: emodb/wav/11a07Wc.wav   \n",
            "  inflating: emodb/wav/13b10Fa.wav   \n",
            "  inflating: emodb/wav/15b09Wb.wav   \n",
            "  inflating: emodb/wav/10b10Fc.wav   \n",
            "  inflating: emodb/wav/15b01Ec.wav   \n",
            "  inflating: emodb/wav/11b10Ae.wav   \n",
            "  inflating: emodb/wav/13b10Wc.wav   \n",
            "  inflating: emodb/wav/14b09Ac.wav   \n",
            "  inflating: emodb/wav/11a02Wc.wav   \n",
            "  inflating: emodb/wav/12a01Wc.wav   \n",
            "  inflating: emodb/wav/14a07Ld.wav   \n",
            "  inflating: emodb/wav/09b02Na.wav   \n",
            "  inflating: emodb/wav/12a04Wc.wav   \n",
            "  inflating: emodb/wav/13a07Tc.wav   \n",
            "  inflating: emodb/wav/03b10Nc.wav   \n",
            "  inflating: emodb/wav/12b01Wa.wav   \n",
            "  inflating: emodb/wav/14a07Eb.wav   \n",
            "  inflating: emodb/wav/13a05Aa.wav   \n",
            "  inflating: emodb/wav/11a04Ac.wav   \n",
            "  inflating: emodb/wav/15b03Lc.wav   \n",
            "  inflating: emodb/wav/16b03Ea.wav   \n",
            "  inflating: emodb/wav/14b10Tc.wav   \n",
            "  inflating: emodb/wav/10b01Lb.wav   \n",
            "  inflating: emodb/wav/11a02Ec.wav   \n",
            "  inflating: emodb/wav/13b02Fb.wav   \n",
            "  inflating: emodb/wav/10b09Lb.wav   \n",
            "  inflating: emodb/wav/16a05La.wav   \n",
            "  inflating: emodb/wav/14a07Na.wav   \n",
            "  inflating: emodb/wav/09a07Ta.wav   \n",
            "  inflating: emodb/wav/14a01Aa.wav   \n",
            "  inflating: emodb/wav/03b09La.wav   \n",
            "  inflating: emodb/wav/15a02Ea.wav   \n",
            "  inflating: emodb/wav/09a01Nb.wav   \n",
            "  inflating: emodb/wav/13b09Fb.wav   \n",
            "  inflating: emodb/wav/11b01Eb.wav   \n",
            "  inflating: emodb/wav/16a05Ea.wav   \n",
            "  inflating: emodb/wav/03a07Fa.wav   \n",
            "  inflating: emodb/wav/14b02Tc.wav   \n",
            "  inflating: emodb/wav/15a04Ab.wav   \n",
            "  inflating: emodb/wav/03b09Wa.wav   \n",
            "  inflating: emodb/wav/11a07Ld.wav   \n",
            "  inflating: emodb/wav/14a02Wc.wav   \n",
            "  inflating: emodb/wav/11a05Fb.wav   \n",
            "  inflating: emodb/wav/15a05Wa.wav   \n",
            "  inflating: emodb/wav/11b03Wb.wav   \n",
            "  inflating: emodb/wav/03a05Wb.wav   \n",
            "  inflating: emodb/wav/14b09Td.wav   \n",
            "  inflating: emodb/wav/12a02Ec.wav   \n",
            "  inflating: emodb/wav/12a02Wc.wav   \n",
            "  inflating: emodb/wav/12b03Ta.wav   \n",
            "  inflating: emodb/wav/14a02Tb.wav   \n",
            "  inflating: emodb/wav/14a04Lb.wav   \n",
            "  inflating: emodb/wav/11b02Fd.wav   \n",
            "  inflating: emodb/wav/15b01Lb.wav   \n",
            "  inflating: emodb/wav/15a05Eb.wav   \n",
            "  inflating: emodb/wav/10b01Ea.wav   \n",
            "  inflating: emodb/wav/16a05Tb.wav   \n",
            "  inflating: emodb/wav/03b01Fa.wav   \n",
            "  inflating: emodb/wav/14a01Wc.wav   \n",
            "  inflating: emodb/wav/08b02Nb.wav   \n",
            "  inflating: emodb/wav/13a04Ac.wav   \n",
            "  inflating: emodb/wav/08a07Na.wav   \n",
            "  inflating: emodb/wav/03a05Aa.wav   \n",
            "  inflating: emodb/wav/09a07Na.wav   \n",
            "  inflating: emodb/wav/15b02Nd.wav   \n",
            "  inflating: emodb/wav/03b01Wa.wav   \n",
            "  inflating: emodb/wav/15a04Wb.wav   \n",
            "  inflating: emodb/wav/08b01Lb.wav   \n",
            "  inflating: emodb/wav/03a05Fc.wav   \n",
            "  inflating: emodb/wav/09a02Ea.wav   \n",
            "  inflating: emodb/wav/09b02Tb.wav   \n",
            "  inflating: emodb/wav/14b10Ad.wav   \n",
            "  inflating: emodb/wav/12b01Ta.wav   \n",
            "  inflating: emodb/wav/13a02Fa.wav   \n",
            "  inflating: emodb/wav/03b10Wc.wav   \n",
            "  inflating: emodb/wav/16a02Ea.wav   \n",
            "  inflating: emodb/wav/08a01Ab.wav   \n",
            "  inflating: emodb/wav/13a01Fd.wav   \n",
            "  inflating: emodb/wav/03a07Fb.wav   \n",
            "  inflating: emodb/wav/11b02Ab.wav   \n",
            "  inflating: emodb/wav/11b09Td.wav   \n",
            "  inflating: emodb/wav/03b02Wb.wav   \n",
            "  inflating: emodb/wav/15b09Ta.wav   \n",
            "  inflating: emodb/wav/11b03Wa.wav   \n",
            "  inflating: emodb/wav/13a05Wc.wav   \n",
            "  inflating: emodb/wav/03b03Nb.wav   \n",
            "  inflating: emodb/wav/13a05Ea.wav   \n",
            "  inflating: emodb/wav/08a07Fd.wav   \n",
            "  inflating: emodb/wav/15a01Fb.wav   \n",
            "  inflating: emodb/wav/15b10Ac.wav   \n",
            "  inflating: emodb/wav/13a02Ec.wav   \n",
            "  inflating: emodb/wav/10a02Na.wav   \n",
            "  inflating: emodb/wav/16a01Wb.wav   \n",
            "  inflating: emodb/wav/11a01Aa.wav   \n",
            "  inflating: emodb/wav/13b09Ec.wav   \n",
            "  inflating: emodb/wav/10a07Ad.wav   \n",
            "  inflating: emodb/wav/14b09Fc.wav   \n",
            "  inflating: emodb/wav/14a07Fd.wav   \n",
            "  inflating: emodb/wav/09a07Eb.wav   \n",
            "  inflating: emodb/wav/11a01Wc.wav   \n",
            "  inflating: emodb/wav/08a01Fd.wav   \n",
            "  inflating: emodb/wav/11a05Ad.wav   \n",
            "  inflating: emodb/wav/03a01Fa.wav   \n",
            "  inflating: emodb/wav/13a07Wb.wav   \n",
            "  inflating: emodb/wav/03b02Na.wav   \n",
            "  inflating: emodb/wav/13a04Fc.wav   \n",
            "  inflating: emodb/wav/12b03La.wav   \n",
            "  inflating: emodb/wav/13b02Lc.wav   \n",
            "  inflating: emodb/wav/11a01Nd.wav   \n",
            "  inflating: emodb/wav/14b02Na.wav   \n",
            "  inflating: emodb/wav/11a05Lc.wav   \n",
            "  inflating: emodb/wav/09a05Wb.wav   \n",
            "  inflating: emodb/wav/14b01Eb.wav   \n",
            "  inflating: emodb/wav/13a07Na.wav   \n",
            "  inflating: emodb/wav/14a04Wb.wav   \n",
            "  inflating: emodb/wav/16a07Fb.wav   \n",
            "  inflating: emodb/wav/14a07Wc.wav   \n",
            "  inflating: emodb/wav/03b02Tb.wav   \n",
            "  inflating: emodb/wav/10a01Wa.wav   \n",
            "  inflating: emodb/wav/03b02La.wav   \n",
            "  inflating: emodb/wav/12a01Nb.wav   \n",
            "  inflating: emodb/wav/09b03Ta.wav   \n",
            "  inflating: emodb/wav/09b03Lb.wav   \n",
            "  inflating: emodb/wav/16b10Eb.wav   \n",
            "  inflating: emodb/wav/16b03Ta.wav   \n",
            "  inflating: emodb/wav/15a01Wa.wav   \n",
            "  inflating: emodb/wav/08b03Nb.wav   \n",
            "  inflating: emodb/wav/09a04Wa.wav   \n",
            "  inflating: emodb/wav/14b03Ed.wav   \n",
            "  inflating: emodb/wav/14b03Lb.wav   \n",
            "  inflating: emodb/wav/15b02Aa.wav   \n",
            "  inflating: emodb/wav/09a05Wc.wav   \n",
            "  inflating: emodb/wav/16a05Ab.wav   \n",
            "  inflating: emodb/wav/09a01Fa.wav   \n",
            "  inflating: emodb/wav/10a05Aa.wav   \n",
            "  inflating: emodb/wav/03b01Wc.wav   \n",
            "  inflating: emodb/wav/12b02Wb.wav   \n",
            "  inflating: emodb/wav/11a04Fd.wav   \n",
            "  inflating: emodb/wav/11a02Fb.wav   \n",
            "  inflating: emodb/wav/13b03Na.wav   \n",
            "  inflating: emodb/wav/09a02La.wav   \n",
            "  inflating: emodb/wav/15b03Nb.wav   \n",
            "  inflating: emodb/wav/12b09Wc.wav   \n",
            "  inflating: emodb/wav/09a01Ea.wav   \n",
            "  inflating: emodb/wav/08a04Nc.wav   \n",
            "  inflating: emodb/wav/14a05Aa.wav   \n",
            "  inflating: emodb/wav/14a04Wc.wav   \n",
            "  inflating: emodb/wav/10a01Nb.wav   \n",
            "  inflating: emodb/wav/08a05Wa.wav   \n",
            "  inflating: emodb/wav/08a02Na.wav   \n",
            "  inflating: emodb/wav/03a01Wa.wav   \n",
            "  inflating: emodb/wav/13a01Wb.wav   \n",
            "  inflating: emodb/wav/14a04Tc.wav   \n",
            "  inflating: emodb/wav/03a04Ta.wav   \n",
            "  inflating: emodb/wav/13a01Ec.wav   \n",
            "  inflating: emodb/wav/14b03Ad.wav   \n",
            "  inflating: emodb/wav/08b10Tc.wav   \n",
            "  inflating: emodb/wav/16b10Fb.wav   \n",
            "  inflating: emodb/wav/10b09Wb.wav   \n",
            "  inflating: emodb/wav/16b10Lb.wav   \n",
            "  inflating: emodb/wav/16b01Lc.wav   \n",
            "  inflating: emodb/wav/03b02Aa.wav   \n",
            "  inflating: emodb/wav/03b01Td.wav   \n",
            "  inflating: emodb/wav/10b02Na.wav   \n",
            "  inflating: emodb/wav/11b01Fc.wav   \n",
            "  inflating: emodb/wav/10a07La.wav   \n",
            "  inflating: emodb/wav/16a04Ab.wav   \n",
            "  inflating: emodb/wav/09b01Na.wav   \n",
            "  inflating: emodb/wav/03a05Wa.wav   \n",
            "  inflating: emodb/wav/08a04La.wav   \n",
            "  inflating: emodb/wav/13a01Lb.wav   \n",
            "  inflating: emodb/wav/15b10Nc.wav   \n",
            "  inflating: emodb/wav/13b03Lb.wav   \n",
            "  inflating: emodb/wav/08b10Fd.wav   \n",
            "  inflating: emodb/wav/14b03Ta.wav   \n",
            "  inflating: emodb/wav/08b02Ff.wav   \n",
            "  inflating: emodb/wav/12a05Ab.wav   \n",
            "  inflating: emodb/wav/08b09Lc.wav   \n",
            "  inflating: emodb/wav/11a05Na.wav   \n",
            "  inflating: emodb/wav/12a05Wb.wav   \n",
            "  inflating: emodb/wav/12b02Na.wav   \n",
            "  inflating: emodb/wav/13b09Wa.wav   \n",
            "  inflating: emodb/wav/12a02Wa.wav   \n",
            "  inflating: emodb/wav/16b10Wb.wav   \n",
            "  inflating: emodb/wav/14b03Wb.wav   \n",
            "  inflating: emodb/wav/14b10Lb.wav   \n",
            "  inflating: emodb/wav/13a05Lc.wav   \n",
            "  inflating: emodb/wav/08a04Ff.wav   \n",
            "  inflating: emodb/wav/11b03Td.wav   \n",
            "  inflating: emodb/wav/09a02Wb.wav   \n",
            "  inflating: emodb/wav/13b03Fd.wav   \n",
            "  inflating: emodb/wav/08a01Wc.wav   \n",
            "  inflating: emodb/wav/13a07Fd.wav   \n",
            "  inflating: emodb/wav/03b10Na.wav   \n",
            "  inflating: emodb/wav/13a02Lc.wav   \n",
            "  inflating: emodb/wav/16a05Wc.wav   \n",
            "  inflating: emodb/wav/12a02Ac.wav   \n",
            "  inflating: emodb/wav/09b10Wa.wav   \n",
            "  inflating: emodb/wav/03a05Tc.wav   \n",
            "  inflating: emodb/wav/15a04Nc.wav   \n",
            "  inflating: emodb/wav/13a07Lb.wav   \n",
            "  inflating: emodb/wav/13a04Lb.wav   \n",
            "  inflating: emodb/wav/03b10Wb.wav   \n",
            "  inflating: emodb/wav/16a07Td.wav   \n",
            "  inflating: emodb/wav/16a04La.wav   \n",
            "  inflating: emodb/wav/10b03Wb.wav   \n",
            "  inflating: emodb/wav/14a04Aa.wav   \n",
            "  inflating: emodb/wav/16a01Lb.wav   \n",
            "  inflating: emodb/wav/11a05Wd.wav   \n",
            "  inflating: emodb/wav/11a07Ac.wav   \n",
            "  inflating: emodb/wav/09b03Nb.wav   \n",
            "  inflating: emodb/wav/14b02Wd.wav   \n",
            "  inflating: emodb/wav/11b01Wd.wav   \n",
            "  inflating: emodb/wav/14a01Na.wav   \n",
            "  inflating: emodb/wav/03b03Wc.wav   \n",
            "  inflating: emodb/wav/08b01Wa.wav   \n",
            "  inflating: emodb/wav/11a02Ld.wav   \n",
            "  inflating: emodb/wav/15a01La.wav   \n",
            "  inflating: emodb/wav/14b09Wa.wav   \n",
            "  inflating: emodb/wav/13b01Fc.wav   \n",
            "  inflating: emodb/wav/15a02Wb.wav   \n",
            "  inflating: emodb/wav/08b03Lc.wav   \n",
            "  inflating: emodb/wav/09a07Wb.wav   \n",
            "  inflating: emodb/wav/10b03Tb.wav   \n",
            "  inflating: emodb/wav/16a04Lc.wav   \n",
            "  inflating: emodb/wav/16b02Wb.wav   \n",
            "  inflating: emodb/wav/14a01Ac.wav   \n",
            "  inflating: emodb/wav/11b02Td.wav   \n",
            "  inflating: emodb/wav/08a01Na.wav   \n",
            "  inflating: emodb/wav/08a07Tb.wav   \n",
            "  inflating: emodb/wav/09a05Nb.wav   \n",
            "  inflating: emodb/wav/16a01Tb.wav   \n",
            "  inflating: emodb/wav/08a02La.wav   \n",
            "  inflating: emodb/wav/16b03Wb.wav   \n",
            "  inflating: emodb/wav/11a02Nc.wav   \n",
            "  inflating: emodb/wav/14a05Fa.wav   \n",
            "  inflating: emodb/wav/14b10Wc.wav   \n",
            "  inflating: emodb/wav/11b09Na.wav   \n",
            "  inflating: emodb/wav/14b09Lb.wav   \n",
            "  inflating: emodb/wav/14a05Ta.wav   \n",
            "  inflating: emodb/wav/16b02Lb.wav   \n",
            "  inflating: emodb/wav/11a04Nd.wav   \n",
            "  inflating: emodb/wav/03b09Tc.wav   \n",
            "  inflating: emodb/wav/16b01Eb.wav   \n",
            "  inflating: emodb/wav/10a02Fa.wav   \n",
            "  inflating: emodb/wav/14b01Fa.wav   \n",
            "  inflating: emodb/wav/14a01Wa.wav   \n",
            "  inflating: emodb/wav/16a04Fa.wav   \n",
            "  inflating: emodb/wav/08b03Tc.wav   \n",
            "  inflating: emodb/wav/09b09Wa.wav   \n",
            "  inflating: emodb/wav/15a02Ac.wav   \n",
            "  inflating: emodb/wav/03a02Ta.wav   \n",
            "  inflating: emodb/wav/08a07Wc.wav   \n",
            "  inflating: emodb/wav/12b09Ac.wav   \n",
            "  inflating: emodb/wav/10b02Aa.wav   \n",
            "  inflating: emodb/wav/11a05Fc.wav   \n",
            "  inflating: emodb/wav/08b09Tb.wav   \n",
            "  inflating: emodb/wav/15a02Wd.wav   \n",
            "  inflating: emodb/wav/12b10Ld.wav   \n",
            "  inflating: emodb/wav/16a07La.wav   \n",
            "  inflating: emodb/wav/08b03Wd.wav   \n",
            "  inflating: emodb/wav/12b02Ea.wav   \n",
            "  inflating: emodb/wav/16b09Eb.wav   \n",
            "  inflating: emodb/wav/13a04Ta.wav   \n",
            "  inflating: emodb/wav/08b02Wd.wav   \n",
            "  inflating: emodb/wav/10a04Fd.wav   \n",
            "  inflating: emodb/wav/13b01Ab.wav   \n",
            "  inflating: emodb/wav/15b02Tc.wav   \n",
            "  inflating: emodb/wav/08a01Lc.wav   \n",
            "  inflating: emodb/wav/15a07Eb.wav   \n",
            "  inflating: emodb/wav/15b10Nb.wav   \n",
            "  inflating: emodb/wav/12a02Nb.wav   \n",
            "  inflating: emodb/wav/08b09Wc.wav   \n",
            "  inflating: emodb/wav/08b02La.wav   \n",
            "  inflating: emodb/wav/08a02Fe.wav   \n",
            "  inflating: emodb/wav/16a02Wb.wav   \n",
            "  inflating: emodb/wav/14b02Aa.wav   \n",
            "  inflating: emodb/wav/16a04Wb.wav   \n",
            "  inflating: emodb/wav/12b02Wa.wav   \n",
            "  inflating: emodb/wav/15b03Tc.wav   \n",
            "  inflating: emodb/wav/08a07Ta.wav   \n",
            "  inflating: emodb/wav/13a05Nb.wav   \n",
            "  inflating: emodb/wav/15a07Fb.wav   \n",
            "  inflating: emodb/wav/10a01Ac.wav   \n",
            "  inflating: emodb/wav/14b10Eb.wav   \n",
            "  inflating: emodb/wav/14a02Nc.wav   \n",
            "  inflating: emodb/wav/11b10Nc.wav   \n",
            "  inflating: emodb/wav/11b09Wa.wav   \n",
            "  inflating: emodb/wav/14a07Aa.wav   \n",
            "  inflating: emodb/wav/03b03Tc.wav   \n",
            "  inflating: emodb/wav/16a05Wb.wav   \n",
            "  inflating: emodb/wav/14b09Ea.wav   \n",
            "  inflating: emodb/wav/15a04Wa.wav   \n",
            "  inflating: emodb/wav/09b10Aa.wav   \n",
            "  inflating: emodb/wav/13b03Ed.wav   \n",
            "  inflating: emodb/wav/09b01Wb.wav   \n",
            "  inflating: emodb/wav/09b09Nd.wav   \n",
            "  inflating: emodb/wav/13a02Ad.wav   \n",
            "  inflating: emodb/wav/13b09Fc.wav   \n",
            "  inflating: emodb/wav/11b03Lc.wav   \n",
            "  inflating: emodb/wav/08a05Nb.wav   \n",
            "  inflating: emodb/wav/16b01Wb.wav   \n",
            "  inflating: emodb/wav/14a02Wa.wav   \n",
            "  inflating: emodb/wav/15b01Na.wav   \n",
            "  inflating: emodb/wav/13b09La.wav   \n",
            "  inflating: emodb/wav/09b03Fd.wav   \n",
            "  inflating: emodb/wav/09a07Wd.wav   \n",
            "  inflating: emodb/wav/03a07La.wav   \n",
            "  inflating: emodb/wav/13b01Ec.wav   \n",
            "  inflating: emodb/wav/12a07Wa.wav   \n",
            "  inflating: emodb/wav/10a02Ab.wav   \n",
            "  inflating: emodb/wav/10a05Ld.wav   \n",
            "  inflating: emodb/wav/16a04Nc.wav   \n",
            "  inflating: emodb/wav/14a02La.wav   \n",
            "  inflating: emodb/wav/16b09Ab.wav   \n",
            "  inflating: emodb/wav/10b01Fa.wav   \n",
            "  inflating: emodb/wav/08a05Lc.wav   \n",
            "  inflating: emodb/wav/14a04Ed.wav   \n",
            "  inflating: emodb/wav/13b02Nb.wav   \n",
            "  inflating: emodb/wav/08b10Wa.wav   \n",
            "  inflating: emodb/wav/13b10Ec.wav   \n",
            "  inflating: emodb/wav/16b01Tb.wav   \n",
            "  inflating: emodb/wav/13a01Ac.wav   \n",
            "  inflating: emodb/wav/15a04Fd.wav   \n",
            "  inflating: emodb/wav/16b01Fa.wav   \n",
            "  inflating: emodb/wav/16a01Nc.wav   \n",
            "  inflating: emodb/wav/16a01Fc.wav   \n",
            "  inflating: emodb/wav/14b02Wb.wav   \n",
            "  inflating: emodb/wav/14b01Wc.wav   \n",
            "  inflating: emodb/wav/15b03Wa.wav   \n",
            "  inflating: emodb/wav/11b09Ld.wav   \n",
            "  inflating: emodb/wav/16a07Nb.wav   \n",
            "  inflating: emodb/wav/13a05Wa.wav   \n",
            "  inflating: emodb/wav/15b09Ac.wav   \n",
            "  inflating: emodb/wav/13b01Wa.wav   \n",
            "  inflating: emodb/wav/08b09Fd.wav   \n",
            "  inflating: emodb/wav/11b10Wa.wav   \n",
            "  inflating: emodb/wav/03a04Wc.wav   \n",
            "  inflating: emodb/wav/11b02Wb.wav   \n",
            "  inflating: emodb/wav/08b01Fe.wav   \n",
            "  inflating: emodb/wav/12a01Fb.wav   \n",
            "  inflating: emodb/wav/15b09La.wav   \n",
            "  inflating: emodb/wav/14a07Lc.wav   \n",
            "  inflating: emodb/wav/14a07Tc.wav   \n",
            "  inflating: emodb/wav/16b03Nb.wav   \n",
            "  inflating: emodb/wav/10a07Aa.wav   \n",
            "  inflating: emodb/wav/14b02Fb.wav   \n",
            "  inflating: emodb/wav/11b03Fc.wav   \n",
            "  inflating: emodb/wav/15a02Na.wav   \n",
            "  inflating: emodb/wav/15a01Nb.wav   \n",
            "  inflating: emodb/wav/15a05Fb.wav   \n",
            "  inflating: emodb/wav/03a04Fd.wav   \n",
            "  inflating: emodb/wav/15b02Lb.wav   \n",
            "  inflating: emodb/wav/11b10Ld.wav   \n",
            "  inflating: emodb/wav/08a05Ta.wav   \n",
            "  inflating: emodb/wav/16a05Fc.wav   \n",
            "  inflating: emodb/wav/09b03Ed.wav   \n",
            "  inflating: emodb/wav/11b03Nb.wav   \n",
            "  inflating: emodb/wav/15b02Wc.wav   \n",
            "  inflating: emodb/wav/14a05Fb.wav   \n",
            "  inflating: emodb/wav/09b10Nd.wav   \n",
            "  inflating: emodb/wav/15b09Nb.wav   \n",
            "  inflating: emodb/wav/10b09Ad.wav   \n",
            "  inflating: emodb/wav/12b09Td.wav   \n",
            "  inflating: emodb/wav/14a02Ab.wav   \n",
            "  inflating: emodb/wav/09a02Eb.wav   \n",
            "  inflating: emodb/wav/16a07Wa.wav   \n",
            "  inflating: emodb/wav/03b10Ab.wav   \n",
            "  inflating: emodb/wav/16b03Ad.wav   \n",
            "  inflating: emodb/wav/16a02Tc.wav   \n",
            "  inflating: emodb/wav/03a04Ad.wav   \n",
            "  inflating: emodb/wav/13a02Nc.wav   \n",
            "  inflating: emodb/wav/03a01Nc.wav   \n",
            "  inflating: emodb/wav/10a02Lb.wav   \n",
            "  inflating: emodb/wav/14b10Nb.wav   \n",
            "  inflating: emodb/wav/08a02Ac.wav   \n",
            "  inflating: emodb/wav/13a02Ta.wav   \n",
            "  inflating: emodb/wav/03a07Nc.wav   \n",
            "  inflating: emodb/wav/16b09La.wav   \n",
            "  inflating: emodb/wav/12b02Fb.wav   \n",
            "  inflating: emodb/wav/08b10Nc.wav   \n",
            "  inflating: emodb/wav/09a05Ed.wav   \n",
            "  inflating: emodb/wav/13a01Ea.wav   \n",
            "  inflating: emodb/wav/13b10La.wav   \n",
            "  inflating: emodb/wav/16b10Td.wav   \n",
            "  inflating: emodb/wav/12a07Ac.wav   \n",
            "  inflating: emodb/wav/16b02Fd.wav   \n",
            "  inflating: emodb/wav/11a04Wc.wav   \n",
            "  inflating: emodb/wav/13b02Wa.wav   \n",
            "  inflating: emodb/wav/11b10Ad.wav   \n",
            "  inflating: emodb/wav/14a02Fd.wav   \n",
            "  inflating: emodb/wav/16b02Eb.wav   \n",
            "  inflating: emodb/wav/11b01Ab.wav   \n",
            "  inflating: emodb/wav/15b09Fa.wav   \n",
            "  inflating: emodb/wav/16b01Aa.wav   \n",
            "  inflating: emodb/wav/15b03Aa.wav   \n",
            "  inflating: emodb/wav/15b01Wc.wav   \n",
            "  inflating: emodb/wav/14a05Ac.wav   \n",
            "  inflating: emodb/wav/08b10Aa.wav   \n",
            "  inflating: emodb/wav/16a01Ec.wav   \n",
            "  inflating: emodb/wav/11a01Ld.wav   \n",
            "  inflating: emodb/wav/14b09Wc.wav   \n",
            "  inflating: emodb/wav/12a01Lb.wav   \n",
            "  inflating: emodb/wav/14a05Na.wav   \n",
            "  inflating: emodb/wav/11b09Fd.wav   \n",
            "  inflating: emodb/wav/03b01Nb.wav   \n",
            "  inflating: emodb/wav/11a05Td.wav   \n",
            "  inflating: emodb/wav/13b10Wa.wav   \n",
            "  inflating: emodb/wav/16a07Lb.wav   \n",
            "  inflating: emodb/wav/14a01Ea.wav   \n",
            "  inflating: emodb/wav/10a05Wb.wav   \n",
            "  inflating: emodb/wav/10b10Wa.wav   \n",
            "  inflating: emodb/wav/10b03La.wav   \n",
            "  inflating: emodb/wav/08a01Wa.wav   \n",
            "  inflating: emodb/wav/15b10Wa.wav   \n",
            "  inflating: emodb/wav/15a07Nc.wav   \n",
            "  inflating: emodb/wav/15a07Fa.wav   \n",
            "  inflating: emodb/wav/13b01Nc.wav   \n",
            "  inflating: emodb/wav/09a05Lc.wav   \n",
            "  inflating: emodb/wav/14a05Wb.wav   \n",
            "  inflating: emodb/wav/09b09Ea.wav   \n",
            "  inflating: emodb/wav/03a04Nc.wav   \n",
            "  inflating: emodb/wav/16b03La.wav   \n",
            "  inflating: emodb/wav/11a07Ta.wav   \n",
            "  inflating: emodb/wav/13a02Wa.wav   \n",
            "  inflating: emodb/wav/08a07La.wav   \n",
            "  inflating: emodb/wav/03b09Nc.wav   \n",
            "  inflating: emodb/wav/08a04Tb.wav   \n",
            "  inflating: emodb/wav/16b10Aa.wav   \n",
            "  inflating: emodb/wav/08b10La.wav   \n",
            "  inflating: emodb/wav/16b10Tb.wav   \n",
            "  inflating: emodb/wav/16a07Ea.wav   \n",
            "  inflating: emodb/wav/09a01Wb.wav   \n",
            "  inflating: emodb/wav/16a02Lb.wav   \n",
            "  inflating: emodb/wav/10a07Wb.wav   \n",
            "  inflating: emodb/wav/13a04Wc.wav   \n",
            "  inflating: emodb/wav/13b10Nc.wav   \n",
            "  inflating: emodb/wav/12a07La.wav   \n",
            "  inflating: emodb/wav/14b01Ac.wav   \n",
            "  inflating: emodb/wav/09b03Fa.wav   \n",
            "  inflating: emodb/wav/09a04La.wav   \n",
            "  inflating: emodb/wav/03b10Ec.wav   \n",
            "  inflating: emodb/wav/08b09Wa.wav   \n",
            "  inflating: emodb/wav/15b02Wa.wav   \n",
            "  inflating: emodb/wav/14a04Tb.wav   \n",
            "  inflating: emodb/wav/16b10Wa.wav   \n",
            "  inflating: emodb/wav/12a05Ta.wav   \n",
            "  inflating: emodb/wav/16b09Lb.wav   \n",
            "  inflating: emodb/wav/11a01Ab.wav   \n",
            "  inflating: emodb/wav/10b02Wb.wav   \n",
            "  inflating: emodb/wav/15b03Wb.wav   \n",
            "  inflating: emodb/wav/16b03Fa.wav   \n",
            "  inflating: emodb/wav/12a05Lb.wav   \n",
            "  inflating: emodb/wav/16a04Ea.wav   \n",
            "  inflating: emodb/wav/16a07Fa.wav   \n",
            "  inflating: emodb/wav/16b09Fb.wav   \n",
            "  inflating: emodb/wav/10b01Aa.wav   \n",
            "  inflating: emodb/wav/09b02Wc.wav   \n",
            "  inflating: emodb/wav/15a02La.wav   \n",
            "  inflating: emodb/wav/03a07Wc.wav   \n",
            "  inflating: emodb/wav/14a05Tc.wav   \n",
            "  inflating: emodb/wav/08a05Fe.wav   \n",
            "  inflating: emodb/db.files.csv      \n",
            "  inflating: emodb/db.files.pkl      \n",
            "  inflating: emodb/db.yaml           \n",
            "  inflating: emodb/db.emotion.categories.train.gold_standard.csv  \n",
            "  inflating: emodb/db.emotion.categories.test.gold_standard.pkl  \n",
            "  inflating: emodb/db.speaker.pkl    \n",
            "  inflating: emodb/db.emotion.pkl    \n",
            "  inflating: emodb/db.emotion.categories.test.gold_standard.csv  \n",
            "  inflating: emodb/db.speaker.csv    \n",
            "  inflating: emodb/db.emotion.csv    \n"
          ]
        }
      ],
      "source": [
        "!wget https://zenodo.org/record/7447302/files/emodb.zip\n",
        "\n",
        "!unzip emodb.zip"
      ]
    },
    {
      "cell_type": "markdown",
      "metadata": {
        "id": "qj6o1Bpl3q-u"
      },
      "source": [
        "**Inializing constants**"
      ]
    },
    {
      "cell_type": "code",
      "execution_count": 4,
      "metadata": {
        "id": "BSkBqBilZc40"
      },
      "outputs": [],
      "source": [
        "# constants\n",
        "sr = 16000\n",
        "duration = 5\n",
        "frame_length = 512\n",
        "N_FRAMES = math.ceil(sr*duration/frame_length)\n",
        "N_FEATURES = 180\n",
        "N_EMOTIONS = 7\n",
        "labels_encoded = {'anger':0, 'boredom':1, 'disgust':2, 'fear':3, 'happiness':4, 'sadness':5, 'neutral':5}\n",
        "path = \"emodb/\"\n",
        "\n"
      ]
    },
    {
      "cell_type": "code",
      "source": [
        "keras.utils.set_random_seed(3)"
      ],
      "metadata": {
        "id": "BWKKUfgVabaC"
      },
      "execution_count": 5,
      "outputs": []
    },
    {
      "cell_type": "markdown",
      "metadata": {
        "id": "yId88OFL3xPS"
      },
      "source": [
        "**Loading dataset**\n",
        "\n",
        "using the gold standard train and test data"
      ]
    },
    {
      "cell_type": "code",
      "execution_count": 6,
      "metadata": {
        "colab": {
          "base_uri": "https://localhost:8080/"
        },
        "id": "NYAPJuRccUpv",
        "outputId": "6d21e0de-563e-4d56-bdcb-32bab735d005"
      },
      "outputs": [
        {
          "output_type": "stream",
          "name": "stdout",
          "text": [
            "samples in train: 304, and test: 231\n"
          ]
        }
      ],
      "source": [
        "\n",
        "db = audformat.Database.load('emodb')\n",
        "\n",
        "df_test = db['emotion.categories.test.gold_standard'].get()\n",
        "\n",
        "df_train = db['emotion.categories.train.gold_standard'].get()\n",
        "\n",
        "print(f'samples in train: {df_train.shape[0]}, and test: {df_test.shape[0]}')"
      ]
    },
    {
      "cell_type": "code",
      "execution_count": 7,
      "metadata": {
        "id": "oXhp0SLe5-gJ"
      },
      "outputs": [],
      "source": [
        "labels_encoded = {'anger':0, 'boredom':1, 'disgust':2, 'fear':3, 'happiness':4, 'sadness':5, 'neutral':6}\n",
        "df_train['label']=df_train['emotion'].apply(lambda x:labels_encoded[x])\n",
        "df_test['label']=df_test['emotion'].apply(lambda x:labels_encoded[x])"
      ]
    },
    {
      "cell_type": "markdown",
      "metadata": {
        "id": "UMGRd8Qb4Nia"
      },
      "source": [
        "**Data Analysis**"
      ]
    },
    {
      "cell_type": "code",
      "execution_count": 8,
      "metadata": {
        "id": "quELRxHZ6PNd"
      },
      "outputs": [],
      "source": [
        "for itm in list(df_test.index):\n",
        "  s_rate = librosa.get_samplerate('emodb/'+itm)\n",
        "  if s_rate != 16000:\n",
        "    print(s_rate)"
      ]
    },
    {
      "cell_type": "code",
      "execution_count": 9,
      "metadata": {
        "colab": {
          "base_uri": "https://localhost:8080/"
        },
        "id": "BCUaE8Qb0xcU",
        "outputId": "f855cc9f-3b47-4cb1-e12d-130b56f402ab"
      },
      "outputs": [
        {
          "output_type": "execute_result",
          "data": {
            "text/plain": [
              "['happiness', 'boredom', 'neutral', 'anger', 'fear', 'disgust', 'sadness']\n",
              "Categories (7, object): ['anger', 'boredom', 'disgust', 'fear', 'happiness', 'sadness', 'neutral']"
            ]
          },
          "metadata": {},
          "execution_count": 9
        }
      ],
      "source": [
        "df_test.emotion.unique()"
      ]
    },
    {
      "cell_type": "code",
      "execution_count": 10,
      "metadata": {
        "id": "FROb5It2u1aL"
      },
      "outputs": [],
      "source": [
        "data, sampling_rate = librosa.load('emodb/'+df_test.index[0])"
      ]
    },
    {
      "cell_type": "code",
      "execution_count": 11,
      "metadata": {
        "colab": {
          "base_uri": "https://localhost:8080/"
        },
        "id": "ej0PqLFl4lhJ",
        "outputId": "7add1010-9f12-452c-f15b-721fda770edd"
      },
      "outputs": [
        {
          "output_type": "execute_result",
          "data": {
            "text/plain": [
              "41093"
            ]
          },
          "metadata": {},
          "execution_count": 11
        }
      ],
      "source": [
        "len(data)"
      ]
    },
    {
      "cell_type": "code",
      "execution_count": 12,
      "metadata": {
        "colab": {
          "base_uri": "https://localhost:8080/"
        },
        "id": "GTsBArPM4oIS",
        "outputId": "fe4a2732-45fc-4263-c219-4187937751a5"
      },
      "outputs": [
        {
          "output_type": "execute_result",
          "data": {
            "text/plain": [
              "3.048674e-05"
            ]
          },
          "metadata": {},
          "execution_count": 12
        }
      ],
      "source": [
        "data[0]"
      ]
    },
    {
      "cell_type": "code",
      "execution_count": 13,
      "metadata": {
        "colab": {
          "base_uri": "https://localhost:8080/",
          "height": 93
        },
        "id": "wv-HTjdi4yXm",
        "outputId": "dd20cb61-dc28-4aef-b490-cfaad3283a85"
      },
      "outputs": [
        {
          "output_type": "stream",
          "name": "stdout",
          "text": [
            "happiness\n"
          ]
        },
        {
          "output_type": "execute_result",
          "data": {
            "text/plain": [
              "<IPython.lib.display.Audio object>"
            ],
            "text/html": [
              "\n",
              "                <audio  controls=\"controls\" >\n",
              "                    <source src=\"data:audio/x-wav;base64,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\" type=\"audio/x-wav\" />\n",
              "                    Your browser does not support the audio element.\n",
              "                </audio>\n",
              "              "
            ]
          },
          "metadata": {},
          "execution_count": 13
        }
      ],
      "source": [
        "print(df_test.emotion[0])\n",
        "ipd.Audio('emodb/'+df_test.index[0])\n"
      ]
    },
    {
      "cell_type": "code",
      "execution_count": 14,
      "metadata": {
        "colab": {
          "base_uri": "https://localhost:8080/",
          "height": 504
        },
        "id": "1r1Z0cKv4_re",
        "outputId": "546e8f8f-a77d-42dd-d560-63d955eba621"
      },
      "outputs": [
        {
          "output_type": "execute_result",
          "data": {
            "text/plain": [
              "<librosa.display.AdaptiveWaveplot at 0x7a0950339c90>"
            ]
          },
          "metadata": {},
          "execution_count": 14
        },
        {
          "output_type": "display_data",
          "data": {
            "text/plain": [
              "<Figure size 1500x500 with 1 Axes>"
            ],
            "image/png": "[encoded data removed]"
          },
          "metadata": {}
        }
      ],
      "source": [
        "data, sampling_rate = librosa.load('emodb/'+df_test.index[0])\n",
        "plt.figure(figsize=(15, 5))\n",
        "plt.ylabel('Relative intensity')\n",
        "plt.title('Sound sample, Emotion: '+df_test.emotion[0])\n",
        "librosa.display.waveshow(data, sr=sampling_rate)"
      ]
    },
    {
      "cell_type": "code",
      "source": [
        "data, sampling_rate = librosa.load('emodb/'+df_test.index[3])\n",
        "plt.figure(figsize=(15, 5))\n",
        "plt.ylabel('Relative intensity')\n",
        "plt.title('Sound sample, Emotion: '+df_test.emotion[3])\n",
        "librosa.display.waveshow(data, sr=sampling_rate)"
      ],
      "metadata": {
        "colab": {
          "base_uri": "https://localhost:8080/",
          "height": 504
        },
        "id": "wBLZcNjcBa5_",
        "outputId": "ac37147c-ef29-44c3-e4fb-8f0b4636be7e"
      },
      "execution_count": 15,
      "outputs": [
        {
          "output_type": "execute_result",
          "data": {
            "text/plain": [
              "<librosa.display.AdaptiveWaveplot at 0x7a0950087070>"
            ]
          },
          "metadata": {},
          "execution_count": 15
        },
        {
          "output_type": "display_data",
          "data": {
            "text/plain": [
              "<Figure size 1500x500 with 1 Axes>"
            ],
            "image/png": "[encoded data removed]"
          },
          "metadata": {}
        }
      ]
    },
    {
      "cell_type": "code",
      "execution_count": 16,
      "metadata": {
        "colab": {
          "base_uri": "https://localhost:8080/",
          "height": 489
        },
        "id": "YJjukACKU4lL",
        "outputId": "3834f7e4-cdbb-461d-969b-1a6e3c88563f"
      },
      "outputs": [
        {
          "output_type": "execute_result",
          "data": {
            "text/plain": [
              "Text(0.5, 1.0, 'Train data histogram')"
            ]
          },
          "metadata": {},
          "execution_count": 16
        },
        {
          "output_type": "display_data",
          "data": {
            "text/plain": [
              "<Figure size 640x480 with 1 Axes>"
            ],
            "image/png": "[encoded data removed]"
          },
          "metadata": {}
        }
      ],
      "source": [
        "plt.hist(df_train['emotion'])\n",
        "plt.xlabel('Emotions')\n",
        "plt.ylabel('Frequency')\n",
        "plt.title('Train data histogram')"
      ]
    },
    {
      "cell_type": "code",
      "source": [
        "plt.hist(df_test['emotion'])\n",
        "plt.xlabel('Emotions')\n",
        "plt.ylabel('Frequency')\n",
        "plt.title('Test data histogram')"
      ],
      "metadata": {
        "colab": {
          "base_uri": "https://localhost:8080/",
          "height": 489
        },
        "id": "-z-fmYGhCamj",
        "outputId": "38ec4ae4-9b32-47f7-92d3-10d74ebfe36c"
      },
      "execution_count": 17,
      "outputs": [
        {
          "output_type": "execute_result",
          "data": {
            "text/plain": [
              "Text(0.5, 1.0, 'Test data histogram')"
            ]
          },
          "metadata": {},
          "execution_count": 17
        },
        {
          "output_type": "display_data",
          "data": {
            "text/plain": [
              "<Figure size 640x480 with 1 Axes>"
            ],
            "image/png": "[encoded data removed]"
          },
          "metadata": {}
        }
      ]
    },
    {
      "cell_type": "code",
      "execution_count": 18,
      "metadata": {
        "id": "UcV49InpWGwA"
      },
      "outputs": [],
      "source": [
        "data_mspect = librosa.feature.melspectrogram(y = data , sr = sr)"
      ]
    },
    {
      "cell_type": "code",
      "source": [
        "data_mspect.shape"
      ],
      "metadata": {
        "colab": {
          "base_uri": "https://localhost:8080/"
        },
        "id": "Jrn5C8Q9-OFB",
        "outputId": "b961d0b8-5178-4655-eb05-7eed71f29002"
      },
      "execution_count": 19,
      "outputs": [
        {
          "output_type": "execute_result",
          "data": {
            "text/plain": [
              "(128, 102)"
            ]
          },
          "metadata": {},
          "execution_count": 19
        }
      ]
    },
    {
      "cell_type": "code",
      "source": [
        "sampling_rate"
      ],
      "metadata": {
        "colab": {
          "base_uri": "https://localhost:8080/"
        },
        "id": "lRfvi9uU-YQw",
        "outputId": "d2cbbfe0-6bb7-46ba-821e-05603e65bd71"
      },
      "execution_count": 20,
      "outputs": [
        {
          "output_type": "execute_result",
          "data": {
            "text/plain": [
              "22050"
            ]
          },
          "metadata": {},
          "execution_count": 20
        }
      ]
    },
    {
      "cell_type": "code",
      "execution_count": 21,
      "metadata": {
        "colab": {
          "base_uri": "https://localhost:8080/",
          "height": 466
        },
        "id": "m1VSi-CtWo06",
        "outputId": "b4ca71cd-66b2-4b12-a08f-450e56ce2b17"
      },
      "outputs": [
        {
          "output_type": "execute_result",
          "data": {
            "text/plain": [
              "<librosa.display.AdaptiveWaveplot at 0x7a0951ad5510>"
            ]
          },
          "metadata": {},
          "execution_count": 21
        },
        {
          "output_type": "display_data",
          "data": {
            "text/plain": [
              "<Figure size 640x480 with 1 Axes>"
            ],
            "image/png": "[encoded data removed]"
          },
          "metadata": {}
        }
      ],
      "source": [
        "librosa.display.waveshow(data_mspect, sr=sampling_rate)"
      ]
    },
    {
      "cell_type": "code",
      "execution_count": 22,
      "metadata": {
        "colab": {
          "base_uri": "https://localhost:8080/",
          "height": 466
        },
        "id": "n-ZKW2WQWxnI",
        "outputId": "5e9fb8b5-2a27-4a79-af86-6b46b2641523"
      },
      "outputs": [
        {
          "output_type": "execute_result",
          "data": {
            "text/plain": [
              "<librosa.display.AdaptiveWaveplot at 0x7a0951d4a0b0>"
            ]
          },
          "metadata": {},
          "execution_count": 22
        },
        {
          "output_type": "display_data",
          "data": {
            "text/plain": [
              "<Figure size 640x480 with 1 Axes>"
            ],
            "image/png": "[encoded data removed]"
          },
          "metadata": {}
        }
      ],
      "source": [
        "librosa.display.waveshow(data, sr=sampling_rate)"
      ]
    },
    {
      "cell_type": "code",
      "source": [
        "y, sampling_rate = librosa.load(path +  df_train.index[0], sr=sr, mono=True, duration=duration)"
      ],
      "metadata": {
        "id": "PFUHndN1hAN8"
      },
      "execution_count": 23,
      "outputs": []
    },
    {
      "cell_type": "code",
      "source": [
        "N_FRAMES"
      ],
      "metadata": {
        "colab": {
          "base_uri": "https://localhost:8080/"
        },
        "id": "8VNT0PZVBH5V",
        "outputId": "70a2d8cf-f517-40ce-960e-d47f288bcc4e"
      },
      "execution_count": 24,
      "outputs": [
        {
          "output_type": "execute_result",
          "data": {
            "text/plain": [
              "157"
            ]
          },
          "metadata": {},
          "execution_count": 24
        }
      ]
    },
    {
      "cell_type": "code",
      "source": [
        "librosa.feature.spectral_centroid(y=y, sr=sr, hop_length=frame_length)[0].shape"
      ],
      "metadata": {
        "colab": {
          "base_uri": "https://localhost:8080/"
        },
        "id": "DRUsQKyJ_z4b",
        "outputId": "9fd40073-8424-4910-895f-a99e9dcd2e4c"
      },
      "execution_count": 25,
      "outputs": [
        {
          "output_type": "execute_result",
          "data": {
            "text/plain": [
              "(60,)"
            ]
          },
          "metadata": {},
          "execution_count": 25
        }
      ]
    },
    {
      "cell_type": "code",
      "source": [
        "librosa.feature.spectral_contrast(y=y, sr=sr, hop_length=frame_length).shape"
      ],
      "metadata": {
        "colab": {
          "base_uri": "https://localhost:8080/"
        },
        "id": "TU56QEiaCfLF",
        "outputId": "b6f0635d-36a1-4ace-b1ff-5f388acb4a64"
      },
      "execution_count": 26,
      "outputs": [
        {
          "output_type": "execute_result",
          "data": {
            "text/plain": [
              "(7, 60)"
            ]
          },
          "metadata": {},
          "execution_count": 26
        }
      ]
    },
    {
      "cell_type": "code",
      "source": [
        "librosa.feature.zero_crossing_rate(y=y,  hop_length=frame_length).shape"
      ],
      "metadata": {
        "colab": {
          "base_uri": "https://localhost:8080/"
        },
        "id": "vIAEBJQICpq3",
        "outputId": "6d22aa58-9a4a-4831-ee12-54cfd73b80ae"
      },
      "execution_count": 27,
      "outputs": [
        {
          "output_type": "execute_result",
          "data": {
            "text/plain": [
              "(1, 60)"
            ]
          },
          "metadata": {},
          "execution_count": 27
        }
      ]
    },
    {
      "cell_type": "code",
      "source": [
        "librosa.feature.melspectrogram(y=y , sr = sampling_rate).shape"
      ],
      "metadata": {
        "colab": {
          "base_uri": "https://localhost:8080/"
        },
        "id": "Ayze5YCWvs-N",
        "outputId": "4463021f-a2e3-4abd-b35c-84a9dd806be4"
      },
      "execution_count": 28,
      "outputs": [
        {
          "output_type": "execute_result",
          "data": {
            "text/plain": [
              "(128, 60)"
            ]
          },
          "metadata": {},
          "execution_count": 28
        }
      ]
    },
    {
      "cell_type": "code",
      "source": [
        "N_FRAMES\n"
      ],
      "metadata": {
        "colab": {
          "base_uri": "https://localhost:8080/"
        },
        "id": "G5toXHRAD_52",
        "outputId": "7a59894d-5be7-4147-ac2f-cd42b576addb"
      },
      "execution_count": 29,
      "outputs": [
        {
          "output_type": "execute_result",
          "data": {
            "text/plain": [
              "157"
            ]
          },
          "metadata": {},
          "execution_count": 29
        }
      ]
    },
    {
      "cell_type": "code",
      "source": [
        "N_FEATURES = 30"
      ],
      "metadata": {
        "id": "k9MEjYRixwfg"
      },
      "execution_count": 30,
      "outputs": []
    },
    {
      "cell_type": "markdown",
      "metadata": {
        "id": "ZSTSeGTV4e8d"
      },
      "source": [
        "**Feature Extraction**\n",
        "\n",
        "Extracting spectrogram features"
      ]
    },
    {
      "cell_type": "code",
      "execution_count": 31,
      "metadata": {
        "id": "bqcVWVRxW3_1"
      },
      "outputs": [],
      "source": [
        "def feature_extraction(df,feat_types):\n",
        "    features = [] #(N_SAMPLES, N_FRAMES, N_FEATURES)\n",
        "    emotions = df.label\n",
        "    waves=[]\n",
        "    for fnm in df.index:\n",
        "      #y, sampling_rate = librosa.load(path +  fnm, sr=sr, mono=True, duration=duration)\n",
        "      y, sampling_rate = librosa.load(path +  fnm, sr=sr, mono=True)\n",
        "      waves.append(y)\n",
        "    # pad to fixed length (zero, 'pre')\n",
        "    waves_padded = pad_sequences(waves, maxlen=sr * duration, dtype=\"float32\")\n",
        "    for y in waves_padded:\n",
        "      frames = []\n",
        "      if 'centroid' in feat_types:\n",
        "        spectral_centroid = librosa.feature.spectral_centroid(y=y, sr=sr, hop_length=frame_length)[0] #https://librosa.org/doc/main/generated/librosa.feature.spectral_centroid.html\n",
        "      if 'contrast' in feat_types:\n",
        "        spectral_contrast_0 = librosa.feature.spectral_contrast(y=y, sr=sr, hop_length=frame_length)[0] #https://librosa.org/doc/main/generated/librosa.feature.spectral_contrast.html\n",
        "        spectral_contrast_1 = librosa.feature.spectral_contrast(y=y, sr=sr, hop_length=frame_length)[1] #https://librosa.org/doc/main/generated/librosa.feature.spectral_contrast.html\n",
        "        spectral_contrast_2 = librosa.feature.spectral_contrast(y=y, sr=sr, hop_length=frame_length)[2] #https://librosa.org/doc/main/generated/librosa.feature.spectral_contrast.html\n",
        "        spectral_contrast_3 = librosa.feature.spectral_contrast(y=y, sr=sr, hop_length=frame_length)[3] #https://librosa.org/doc/main/generated/librosa.feature.spectral_contrast.html\n",
        "        spectral_contrast_4 = librosa.feature.spectral_contrast(y=y, sr=sr, hop_length=frame_length)[4] #https://librosa.org/doc/main/generated/librosa.feature.spectral_contrast.html\n",
        "        spectral_contrast_5 = librosa.feature.spectral_contrast(y=y, sr=sr, hop_length=frame_length)[5] #https://librosa.org/doc/main/generated/librosa.feature.spectral_contrast.html\n",
        "        spectral_contrast_6 = librosa.feature.spectral_contrast(y=y, sr=sr, hop_length=frame_length)[6] #https://librosa.org/doc/main/generated/librosa.feature.spectral_contrast.html\n",
        "      #print('spectral_centroid : ',spectral_centroid.shape)\n",
        "      #print('spectral_contrast_0 : ',spectral_contrast_0.shape)\n",
        "      if 'bandwidth' in feat_types:\n",
        "        spectral_bandwidth = librosa.feature.spectral_bandwidth(y=y, sr=sr, hop_length=frame_length)[0] #https://librosa.org/doc/main/generated/librosa.feature.spectral_bandwidth.html\n",
        "      if 'spect_rolloff' in feat_types:\n",
        "        spectral_rolloff = librosa.feature.spectral_rolloff(y=y, sr=sr, hop_length=frame_length)[0] #https://librosa.org/doc/main/generated/librosa.feature.spectral_rolloff.html\n",
        "      if 'crossing_rate'  in feat_types:\n",
        "        zero_crossing_rate = librosa.feature.zero_crossing_rate(y, hop_length=frame_length)[0] #https://librosa.org/doc/main/generated/librosa.feature.zero_crossing_rate.html\n",
        "      #S, phase = librosa.magphase(librosa.stft(y=y, hop_length=frame_length))\n",
        "      #rms = librosa.feature.rms(y=y, hop_length=frame_length, S=S)[0]\n",
        "      if 'mfcc' in feat_types:\n",
        "        mfcc = librosa.feature.mfcc(y=y, sr=sr, hop_length=frame_length)\n",
        "        mfcc_der = librosa.feature.delta(mfcc)\n",
        "      if 'melspect' in feat_types:\n",
        "        feat_mspect = librosa.feature.melspectrogram(y=y , sr = sampling_rate)\n",
        "      # print(feat_mspect.shape,mfcc.shape,N_FRAMES)\n",
        "      # print('N_FRAMES : ', N_FRAMES)\n",
        "      for i in range(N_FRAMES):\n",
        "        f=[]\n",
        "        if 'centroid' in feat_types:\n",
        "          f.append(spectral_centroid[i])\n",
        "        if 'contrast' in feat_types:\n",
        "          f.append(spectral_contrast_0[i])\n",
        "          # f.append(spectral_contrast_1[i])\n",
        "          # f.append(spectral_contrast_2[i])\n",
        "          # f.append(spectral_contrast_3[i])\n",
        "          # f.append(spectral_contrast_4[i])\n",
        "          # f.append(spectral_contrast_5[i])\n",
        "          # f.append(spectral_contrast_6[i])\n",
        "        if 'bandwidth' in feat_types:\n",
        "          f.append(spectral_bandwidth[i])\n",
        "        if 'spect_rolloff' in feat_types:\n",
        "          f.append(spectral_rolloff[i])\n",
        "        if 'crossing_rate'  in feat_types:\n",
        "          f.append(zero_crossing_rate[i])\n",
        "        #f.append(rms[i])\n",
        "\n",
        "        if 'mfcc' in feat_types:\n",
        "          for m_coeff in mfcc[:,i]:\n",
        "           f.append(m_coeff)\n",
        "          for m_coeff_der in mfcc_der[:, i]:\n",
        "              f.append(m_coeff_der)\n",
        "        if 'melspect' in feat_types:\n",
        "          for m_spect in feat_mspect[:, i]:\n",
        "            f.append(m_spect)\n",
        "        frames.append(f)\n",
        "        #print(len(f))\n",
        "\n",
        "      features.append(frames)\n",
        "\n",
        "    features = np.array(features)\n",
        "    # flatten\n",
        "    N_SAMPLES = len(features)\n",
        "    print('bef : ', features.shape)\n",
        "\n",
        "    features.shape = (N_SAMPLES, N_FRAMES * len(f) )\n",
        "    print('aft : ', features.shape)\n",
        "\n",
        "    emotions = np.array(emotions)\n",
        "    return features,emotions,len(f)"
      ]
    },
    {
      "cell_type": "code",
      "execution_count": 101,
      "metadata": {
        "id": "dQ7rGX0bccv6",
        "colab": {
          "base_uri": "https://localhost:8080/"
        },
        "outputId": "74051930-3656-45f9-f428-103390b07b90"
      },
      "outputs": [
        {
          "output_type": "stream",
          "name": "stdout",
          "text": [
            "bef :  (304, 157, 1)\n",
            "aft :  (304, 157)\n",
            "bef :  (231, 157, 1)\n",
            "aft :  (231, 157)\n"
          ]
        },
        {
          "output_type": "stream",
          "name": "stderr",
          "text": [
            "/usr/local/lib/python3.10/dist-packages/sklearn/preprocessing/_encoders.py:868: FutureWarning: `sparse` was renamed to `sparse_output` in version 1.2 and will be removed in 1.4. `sparse_output` is ignored unless you leave `sparse` to its default value.\n",
            "  warnings.warn(\n",
            "/usr/local/lib/python3.10/dist-packages/sklearn/preprocessing/_encoders.py:868: FutureWarning: `sparse` was renamed to `sparse_output` in version 1.2 and will be removed in 1.4. `sparse_output` is ignored unless you leave `sparse` to its default value.\n",
            "  warnings.warn(\n"
          ]
        }
      ],
      "source": [
        "all_features=['centroid', 'contrast', 'bandwidth', 'crossing_rate', 'mfcc', 'melspect' ]\n",
        "feat_combs=[[feat] for feat in all_features]\n",
        "feat_combs.append(all_features)\n",
        "X_train,y_train,N_FEATURES=feature_extraction(df_train,feat_combs[1])\n",
        "X_test,y_test,N_FEATURES=feature_extraction(df_test,feat_combs[1])\n",
        "scaler = StandardScaler()\n",
        "scaler.fit(X_train)\n",
        "X_train = scaler.fit_transform(X_train)\n",
        "X_test = scaler.fit_transform(X_test)\n",
        "\n",
        "# # balance train classes\n",
        "sm = SMOTE()\n",
        "X_train, y_train = sm.fit_resample(X_train, y_train)\n",
        "# restore 3D shape\n",
        "X_train.shape = (len(X_train), N_FRAMES, N_FEATURES)\n",
        "X_test.shape = (len(X_test), N_FRAMES, N_FEATURES)\n",
        "\n",
        "#Encoding the output classes into One hot encoding format\n",
        "encoder = OneHotEncoder(sparse=False)\n",
        "y_train= y_train.reshape(-1, 1)\n",
        "# print(y_train.shape)\n",
        "y_train = encoder.fit_transform(y_train)\n",
        "# print(y_train.shape)\n",
        "y_test= y_test.reshape(-1, 1)\n",
        "# print(y_test.shape)\n",
        "y_test = encoder.fit_transform(y_test)\n",
        "# print(y_test.shape)"
      ]
    },
    {
      "cell_type": "code",
      "execution_count": 102,
      "metadata": {
        "colab": {
          "base_uri": "https://localhost:8080/"
        },
        "id": "79yVIblmIvpa",
        "outputId": "ce4dd8ed-8b54-4c32-b08d-84176ba04f91"
      },
      "outputs": [
        {
          "output_type": "stream",
          "name": "stdout",
          "text": [
            "(504, 157, 1)\n",
            "(504, 7)\n"
          ]
        }
      ],
      "source": [
        "print(X_train.shape)\n",
        "print(y_train.shape)"
      ]
    },
    {
      "cell_type": "markdown",
      "metadata": {
        "id": "kpGK9meM5Ml6"
      },
      "source": [
        "Applying Convolutional Neural Network model"
      ]
    },
    {
      "cell_type": "code",
      "execution_count": 43,
      "metadata": {
        "id": "K7zGsCsNO3NC"
      },
      "outputs": [],
      "source": [
        "def train_model(X_train,y_train,best_weights_file,batch_size):\n",
        "  model = models.Sequential([\n",
        "      layers.Reshape((X_train.shape[1],X_train.shape[2],1),input_shape=X_train.shape[1:]),\n",
        "      layers.Conv2D(32,(4,4), activation='relu',input_shape=X_train.shape[1:]),\n",
        "      layers.MaxPooling2D(pool_size=(3,3)),\n",
        "      layers.Flatten(),\n",
        "      layers.Dense(128, activation='relu'),\n",
        "      layers.Dense(N_EMOTIONS, activation='softmax')  # Output layer with number of emotions\n",
        "  ])\n",
        "  model.compile(loss='categorical_crossentropy', optimizer='adam', metrics=['accuracy'])\n",
        "  # print(str(model.summary()))\n",
        "\n",
        "  # best_weights_file = \"cnn_weights.h5\"\n",
        "  es = EarlyStopping(monitor='val_loss', mode='min',  patience=10)\n",
        "  mc = ModelCheckpoint(best_weights_file, monitor='val_loss', mode='min',\n",
        "                          save_best_only=True)\n",
        "  model.fit(X_train, y_train, epochs=30, batch_size=batch_size, validation_split=0.2,callbacks=[es, mc])\n",
        "  return model"
      ]
    },
    {
      "cell_type": "code",
      "execution_count": 44,
      "metadata": {
        "id": "kc9nWEEgQw4f"
      },
      "outputs": [],
      "source": [
        "# test acc and loss\n",
        "def test_model(X_test,y_test,model,best_weights_file,batch_size):\n",
        "  model.load_weights(best_weights_file) # load the best saved model\n",
        "  model.compile(loss='categorical_crossentropy', optimizer='adam', metrics=['accuracy',keras.metrics.Recall()])\n",
        "  test_metrics = model.evaluate(X_test, y_test, batch_size=batch_size)\n",
        "  print(\"\\n%s: %.2f%%\" % (\"test \" + model.metrics_names[1], test_metrics[1] * 100))\n",
        "  print(\"%s: %.2f\" % (\"test \" + model.metrics_names[2], test_metrics[2]* 100))\n",
        "  return test_metrics\n"
      ]
    },
    {
      "cell_type": "code",
      "source": [
        "all_features=['centroid', 'contrast', 'bandwidth', 'crossing_rate','spect_rolloff', 'mfcc', 'melspect' ]\n",
        "feat_combs=[['mfcc'],['melspect']]\n",
        "for feat in all_features:\n",
        "  feat_combs.append(list((set(all_features)-set([feat]))))\n",
        "feat_combs.append(all_features)\n",
        "results={}\n",
        "for feat_types in feat_combs:\n",
        "  model_file_name=''.join(f+'_' for f in feat_types)\n",
        "  print(model_file_name)\n",
        "  X_train,y_train,N_FEATURES=feature_extraction(df_train,feat_types)\n",
        "  X_test,y_test,N_FEATURES=feature_extraction(df_test,feat_types)\n",
        "  scaler = StandardScaler()\n",
        "  scaler.fit(X_train)\n",
        "  X_train = scaler.transform(X_train)\n",
        "  X_test = scaler.transform(X_test)\n",
        "\n",
        "  # # balance train classes\n",
        "  sm = SMOTE()\n",
        "  X_train, y_train = sm.fit_resample(X_train, y_train)\n",
        "  # restore 3D shape\n",
        "  X_train.shape = (len(X_train), N_FRAMES, N_FEATURES)\n",
        "  X_test.shape = (len(X_test), N_FRAMES, N_FEATURES)\n",
        "\n",
        "  #Encoding the output classes into One hot encoding format\n",
        "  encoder = OneHotEncoder(sparse=False)\n",
        "  y_train= y_train.reshape(-1, 1)\n",
        "  # print(y_train.shape)\n",
        "  y_train = encoder.fit_transform(y_train)\n",
        "  # print(y_train.shape)\n",
        "  y_test= y_test.reshape(-1, 1)\n",
        "  # print(y_test.shape)\n",
        "  y_test = encoder.fit_transform(y_test)\n",
        "  # print(y_test.shape)\n",
        "\n",
        "  batch_size=32\n",
        "  model=train_model(X_train,y_train,model_file_name,batch_size)\n",
        "\n",
        "  test_metrics=test_model(X_test,y_test,model, model_file_name,batch_size)\n",
        "  print (test_metrics)\n",
        "  results[model_file_name]=test_metrics\n",
        "print(results)"
      ],
      "metadata": {
        "colab": {
          "base_uri": "https://localhost:8080/"
        },
        "id": "asJfVCazoplM",
        "outputId": "35a0d9cd-cd65-42b1-81f4-8b4e74062026"
      },
      "execution_count": 45,
      "outputs": [
        {
          "metadata": {
            "tags": null
          },
          "name": "stdout",
          "output_type": "stream",
          "text": [
            "mfcc_\n",
            "bef :  (304, 157, 40)\n",
            "aft :  (304, 6280)\n",
            "bef :  (231, 157, 40)\n",
            "aft :  (231, 6280)\n",
            "Epoch 1/30\n"
          ]
        },
        {
          "metadata": {
            "tags": null
          },
          "name": "stderr",
          "output_type": "stream",
          "text": [
            "/usr/local/lib/python3.10/dist-packages/sklearn/preprocessing/_encoders.py:868: FutureWarning: `sparse` was renamed to `sparse_output` in version 1.2 and will be removed in 1.4. `sparse_output` is ignored unless you leave `sparse` to its default value.\n",
            "  warnings.warn(\n",
            "/usr/local/lib/python3.10/dist-packages/sklearn/preprocessing/_encoders.py:868: FutureWarning: `sparse` was renamed to `sparse_output` in version 1.2 and will be removed in 1.4. `sparse_output` is ignored unless you leave `sparse` to its default value.\n",
            "  warnings.warn(\n"
          ]
        },
        {
          "metadata": {
            "tags": null
          },
          "name": "stdout",
          "output_type": "stream",
          "text": [
            "13/13 [==============================] - 3s 199ms/step - loss: 3.1996 - accuracy: 0.2382 - val_loss: 1.5513 - val_accuracy: 0.4653\n",
            "Epoch 2/30\n",
            "13/13 [==============================] - 4s 355ms/step - loss: 1.4441 - accuracy: 0.5136 - val_loss: 1.4090 - val_accuracy: 0.4950\n",
            "Epoch 3/30\n",
            "13/13 [==============================] - 3s 204ms/step - loss: 0.9328 - accuracy: 0.7122 - val_loss: 1.0541 - val_accuracy: 0.6733\n",
            "Epoch 4/30\n",
            "13/13 [==============================] - 2s 181ms/step - loss: 0.6233 - accuracy: 0.7916 - val_loss: 0.6903 - val_accuracy: 0.7723\n",
            "Epoch 5/30\n",
            "13/13 [==============================] - 2s 181ms/step - loss: 0.4682 - accuracy: 0.8462 - val_loss: 0.5197 - val_accuracy: 0.8515\n",
            "Epoch 6/30\n",
            "13/13 [==============================] - 2s 178ms/step - loss: 0.3376 - accuracy: 0.9057 - val_loss: 0.4023 - val_accuracy: 0.8911\n",
            "Epoch 7/30\n",
            "13/13 [==============================] - 3s 211ms/step - loss: 0.2834 - accuracy: 0.9057 - val_loss: 0.3780 - val_accuracy: 0.9109\n",
            "Epoch 8/30\n",
            "13/13 [==============================] - 4s 282ms/step - loss: 0.1930 - accuracy: 0.9504 - val_loss: 0.2729 - val_accuracy: 0.9505\n",
            "Epoch 9/30\n",
            "13/13 [==============================] - 2s 178ms/step - loss: 0.1235 - accuracy: 0.9851 - val_loss: 0.1775 - val_accuracy: 0.9901\n",
            "Epoch 10/30\n",
            "13/13 [==============================] - 3s 218ms/step - loss: 0.0838 - accuracy: 1.0000 - val_loss: 0.1483 - val_accuracy: 1.0000\n",
            "Epoch 11/30\n",
            "13/13 [==============================] - 2s 177ms/step - loss: 0.0660 - accuracy: 1.0000 - val_loss: 0.1151 - val_accuracy: 1.0000\n",
            "Epoch 12/30\n",
            "13/13 [==============================] - 2s 180ms/step - loss: 0.0496 - accuracy: 0.9975 - val_loss: 0.0931 - val_accuracy: 1.0000\n",
            "Epoch 13/30\n",
            "13/13 [==============================] - 3s 268ms/step - loss: 0.0399 - accuracy: 1.0000 - val_loss: 0.0780 - val_accuracy: 1.0000\n",
            "Epoch 14/30\n",
            "13/13 [==============================] - 3s 224ms/step - loss: 0.0346 - accuracy: 1.0000 - val_loss: 0.0594 - val_accuracy: 1.0000\n",
            "Epoch 15/30\n",
            "13/13 [==============================] - 2s 181ms/step - loss: 0.0322 - accuracy: 1.0000 - val_loss: 0.0487 - val_accuracy: 1.0000\n",
            "Epoch 16/30\n",
            "13/13 [==============================] - 2s 180ms/step - loss: 0.0202 - accuracy: 1.0000 - val_loss: 0.0412 - val_accuracy: 1.0000\n",
            "Epoch 17/30\n",
            "13/13 [==============================] - 2s 185ms/step - loss: 0.0161 - accuracy: 1.0000 - val_loss: 0.0368 - val_accuracy: 1.0000\n",
            "Epoch 18/30\n",
            "13/13 [==============================] - 3s 201ms/step - loss: 0.0133 - accuracy: 1.0000 - val_loss: 0.0323 - val_accuracy: 1.0000\n",
            "Epoch 19/30\n",
            "13/13 [==============================] - 4s 295ms/step - loss: 0.0117 - accuracy: 1.0000 - val_loss: 0.0288 - val_accuracy: 1.0000\n",
            "Epoch 20/30\n",
            "13/13 [==============================] - 2s 180ms/step - loss: 0.0097 - accuracy: 1.0000 - val_loss: 0.0280 - val_accuracy: 1.0000\n",
            "Epoch 21/30\n",
            "13/13 [==============================] - 2s 176ms/step - loss: 0.0088 - accuracy: 1.0000 - val_loss: 0.0234 - val_accuracy: 1.0000\n",
            "Epoch 22/30\n",
            "13/13 [==============================] - 2s 117ms/step - loss: 0.0081 - accuracy: 1.0000 - val_loss: 0.0245 - val_accuracy: 1.0000\n",
            "Epoch 23/30\n",
            "13/13 [==============================] - 2s 182ms/step - loss: 0.0071 - accuracy: 1.0000 - val_loss: 0.0203 - val_accuracy: 1.0000\n",
            "Epoch 24/30\n",
            "13/13 [==============================] - 2s 121ms/step - loss: 0.0069 - accuracy: 1.0000 - val_loss: 0.0216 - val_accuracy: 1.0000\n",
            "Epoch 25/30\n",
            "13/13 [==============================] - 4s 323ms/step - loss: 0.0063 - accuracy: 1.0000 - val_loss: 0.0178 - val_accuracy: 1.0000\n",
            "Epoch 26/30\n",
            "13/13 [==============================] - 3s 201ms/step - loss: 0.0055 - accuracy: 1.0000 - val_loss: 0.0172 - val_accuracy: 1.0000\n",
            "Epoch 27/30\n",
            "13/13 [==============================] - 2s 180ms/step - loss: 0.0050 - accuracy: 1.0000 - val_loss: 0.0158 - val_accuracy: 1.0000\n",
            "Epoch 28/30\n",
            "13/13 [==============================] - 2s 180ms/step - loss: 0.0047 - accuracy: 1.0000 - val_loss: 0.0155 - val_accuracy: 1.0000\n",
            "Epoch 29/30\n",
            "13/13 [==============================] - 2s 174ms/step - loss: 0.0044 - accuracy: 1.0000 - val_loss: 0.0138 - val_accuracy: 1.0000\n",
            "Epoch 30/30\n",
            "13/13 [==============================] - 3s 211ms/step - loss: 0.0040 - accuracy: 1.0000 - val_loss: 0.0138 - val_accuracy: 1.0000\n",
            "8/8 [==============================] - 1s 40ms/step - loss: 1.6393 - accuracy: 0.6104 - recall_1: 0.5931\n",
            "\n",
            "test accuracy: 61.04%\n",
            "test recall_1: 59.31\n",
            "[1.6393437385559082, 0.6103895902633667, 0.5930736064910889]\n",
            "melspect_\n",
            "bef :  (304, 157, 128)\n",
            "aft :  (304, 20096)\n",
            "bef :  (231, 157, 128)\n",
            "aft :  (231, 20096)\n"
          ]
        },
        {
          "metadata": {
            "tags": null
          },
          "name": "stderr",
          "output_type": "stream",
          "text": [
            "/usr/local/lib/python3.10/dist-packages/sklearn/preprocessing/_encoders.py:868: FutureWarning: `sparse` was renamed to `sparse_output` in version 1.2 and will be removed in 1.4. `sparse_output` is ignored unless you leave `sparse` to its default value.\n",
            "  warnings.warn(\n",
            "/usr/local/lib/python3.10/dist-packages/sklearn/preprocessing/_encoders.py:868: FutureWarning: `sparse` was renamed to `sparse_output` in version 1.2 and will be removed in 1.4. `sparse_output` is ignored unless you leave `sparse` to its default value.\n",
            "  warnings.warn(\n"
          ]
        },
        {
          "metadata": {
            "tags": null
          },
          "name": "stdout",
          "output_type": "stream",
          "text": [
            "Epoch 1/30\n",
            "13/13 [==============================] - 9s 589ms/step - loss: 2.9344 - accuracy: 0.4342 - val_loss: 0.8117 - val_accuracy: 0.7228\n",
            "Epoch 2/30\n",
            "13/13 [==============================] - 8s 621ms/step - loss: 0.4552 - accuracy: 0.8834 - val_loss: 0.1901 - val_accuracy: 0.9802\n",
            "Epoch 3/30\n",
            "13/13 [==============================] - ETA: 0s - loss: 0.1124 - accuracy: 0.9752"
          ]
        },
        {
          "metadata": {
            "tags": null
          },
          "name": "stderr",
          "output_type": "stream",
          "text": [
            "WARNING:tensorflow:Detecting that an object or model or tf.train.Checkpoint is being deleted with unrestored values. See the following logs for the specific values in question. To silence these warnings, use `status.expect_partial()`. See https://www.tensorflow.org/api_docs/python/tf/train/Checkpoint#restorefor details about the status object returned by the restore function.\n",
            "WARNING:tensorflow:Value in checkpoint could not be found in the restored object: (root).keras_api.metrics.0.total\n",
            "WARNING:tensorflow:Value in checkpoint could not be found in the restored object: (root).keras_api.metrics.0.count\n",
            "WARNING:tensorflow:Value in checkpoint could not be found in the restored object: (root).keras_api.metrics.1.total\n",
            "WARNING:tensorflow:Value in checkpoint could not be found in the restored object: (root).keras_api.metrics.1.count\n"
          ]
        },
        {
          "metadata": {
            "tags": null
          },
          "name": "stdout",
          "output_type": "stream",
          "text": [
            "13/13 [==============================] - 8s 589ms/step - loss: 0.1124 - accuracy: 0.9752 - val_loss: 0.0918 - val_accuracy: 1.0000\n",
            "Epoch 4/30\n",
            "13/13 [==============================] - 8s 649ms/step - loss: 0.0434 - accuracy: 0.9901 - val_loss: 0.0552 - val_accuracy: 1.0000\n",
            "Epoch 5/30\n",
            "13/13 [==============================] - 7s 521ms/step - loss: 0.0140 - accuracy: 1.0000 - val_loss: 0.0276 - val_accuracy: 1.0000\n",
            "Epoch 6/30\n",
            "13/13 [==============================] - 8s 654ms/step - loss: 0.0085 - accuracy: 1.0000 - val_loss: 0.0163 - val_accuracy: 1.0000\n",
            "Epoch 7/30\n",
            "13/13 [==============================] - 6s 495ms/step - loss: 0.0056 - accuracy: 1.0000 - val_loss: 0.0126 - val_accuracy: 1.0000\n",
            "Epoch 8/30\n",
            "13/13 [==============================] - 8s 661ms/step - loss: 0.0039 - accuracy: 1.0000 - val_loss: 0.0105 - val_accuracy: 1.0000\n",
            "Epoch 9/30\n",
            "13/13 [==============================] - 6s 494ms/step - loss: 0.0030 - accuracy: 1.0000 - val_loss: 0.0087 - val_accuracy: 1.0000\n",
            "Epoch 10/30\n",
            "13/13 [==============================] - 8s 603ms/step - loss: 0.0025 - accuracy: 1.0000 - val_loss: 0.0073 - val_accuracy: 1.0000\n",
            "Epoch 11/30\n",
            "13/13 [==============================] - 6s 497ms/step - loss: 0.0020 - accuracy: 1.0000 - val_loss: 0.0061 - val_accuracy: 1.0000\n",
            "Epoch 12/30\n",
            "13/13 [==============================] - 9s 684ms/step - loss: 0.0017 - accuracy: 1.0000 - val_loss: 0.0053 - val_accuracy: 1.0000\n",
            "Epoch 13/30\n",
            "13/13 [==============================] - 7s 524ms/step - loss: 0.0015 - accuracy: 1.0000 - val_loss: 0.0046 - val_accuracy: 1.0000\n",
            "Epoch 14/30\n",
            "13/13 [==============================] - 8s 659ms/step - loss: 0.0013 - accuracy: 1.0000 - val_loss: 0.0042 - val_accuracy: 1.0000\n",
            "Epoch 15/30\n",
            "13/13 [==============================] - 6s 494ms/step - loss: 0.0011 - accuracy: 1.0000 - val_loss: 0.0038 - val_accuracy: 1.0000\n",
            "Epoch 16/30\n",
            "13/13 [==============================] - 9s 685ms/step - loss: 9.9328e-04 - accuracy: 1.0000 - val_loss: 0.0034 - val_accuracy: 1.0000\n",
            "Epoch 17/30\n",
            "13/13 [==============================] - 7s 565ms/step - loss: 8.7968e-04 - accuracy: 1.0000 - val_loss: 0.0031 - val_accuracy: 1.0000\n",
            "Epoch 18/30\n",
            "13/13 [==============================] - 9s 681ms/step - loss: 7.8364e-04 - accuracy: 1.0000 - val_loss: 0.0029 - val_accuracy: 1.0000\n",
            "Epoch 19/30\n",
            "13/13 [==============================] - 6s 494ms/step - loss: 7.0868e-04 - accuracy: 1.0000 - val_loss: 0.0026 - val_accuracy: 1.0000\n",
            "Epoch 20/30\n",
            "13/13 [==============================] - 9s 680ms/step - loss: 6.4102e-04 - accuracy: 1.0000 - val_loss: 0.0024 - val_accuracy: 1.0000\n",
            "Epoch 21/30\n",
            "13/13 [==============================] - 6s 499ms/step - loss: 5.7856e-04 - accuracy: 1.0000 - val_loss: 0.0022 - val_accuracy: 1.0000\n",
            "Epoch 22/30\n",
            "13/13 [==============================] - 9s 674ms/step - loss: 5.3179e-04 - accuracy: 1.0000 - val_loss: 0.0020 - val_accuracy: 1.0000\n",
            "Epoch 23/30\n",
            "13/13 [==============================] - 7s 518ms/step - loss: 4.8498e-04 - accuracy: 1.0000 - val_loss: 0.0019 - val_accuracy: 1.0000\n",
            "Epoch 24/30\n",
            "13/13 [==============================] - 9s 670ms/step - loss: 4.5264e-04 - accuracy: 1.0000 - val_loss: 0.0018 - val_accuracy: 1.0000\n",
            "Epoch 25/30\n",
            "13/13 [==============================] - 7s 537ms/step - loss: 4.1427e-04 - accuracy: 1.0000 - val_loss: 0.0017 - val_accuracy: 1.0000\n",
            "Epoch 26/30\n",
            "13/13 [==============================] - 8s 631ms/step - loss: 3.8450e-04 - accuracy: 1.0000 - val_loss: 0.0016 - val_accuracy: 1.0000\n",
            "Epoch 27/30\n",
            "13/13 [==============================] - 7s 522ms/step - loss: 3.5904e-04 - accuracy: 1.0000 - val_loss: 0.0015 - val_accuracy: 1.0000\n",
            "Epoch 28/30\n",
            "13/13 [==============================] - 8s 599ms/step - loss: 3.3423e-04 - accuracy: 1.0000 - val_loss: 0.0014 - val_accuracy: 1.0000\n",
            "Epoch 29/30\n",
            "13/13 [==============================] - 7s 560ms/step - loss: 3.1587e-04 - accuracy: 1.0000 - val_loss: 0.0013 - val_accuracy: 1.0000\n",
            "Epoch 30/30\n",
            "13/13 [==============================] - 8s 588ms/step - loss: 2.9418e-04 - accuracy: 1.0000 - val_loss: 0.0013 - val_accuracy: 1.0000\n",
            "8/8 [==============================] - 1s 92ms/step - loss: 2.8033 - accuracy: 0.6320 - recall_2: 0.6190\n",
            "\n",
            "test accuracy: 63.20%\n",
            "test recall_2: 61.90\n",
            "[2.803276538848877, 0.6320346593856812, 0.6190476417541504]\n",
            "mfcc_crossing_rate_spect_rolloff_melspect_bandwidth_contrast_\n"
          ]
        },
        {
          "metadata": {
            "tags": null
          },
          "name": "stderr",
          "output_type": "stream",
          "text": [
            "WARNING:tensorflow:Detecting that an object or model or tf.train.Checkpoint is being deleted with unrestored values. See the following logs for the specific values in question. To silence these warnings, use `status.expect_partial()`. See https://www.tensorflow.org/api_docs/python/tf/train/Checkpoint#restorefor details about the status object returned by the restore function.\n",
            "WARNING:tensorflow:Value in checkpoint could not be found in the restored object: (root).keras_api.metrics.0.total\n",
            "WARNING:tensorflow:Value in checkpoint could not be found in the restored object: (root).keras_api.metrics.0.count\n",
            "WARNING:tensorflow:Value in checkpoint could not be found in the restored object: (root).keras_api.metrics.1.total\n",
            "WARNING:tensorflow:Value in checkpoint could not be found in the restored object: (root).keras_api.metrics.1.count\n"
          ]
        },
        {
          "metadata": {
            "tags": null
          },
          "name": "stdout",
          "output_type": "stream",
          "text": [
            "bef :  (304, 157, 172)\n",
            "aft :  (304, 27004)\n",
            "bef :  (231, 157, 172)\n",
            "aft :  (231, 27004)\n"
          ]
        },
        {
          "metadata": {
            "tags": null
          },
          "name": "stderr",
          "output_type": "stream",
          "text": [
            "/usr/local/lib/python3.10/dist-packages/sklearn/preprocessing/_encoders.py:868: FutureWarning: `sparse` was renamed to `sparse_output` in version 1.2 and will be removed in 1.4. `sparse_output` is ignored unless you leave `sparse` to its default value.\n",
            "  warnings.warn(\n",
            "/usr/local/lib/python3.10/dist-packages/sklearn/preprocessing/_encoders.py:868: FutureWarning: `sparse` was renamed to `sparse_output` in version 1.2 and will be removed in 1.4. `sparse_output` is ignored unless you leave `sparse` to its default value.\n",
            "  warnings.warn(\n"
          ]
        },
        {
          "metadata": {
            "tags": null
          },
          "name": "stdout",
          "output_type": "stream",
          "text": [
            "Epoch 1/30\n",
            "13/13 [==============================] - 10s 711ms/step - loss: 4.3333 - accuracy: 0.4293 - val_loss: 0.8835 - val_accuracy: 0.8515\n",
            "Epoch 2/30\n",
            "13/13 [==============================] - 10s 791ms/step - loss: 0.9554 - accuracy: 0.8511 - val_loss: 0.2085 - val_accuracy: 0.9604\n",
            "Epoch 3/30\n",
            "13/13 [==============================] - 10s 823ms/step - loss: 0.1932 - accuracy: 0.9479 - val_loss: 0.0697 - val_accuracy: 1.0000\n",
            "Epoch 4/30\n",
            "13/13 [==============================] - 8s 656ms/step - loss: 0.0475 - accuracy: 0.9826 - val_loss: 0.0566 - val_accuracy: 1.0000\n",
            "Epoch 5/30\n",
            "13/13 [==============================] - 10s 792ms/step - loss: 0.0142 - accuracy: 1.0000 - val_loss: 0.0164 - val_accuracy: 1.0000\n",
            "Epoch 6/30\n",
            "13/13 [==============================] - 10s 826ms/step - loss: 0.0079 - accuracy: 1.0000 - val_loss: 0.0115 - val_accuracy: 1.0000\n",
            "Epoch 7/30\n",
            "13/13 [==============================] - 9s 674ms/step - loss: 0.0047 - accuracy: 1.0000 - val_loss: 0.0112 - val_accuracy: 1.0000\n",
            "Epoch 8/30\n",
            "13/13 [==============================] - 10s 777ms/step - loss: 0.0035 - accuracy: 1.0000 - val_loss: 0.0098 - val_accuracy: 1.0000\n",
            "Epoch 9/30\n",
            "13/13 [==============================] - 11s 854ms/step - loss: 0.0028 - accuracy: 1.0000 - val_loss: 0.0081 - val_accuracy: 1.0000\n",
            "Epoch 10/30\n",
            "13/13 [==============================] - 9s 671ms/step - loss: 0.0024 - accuracy: 1.0000 - val_loss: 0.0071 - val_accuracy: 1.0000\n",
            "Epoch 11/30\n",
            "13/13 [==============================] - 10s 780ms/step - loss: 0.0021 - accuracy: 1.0000 - val_loss: 0.0063 - val_accuracy: 1.0000\n",
            "Epoch 12/30\n",
            "13/13 [==============================] - 11s 863ms/step - loss: 0.0019 - accuracy: 1.0000 - val_loss: 0.0058 - val_accuracy: 1.0000\n",
            "Epoch 13/30\n",
            "13/13 [==============================] - 9s 674ms/step - loss: 0.0017 - accuracy: 1.0000 - val_loss: 0.0053 - val_accuracy: 1.0000\n",
            "Epoch 14/30\n",
            "13/13 [==============================] - 10s 797ms/step - loss: 0.0015 - accuracy: 1.0000 - val_loss: 0.0049 - val_accuracy: 1.0000\n",
            "Epoch 15/30\n",
            "13/13 [==============================] - 11s 829ms/step - loss: 0.0014 - accuracy: 1.0000 - val_loss: 0.0045 - val_accuracy: 1.0000\n",
            "Epoch 16/30\n",
            "13/13 [==============================] - 9s 671ms/step - loss: 0.0012 - accuracy: 1.0000 - val_loss: 0.0041 - val_accuracy: 1.0000\n",
            "Epoch 17/30\n",
            "13/13 [==============================] - 11s 805ms/step - loss: 0.0011 - accuracy: 1.0000 - val_loss: 0.0039 - val_accuracy: 1.0000\n",
            "Epoch 18/30\n",
            "13/13 [==============================] - 10s 814ms/step - loss: 0.0010 - accuracy: 1.0000 - val_loss: 0.0037 - val_accuracy: 1.0000\n",
            "Epoch 19/30\n",
            "13/13 [==============================] - 9s 663ms/step - loss: 9.6485e-04 - accuracy: 1.0000 - val_loss: 0.0034 - val_accuracy: 1.0000\n",
            "Epoch 20/30\n",
            "13/13 [==============================] - 10s 814ms/step - loss: 8.9017e-04 - accuracy: 1.0000 - val_loss: 0.0032 - val_accuracy: 1.0000\n",
            "Epoch 21/30\n",
            "13/13 [==============================] - 11s 841ms/step - loss: 8.2396e-04 - accuracy: 1.0000 - val_loss: 0.0030 - val_accuracy: 1.0000\n",
            "Epoch 22/30\n",
            "13/13 [==============================] - 8s 656ms/step - loss: 7.6549e-04 - accuracy: 1.0000 - val_loss: 0.0028 - val_accuracy: 1.0000\n",
            "Epoch 23/30\n",
            "13/13 [==============================] - 10s 813ms/step - loss: 7.0403e-04 - accuracy: 1.0000 - val_loss: 0.0027 - val_accuracy: 1.0000\n",
            "Epoch 24/30\n",
            "13/13 [==============================] - 11s 887ms/step - loss: 6.6395e-04 - accuracy: 1.0000 - val_loss: 0.0025 - val_accuracy: 1.0000\n",
            "Epoch 25/30\n",
            "13/13 [==============================] - 9s 671ms/step - loss: 6.1589e-04 - accuracy: 1.0000 - val_loss: 0.0024 - val_accuracy: 1.0000\n",
            "Epoch 26/30\n",
            "13/13 [==============================] - 10s 772ms/step - loss: 5.7671e-04 - accuracy: 1.0000 - val_loss: 0.0022 - val_accuracy: 1.0000\n",
            "Epoch 27/30\n",
            "13/13 [==============================] - 10s 815ms/step - loss: 5.4116e-04 - accuracy: 1.0000 - val_loss: 0.0021 - val_accuracy: 1.0000\n",
            "Epoch 28/30\n",
            "13/13 [==============================] - 8s 643ms/step - loss: 5.0723e-04 - accuracy: 1.0000 - val_loss: 0.0021 - val_accuracy: 1.0000\n",
            "Epoch 29/30\n",
            "13/13 [==============================] - 10s 795ms/step - loss: 4.8252e-04 - accuracy: 1.0000 - val_loss: 0.0020 - val_accuracy: 1.0000\n",
            "Epoch 30/30\n",
            "13/13 [==============================] - 10s 825ms/step - loss: 4.5435e-04 - accuracy: 1.0000 - val_loss: 0.0019 - val_accuracy: 1.0000\n",
            "8/8 [==============================] - 1s 122ms/step - loss: 3.0720 - accuracy: 0.6104 - recall_3: 0.6017\n",
            "\n",
            "test accuracy: 61.04%\n",
            "test recall_3: 60.17\n",
            "[3.0719757080078125, 0.6103895902633667, 0.6017315983772278]\n",
            "mfcc_crossing_rate_centroid_spect_rolloff_melspect_bandwidth_\n",
            "bef :  (304, 157, 172)\n",
            "aft :  (304, 27004)\n",
            "bef :  (231, 157, 172)\n",
            "aft :  (231, 27004)\n"
          ]
        },
        {
          "metadata": {
            "tags": null
          },
          "name": "stderr",
          "output_type": "stream",
          "text": [
            "/usr/local/lib/python3.10/dist-packages/sklearn/preprocessing/_encoders.py:868: FutureWarning: `sparse` was renamed to `sparse_output` in version 1.2 and will be removed in 1.4. `sparse_output` is ignored unless you leave `sparse` to its default value.\n",
            "  warnings.warn(\n",
            "/usr/local/lib/python3.10/dist-packages/sklearn/preprocessing/_encoders.py:868: FutureWarning: `sparse` was renamed to `sparse_output` in version 1.2 and will be removed in 1.4. `sparse_output` is ignored unless you leave `sparse` to its default value.\n",
            "  warnings.warn(\n"
          ]
        },
        {
          "metadata": {
            "tags": null
          },
          "name": "stdout",
          "output_type": "stream",
          "text": [
            "Epoch 1/30\n",
            "13/13 [==============================] - 11s 825ms/step - loss: 5.5367 - accuracy: 0.3449 - val_loss: 1.5881 - val_accuracy: 0.5050\n",
            "Epoch 2/30\n",
            "13/13 [==============================] - ETA: 0s - loss: 0.7952 - accuracy: 0.7692"
          ]
        },
        {
          "metadata": {
            "tags": null
          },
          "name": "stderr",
          "output_type": "stream",
          "text": [
            "WARNING:tensorflow:Detecting that an object or model or tf.train.Checkpoint is being deleted with unrestored values. See the following logs for the specific values in question. To silence these warnings, use `status.expect_partial()`. See https://www.tensorflow.org/api_docs/python/tf/train/Checkpoint#restorefor details about the status object returned by the restore function.\n",
            "WARNING:tensorflow:Value in checkpoint could not be found in the restored object: (root).keras_api.metrics.0.total\n",
            "WARNING:tensorflow:Value in checkpoint could not be found in the restored object: (root).keras_api.metrics.0.count\n",
            "WARNING:tensorflow:Value in checkpoint could not be found in the restored object: (root).keras_api.metrics.1.total\n",
            "WARNING:tensorflow:Value in checkpoint could not be found in the restored object: (root).keras_api.metrics.1.count\n"
          ]
        },
        {
          "metadata": {
            "tags": null
          },
          "name": "stdout",
          "output_type": "stream",
          "text": [
            "13/13 [==============================] - 9s 705ms/step - loss: 0.7952 - accuracy: 0.7692 - val_loss: 0.3582 - val_accuracy: 0.9010\n",
            "Epoch 3/30\n",
            "13/13 [==============================] - 10s 827ms/step - loss: 0.2245 - accuracy: 0.9479 - val_loss: 0.2473 - val_accuracy: 0.9208\n",
            "Epoch 4/30\n",
            "13/13 [==============================] - 10s 782ms/step - loss: 0.1052 - accuracy: 0.9777 - val_loss: 0.0919 - val_accuracy: 1.0000\n",
            "Epoch 5/30\n",
            "13/13 [==============================] - 8s 637ms/step - loss: 0.0615 - accuracy: 0.9975 - val_loss: 0.0540 - val_accuracy: 1.0000\n",
            "Epoch 6/30\n",
            "13/13 [==============================] - 10s 809ms/step - loss: 0.0182 - accuracy: 1.0000 - val_loss: 0.0450 - val_accuracy: 1.0000\n",
            "Epoch 7/30\n",
            "13/13 [==============================] - 10s 745ms/step - loss: 0.0120 - accuracy: 1.0000 - val_loss: 0.0276 - val_accuracy: 1.0000\n",
            "Epoch 8/30\n",
            "13/13 [==============================] - 9s 668ms/step - loss: 0.0079 - accuracy: 1.0000 - val_loss: 0.0220 - val_accuracy: 1.0000\n",
            "Epoch 9/30\n",
            "13/13 [==============================] - 10s 774ms/step - loss: 0.0059 - accuracy: 1.0000 - val_loss: 0.0175 - val_accuracy: 1.0000\n",
            "Epoch 10/30\n",
            "13/13 [==============================] - 10s 766ms/step - loss: 0.0047 - accuracy: 1.0000 - val_loss: 0.0142 - val_accuracy: 1.0000\n",
            "Epoch 11/30\n",
            "13/13 [==============================] - 9s 683ms/step - loss: 0.0039 - accuracy: 1.0000 - val_loss: 0.0124 - val_accuracy: 1.0000\n",
            "Epoch 12/30\n",
            "13/13 [==============================] - 9s 694ms/step - loss: 0.0033 - accuracy: 1.0000 - val_loss: 0.0109 - val_accuracy: 1.0000\n",
            "Epoch 13/30\n",
            "13/13 [==============================] - 10s 767ms/step - loss: 0.0028 - accuracy: 1.0000 - val_loss: 0.0094 - val_accuracy: 1.0000\n",
            "Epoch 14/30\n",
            "13/13 [==============================] - 10s 759ms/step - loss: 0.0024 - accuracy: 1.0000 - val_loss: 0.0085 - val_accuracy: 1.0000\n",
            "Epoch 15/30\n",
            "13/13 [==============================] - 9s 668ms/step - loss: 0.0021 - accuracy: 1.0000 - val_loss: 0.0078 - val_accuracy: 1.0000\n",
            "Epoch 16/30\n",
            "13/13 [==============================] - 10s 756ms/step - loss: 0.0019 - accuracy: 1.0000 - val_loss: 0.0071 - val_accuracy: 1.0000\n",
            "Epoch 17/30\n",
            "13/13 [==============================] - 10s 805ms/step - loss: 0.0017 - accuracy: 1.0000 - val_loss: 0.0065 - val_accuracy: 1.0000\n",
            "Epoch 18/30\n",
            "13/13 [==============================] - 9s 705ms/step - loss: 0.0015 - accuracy: 1.0000 - val_loss: 0.0060 - val_accuracy: 1.0000\n",
            "Epoch 19/30\n",
            "13/13 [==============================] - 9s 678ms/step - loss: 0.0013 - accuracy: 1.0000 - val_loss: 0.0055 - val_accuracy: 1.0000\n",
            "Epoch 20/30\n",
            "13/13 [==============================] - 10s 770ms/step - loss: 0.0012 - accuracy: 1.0000 - val_loss: 0.0050 - val_accuracy: 1.0000\n",
            "Epoch 21/30\n",
            "13/13 [==============================] - 10s 754ms/step - loss: 0.0011 - accuracy: 1.0000 - val_loss: 0.0047 - val_accuracy: 1.0000\n",
            "Epoch 22/30\n",
            "13/13 [==============================] - 9s 674ms/step - loss: 0.0010 - accuracy: 1.0000 - val_loss: 0.0044 - val_accuracy: 1.0000\n",
            "Epoch 23/30\n",
            "13/13 [==============================] - 10s 763ms/step - loss: 9.3116e-04 - accuracy: 1.0000 - val_loss: 0.0041 - val_accuracy: 1.0000\n",
            "Epoch 24/30\n",
            "13/13 [==============================] - 10s 771ms/step - loss: 8.6014e-04 - accuracy: 1.0000 - val_loss: 0.0038 - val_accuracy: 1.0000\n",
            "Epoch 25/30\n",
            "13/13 [==============================] - 9s 704ms/step - loss: 7.9380e-04 - accuracy: 1.0000 - val_loss: 0.0036 - val_accuracy: 1.0000\n",
            "Epoch 26/30\n",
            "13/13 [==============================] - 9s 686ms/step - loss: 7.3832e-04 - accuracy: 1.0000 - val_loss: 0.0034 - val_accuracy: 1.0000\n",
            "Epoch 27/30\n",
            "13/13 [==============================] - 10s 771ms/step - loss: 6.8764e-04 - accuracy: 1.0000 - val_loss: 0.0032 - val_accuracy: 1.0000\n",
            "Epoch 28/30\n",
            "13/13 [==============================] - 10s 748ms/step - loss: 6.4257e-04 - accuracy: 1.0000 - val_loss: 0.0031 - val_accuracy: 1.0000\n",
            "Epoch 29/30\n",
            "13/13 [==============================] - 8s 651ms/step - loss: 6.0490e-04 - accuracy: 1.0000 - val_loss: 0.0029 - val_accuracy: 1.0000\n",
            "Epoch 30/30\n",
            "13/13 [==============================] - 10s 775ms/step - loss: 5.6600e-04 - accuracy: 1.0000 - val_loss: 0.0027 - val_accuracy: 1.0000\n",
            "8/8 [==============================] - 1s 123ms/step - loss: 2.7094 - accuracy: 0.6190 - recall_4: 0.6061\n",
            "\n",
            "test accuracy: 61.90%\n",
            "test recall_4: 60.61\n",
            "[2.709397315979004, 0.6190476417541504, 0.6060606241226196]\n",
            "mfcc_crossing_rate_centroid_spect_rolloff_melspect_contrast_\n"
          ]
        },
        {
          "metadata": {
            "tags": null
          },
          "name": "stderr",
          "output_type": "stream",
          "text": [
            "WARNING:tensorflow:Detecting that an object or model or tf.train.Checkpoint is being deleted with unrestored values. See the following logs for the specific values in question. To silence these warnings, use `status.expect_partial()`. See https://www.tensorflow.org/api_docs/python/tf/train/Checkpoint#restorefor details about the status object returned by the restore function.\n",
            "WARNING:tensorflow:Value in checkpoint could not be found in the restored object: (root).keras_api.metrics.0.total\n",
            "WARNING:tensorflow:Value in checkpoint could not be found in the restored object: (root).keras_api.metrics.0.count\n",
            "WARNING:tensorflow:Value in checkpoint could not be found in the restored object: (root).keras_api.metrics.1.total\n",
            "WARNING:tensorflow:Value in checkpoint could not be found in the restored object: (root).keras_api.metrics.1.count\n"
          ]
        },
        {
          "metadata": {
            "tags": null
          },
          "name": "stdout",
          "output_type": "stream",
          "text": [
            "bef :  (304, 157, 172)\n",
            "aft :  (304, 27004)\n",
            "bef :  (231, 157, 172)\n",
            "aft :  (231, 27004)\n"
          ]
        },
        {
          "metadata": {
            "tags": null
          },
          "name": "stderr",
          "output_type": "stream",
          "text": [
            "/usr/local/lib/python3.10/dist-packages/sklearn/preprocessing/_encoders.py:868: FutureWarning: `sparse` was renamed to `sparse_output` in version 1.2 and will be removed in 1.4. `sparse_output` is ignored unless you leave `sparse` to its default value.\n",
            "  warnings.warn(\n",
            "/usr/local/lib/python3.10/dist-packages/sklearn/preprocessing/_encoders.py:868: FutureWarning: `sparse` was renamed to `sparse_output` in version 1.2 and will be removed in 1.4. `sparse_output` is ignored unless you leave `sparse` to its default value.\n",
            "  warnings.warn(\n"
          ]
        },
        {
          "metadata": {
            "tags": null
          },
          "name": "stdout",
          "output_type": "stream",
          "text": [
            "Epoch 1/30\n",
            "13/13 [==============================] - 11s 796ms/step - loss: 6.3731 - accuracy: 0.3548 - val_loss: 2.0300 - val_accuracy: 0.4752\n",
            "Epoch 2/30\n",
            "13/13 [==============================] - 10s 775ms/step - loss: 1.0667 - accuracy: 0.7866 - val_loss: 0.3696 - val_accuracy: 0.9109\n",
            "Epoch 3/30\n",
            "13/13 [==============================] - 9s 705ms/step - loss: 0.3196 - accuracy: 0.9156 - val_loss: 0.3077 - val_accuracy: 0.9109\n",
            "Epoch 4/30\n",
            "13/13 [==============================] - 9s 690ms/step - loss: 0.0840 - accuracy: 0.9752 - val_loss: 0.1264 - val_accuracy: 0.9901\n",
            "Epoch 5/30\n",
            "13/13 [==============================] - 10s 770ms/step - loss: 0.0379 - accuracy: 1.0000 - val_loss: 0.0549 - val_accuracy: 1.0000\n",
            "Epoch 6/30\n",
            "13/13 [==============================] - 10s 798ms/step - loss: 0.0227 - accuracy: 1.0000 - val_loss: 0.0354 - val_accuracy: 1.0000\n",
            "Epoch 7/30\n",
            "13/13 [==============================] - 9s 663ms/step - loss: 0.0142 - accuracy: 1.0000 - val_loss: 0.0316 - val_accuracy: 1.0000\n",
            "Epoch 8/30\n",
            "13/13 [==============================] - 10s 751ms/step - loss: 0.0099 - accuracy: 1.0000 - val_loss: 0.0240 - val_accuracy: 1.0000\n",
            "Epoch 9/30\n",
            "13/13 [==============================] - 10s 772ms/step - loss: 0.0074 - accuracy: 1.0000 - val_loss: 0.0186 - val_accuracy: 1.0000\n",
            "Epoch 10/30\n",
            "13/13 [==============================] - 9s 706ms/step - loss: 0.0058 - accuracy: 1.0000 - val_loss: 0.0150 - val_accuracy: 1.0000\n",
            "Epoch 11/30\n",
            "13/13 [==============================] - 9s 706ms/step - loss: 0.0048 - accuracy: 1.0000 - val_loss: 0.0127 - val_accuracy: 1.0000\n",
            "Epoch 12/30\n",
            "13/13 [==============================] - 10s 751ms/step - loss: 0.0040 - accuracy: 1.0000 - val_loss: 0.0113 - val_accuracy: 1.0000\n",
            "Epoch 13/30\n",
            "13/13 [==============================] - 10s 797ms/step - loss: 0.0035 - accuracy: 1.0000 - val_loss: 0.0097 - val_accuracy: 1.0000\n",
            "Epoch 14/30\n",
            "13/13 [==============================] - 9s 663ms/step - loss: 0.0030 - accuracy: 1.0000 - val_loss: 0.0090 - val_accuracy: 1.0000\n",
            "Epoch 15/30\n",
            "13/13 [==============================] - 10s 747ms/step - loss: 0.0027 - accuracy: 1.0000 - val_loss: 0.0080 - val_accuracy: 1.0000\n",
            "Epoch 16/30\n",
            "13/13 [==============================] - 10s 772ms/step - loss: 0.0024 - accuracy: 1.0000 - val_loss: 0.0071 - val_accuracy: 1.0000\n",
            "Epoch 17/30\n",
            "13/13 [==============================] - 10s 749ms/step - loss: 0.0021 - accuracy: 1.0000 - val_loss: 0.0066 - val_accuracy: 1.0000\n",
            "Epoch 18/30\n",
            "13/13 [==============================] - 8s 662ms/step - loss: 0.0019 - accuracy: 1.0000 - val_loss: 0.0061 - val_accuracy: 1.0000\n",
            "Epoch 19/30\n",
            "13/13 [==============================] - 10s 773ms/step - loss: 0.0017 - accuracy: 1.0000 - val_loss: 0.0056 - val_accuracy: 1.0000\n",
            "Epoch 20/30\n",
            "13/13 [==============================] - 10s 770ms/step - loss: 0.0016 - accuracy: 1.0000 - val_loss: 0.0050 - val_accuracy: 1.0000\n",
            "Epoch 21/30\n",
            "13/13 [==============================] - 9s 691ms/step - loss: 0.0014 - accuracy: 1.0000 - val_loss: 0.0048 - val_accuracy: 1.0000\n",
            "Epoch 22/30\n",
            "13/13 [==============================] - 10s 710ms/step - loss: 0.0013 - accuracy: 1.0000 - val_loss: 0.0043 - val_accuracy: 1.0000\n",
            "Epoch 23/30\n",
            "13/13 [==============================] - 10s 777ms/step - loss: 0.0012 - accuracy: 1.0000 - val_loss: 0.0041 - val_accuracy: 1.0000\n",
            "Epoch 24/30\n",
            "13/13 [==============================] - 10s 759ms/step - loss: 0.0011 - accuracy: 1.0000 - val_loss: 0.0038 - val_accuracy: 1.0000\n",
            "Epoch 25/30\n",
            "13/13 [==============================] - 9s 680ms/step - loss: 0.0010 - accuracy: 1.0000 - val_loss: 0.0035 - val_accuracy: 1.0000\n",
            "Epoch 26/30\n",
            "13/13 [==============================] - 9s 729ms/step - loss: 9.4305e-04 - accuracy: 1.0000 - val_loss: 0.0033 - val_accuracy: 1.0000\n",
            "Epoch 27/30\n",
            "13/13 [==============================] - 10s 796ms/step - loss: 8.8190e-04 - accuracy: 1.0000 - val_loss: 0.0031 - val_accuracy: 1.0000\n",
            "Epoch 28/30\n",
            "13/13 [==============================] - 9s 734ms/step - loss: 8.2076e-04 - accuracy: 1.0000 - val_loss: 0.0030 - val_accuracy: 1.0000\n",
            "Epoch 29/30\n",
            "13/13 [==============================] - 8s 661ms/step - loss: 7.7295e-04 - accuracy: 1.0000 - val_loss: 0.0028 - val_accuracy: 1.0000\n",
            "Epoch 30/30\n",
            "13/13 [==============================] - 10s 757ms/step - loss: 7.2518e-04 - accuracy: 1.0000 - val_loss: 0.0026 - val_accuracy: 1.0000\n",
            "8/8 [==============================] - 1s 119ms/step - loss: 2.5435 - accuracy: 0.6364 - recall_5: 0.6147\n",
            "\n",
            "test accuracy: 63.64%\n",
            "test recall_5: 61.47\n",
            "[2.5434820652008057, 0.6363636255264282, 0.6147186160087585]\n",
            "mfcc_centroid_spect_rolloff_melspect_bandwidth_contrast_\n",
            "bef :  (304, 157, 172)\n",
            "aft :  (304, 27004)\n",
            "bef :  (231, 157, 172)\n",
            "aft :  (231, 27004)\n"
          ]
        },
        {
          "metadata": {
            "tags": null
          },
          "name": "stderr",
          "output_type": "stream",
          "text": [
            "/usr/local/lib/python3.10/dist-packages/sklearn/preprocessing/_encoders.py:868: FutureWarning: `sparse` was renamed to `sparse_output` in version 1.2 and will be removed in 1.4. `sparse_output` is ignored unless you leave `sparse` to its default value.\n",
            "  warnings.warn(\n",
            "/usr/local/lib/python3.10/dist-packages/sklearn/preprocessing/_encoders.py:868: FutureWarning: `sparse` was renamed to `sparse_output` in version 1.2 and will be removed in 1.4. `sparse_output` is ignored unless you leave `sparse` to its default value.\n",
            "  warnings.warn(\n"
          ]
        },
        {
          "metadata": {
            "tags": null
          },
          "name": "stdout",
          "output_type": "stream",
          "text": [
            "Epoch 1/30\n",
            "13/13 [==============================] - 10s 669ms/step - loss: 6.9578 - accuracy: 0.3573 - val_loss: 0.7497 - val_accuracy: 0.8119\n",
            "Epoch 2/30\n",
            "13/13 [==============================] - 10s 780ms/step - loss: 1.1865 - accuracy: 0.6948 - val_loss: 0.4546 - val_accuracy: 0.9010\n",
            "Epoch 3/30\n",
            "13/13 [==============================] - 10s 750ms/step - loss: 0.3366 - accuracy: 0.9156 - val_loss: 0.4305 - val_accuracy: 0.9010\n",
            "Epoch 4/30\n",
            "13/13 [==============================] - 9s 677ms/step - loss: 0.1188 - accuracy: 0.9727 - val_loss: 0.2484 - val_accuracy: 0.9307\n",
            "Epoch 5/30\n",
            "13/13 [==============================] - ETA: 0s - loss: 0.0468 - accuracy: 0.9950"
          ]
        },
        {
          "metadata": {
            "tags": null
          },
          "name": "stderr",
          "output_type": "stream",
          "text": [
            "WARNING:tensorflow:Detecting that an object or model or tf.train.Checkpoint is being deleted with unrestored values. See the following logs for the specific values in question. To silence these warnings, use `status.expect_partial()`. See https://www.tensorflow.org/api_docs/python/tf/train/Checkpoint#restorefor details about the status object returned by the restore function.\n",
            "WARNING:tensorflow:Value in checkpoint could not be found in the restored object: (root).keras_api.metrics.0.total\n",
            "WARNING:tensorflow:Value in checkpoint could not be found in the restored object: (root).keras_api.metrics.0.count\n",
            "WARNING:tensorflow:Value in checkpoint could not be found in the restored object: (root).keras_api.metrics.1.total\n",
            "WARNING:tensorflow:Value in checkpoint could not be found in the restored object: (root).keras_api.metrics.1.count\n"
          ]
        },
        {
          "output_type": "stream",
          "name": "stdout",
          "text": [
            "13/13 [==============================] - 10s 762ms/step - loss: 0.0468 - accuracy: 0.9950 - val_loss: 0.0917 - val_accuracy: 1.0000\n",
            "Epoch 6/30\n",
            "13/13 [==============================] - 10s 769ms/step - loss: 0.0232 - accuracy: 1.0000 - val_loss: 0.0565 - val_accuracy: 1.0000\n",
            "Epoch 7/30\n",
            "13/13 [==============================] - 10s 780ms/step - loss: 0.0124 - accuracy: 1.0000 - val_loss: 0.0426 - val_accuracy: 1.0000\n",
            "Epoch 8/30\n",
            "13/13 [==============================] - 8s 652ms/step - loss: 0.0080 - accuracy: 1.0000 - val_loss: 0.0354 - val_accuracy: 1.0000\n",
            "Epoch 9/30\n",
            "13/13 [==============================] - 10s 776ms/step - loss: 0.0061 - accuracy: 1.0000 - val_loss: 0.0267 - val_accuracy: 1.0000\n",
            "Epoch 10/30\n",
            "13/13 [==============================] - 10s 763ms/step - loss: 0.0047 - accuracy: 1.0000 - val_loss: 0.0219 - val_accuracy: 1.0000\n",
            "Epoch 11/30\n",
            "13/13 [==============================] - 9s 709ms/step - loss: 0.0039 - accuracy: 1.0000 - val_loss: 0.0185 - val_accuracy: 1.0000\n",
            "Epoch 12/30\n",
            "13/13 [==============================] - 9s 693ms/step - loss: 0.0032 - accuracy: 1.0000 - val_loss: 0.0163 - val_accuracy: 1.0000\n",
            "Epoch 13/30\n",
            "13/13 [==============================] - 10s 767ms/step - loss: 0.0028 - accuracy: 1.0000 - val_loss: 0.0143 - val_accuracy: 1.0000\n",
            "Epoch 14/30\n",
            "13/13 [==============================] - 10s 782ms/step - loss: 0.0024 - accuracy: 1.0000 - val_loss: 0.0130 - val_accuracy: 1.0000\n",
            "Epoch 15/30\n",
            "13/13 [==============================] - 9s 679ms/step - loss: 0.0021 - accuracy: 1.0000 - val_loss: 0.0119 - val_accuracy: 1.0000\n",
            "Epoch 16/30\n",
            "13/13 [==============================] - 10s 729ms/step - loss: 0.0019 - accuracy: 1.0000 - val_loss: 0.0109 - val_accuracy: 1.0000\n",
            "Epoch 17/30\n",
            "13/13 [==============================] - 10s 773ms/step - loss: 0.0017 - accuracy: 1.0000 - val_loss: 0.0098 - val_accuracy: 1.0000\n",
            "Epoch 18/30\n",
            "13/13 [==============================] - 10s 761ms/step - loss: 0.0015 - accuracy: 1.0000 - val_loss: 0.0092 - val_accuracy: 1.0000\n",
            "Epoch 19/30\n",
            "13/13 [==============================] - 9s 668ms/step - loss: 0.0014 - accuracy: 1.0000 - val_loss: 0.0085 - val_accuracy: 1.0000\n",
            "Epoch 20/30\n",
            "13/13 [==============================] - 10s 765ms/step - loss: 0.0013 - accuracy: 1.0000 - val_loss: 0.0079 - val_accuracy: 1.0000\n",
            "Epoch 21/30\n",
            "13/13 [==============================] - 10s 807ms/step - loss: 0.0012 - accuracy: 1.0000 - val_loss: 0.0074 - val_accuracy: 1.0000\n",
            "Epoch 22/30\n",
            "13/13 [==============================] - 9s 710ms/step - loss: 0.0011 - accuracy: 1.0000 - val_loss: 0.0069 - val_accuracy: 1.0000\n",
            "Epoch 23/30\n",
            "13/13 [==============================] - 9s 695ms/step - loss: 9.8565e-04 - accuracy: 1.0000 - val_loss: 0.0066 - val_accuracy: 1.0000\n",
            "Epoch 24/30\n",
            "13/13 [==============================] - 10s 774ms/step - loss: 9.2205e-04 - accuracy: 1.0000 - val_loss: 0.0060 - val_accuracy: 1.0000\n",
            "Epoch 25/30\n",
            "13/13 [==============================] - 10s 808ms/step - loss: 8.5082e-04 - accuracy: 1.0000 - val_loss: 0.0057 - val_accuracy: 1.0000\n",
            "Epoch 26/30\n",
            "13/13 [==============================] - 9s 680ms/step - loss: 7.9152e-04 - accuracy: 1.0000 - val_loss: 0.0055 - val_accuracy: 1.0000\n",
            "Epoch 27/30\n",
            "13/13 [==============================] - 10s 745ms/step - loss: 7.3857e-04 - accuracy: 1.0000 - val_loss: 0.0052 - val_accuracy: 1.0000\n",
            "Epoch 28/30\n",
            "13/13 [==============================] - 10s 777ms/step - loss: 6.9025e-04 - accuracy: 1.0000 - val_loss: 0.0050 - val_accuracy: 1.0000\n",
            "Epoch 29/30\n",
            "13/13 [==============================] - 10s 765ms/step - loss: 6.5145e-04 - accuracy: 1.0000 - val_loss: 0.0046 - val_accuracy: 1.0000\n",
            "Epoch 30/30\n",
            "13/13 [==============================] - 9s 675ms/step - loss: 6.0649e-04 - accuracy: 1.0000 - val_loss: 0.0044 - val_accuracy: 1.0000\n",
            "8/8 [==============================] - 2s 132ms/step - loss: 2.3425 - accuracy: 0.6364 - recall_6: 0.6234\n",
            "\n",
            "test accuracy: 63.64%\n",
            "test recall_6: 62.34\n",
            "[2.342517852783203, 0.6363636255264282, 0.6233766078948975]\n",
            "mfcc_crossing_rate_centroid_melspect_bandwidth_contrast_\n",
            "bef :  (304, 157, 172)\n",
            "aft :  (304, 27004)\n"
          ]
        },
        {
          "output_type": "stream",
          "name": "stderr",
          "text": [
            "WARNING:tensorflow:Detecting that an object or model or tf.train.Checkpoint is being deleted with unrestored values. See the following logs for the specific values in question. To silence these warnings, use `status.expect_partial()`. See https://www.tensorflow.org/api_docs/python/tf/train/Checkpoint#restorefor details about the status object returned by the restore function.\n",
            "WARNING:tensorflow:Value in checkpoint could not be found in the restored object: (root).keras_api.metrics.0.total\n",
            "WARNING:tensorflow:Value in checkpoint could not be found in the restored object: (root).keras_api.metrics.0.count\n",
            "WARNING:tensorflow:Value in checkpoint could not be found in the restored object: (root).keras_api.metrics.1.total\n",
            "WARNING:tensorflow:Value in checkpoint could not be found in the restored object: (root).keras_api.metrics.1.count\n"
          ]
        },
        {
          "output_type": "stream",
          "name": "stdout",
          "text": [
            "bef :  (231, 157, 172)\n",
            "aft :  (231, 27004)\n"
          ]
        },
        {
          "output_type": "stream",
          "name": "stderr",
          "text": [
            "/usr/local/lib/python3.10/dist-packages/sklearn/preprocessing/_encoders.py:868: FutureWarning: `sparse` was renamed to `sparse_output` in version 1.2 and will be removed in 1.4. `sparse_output` is ignored unless you leave `sparse` to its default value.\n",
            "  warnings.warn(\n",
            "/usr/local/lib/python3.10/dist-packages/sklearn/preprocessing/_encoders.py:868: FutureWarning: `sparse` was renamed to `sparse_output` in version 1.2 and will be removed in 1.4. `sparse_output` is ignored unless you leave `sparse` to its default value.\n",
            "  warnings.warn(\n"
          ]
        },
        {
          "output_type": "stream",
          "name": "stdout",
          "text": [
            "Epoch 1/30\n",
            "13/13 [==============================] - 10s 688ms/step - loss: 4.3024 - accuracy: 0.4094 - val_loss: 0.9754 - val_accuracy: 0.6733\n",
            "Epoch 2/30\n",
            "13/13 [==============================] - 10s 706ms/step - loss: 0.7049 - accuracy: 0.8412 - val_loss: 0.7342 - val_accuracy: 0.8020\n",
            "Epoch 3/30\n",
            "13/13 [==============================] - 10s 772ms/step - loss: 0.3132 - accuracy: 0.9429 - val_loss: 0.1621 - val_accuracy: 0.9802\n",
            "Epoch 4/30\n",
            "13/13 [==============================] - 10s 768ms/step - loss: 0.1687 - accuracy: 0.9702 - val_loss: 0.1253 - val_accuracy: 0.9901\n",
            "Epoch 5/30\n",
            "13/13 [==============================] - 8s 654ms/step - loss: 0.0333 - accuracy: 0.9950 - val_loss: 0.0423 - val_accuracy: 1.0000\n",
            "Epoch 6/30\n",
            "13/13 [==============================] - 10s 772ms/step - loss: 0.0107 - accuracy: 1.0000 - val_loss: 0.0304 - val_accuracy: 1.0000\n",
            "Epoch 7/30\n",
            "13/13 [==============================] - 10s 765ms/step - loss: 0.0069 - accuracy: 1.0000 - val_loss: 0.0227 - val_accuracy: 1.0000\n",
            "Epoch 8/30\n",
            "13/13 [==============================] - 9s 691ms/step - loss: 0.0048 - accuracy: 1.0000 - val_loss: 0.0178 - val_accuracy: 1.0000\n",
            "Epoch 9/30\n",
            "13/13 [==============================] - 9s 694ms/step - loss: 0.0036 - accuracy: 1.0000 - val_loss: 0.0146 - val_accuracy: 1.0000\n",
            "Epoch 10/30\n",
            "13/13 [==============================] - 10s 756ms/step - loss: 0.0029 - accuracy: 1.0000 - val_loss: 0.0125 - val_accuracy: 1.0000\n",
            "Epoch 11/30\n",
            "13/13 [==============================] - 10s 779ms/step - loss: 0.0025 - accuracy: 1.0000 - val_loss: 0.0111 - val_accuracy: 1.0000\n",
            "Epoch 12/30\n",
            "13/13 [==============================] - 9s 674ms/step - loss: 0.0021 - accuracy: 1.0000 - val_loss: 0.0102 - val_accuracy: 1.0000\n",
            "Epoch 13/30\n",
            "13/13 [==============================] - 10s 752ms/step - loss: 0.0019 - accuracy: 1.0000 - val_loss: 0.0093 - val_accuracy: 1.0000\n",
            "Epoch 14/30\n",
            "13/13 [==============================] - 10s 773ms/step - loss: 0.0017 - accuracy: 1.0000 - val_loss: 0.0086 - val_accuracy: 1.0000\n",
            "Epoch 15/30\n",
            "13/13 [==============================] - 10s 749ms/step - loss: 0.0015 - accuracy: 1.0000 - val_loss: 0.0080 - val_accuracy: 1.0000\n",
            "Epoch 16/30\n",
            "13/13 [==============================] - 9s 665ms/step - loss: 0.0014 - accuracy: 1.0000 - val_loss: 0.0073 - val_accuracy: 1.0000\n",
            "Epoch 17/30\n",
            "13/13 [==============================] - 10s 750ms/step - loss: 0.0012 - accuracy: 1.0000 - val_loss: 0.0068 - val_accuracy: 1.0000\n",
            "Epoch 18/30\n",
            "13/13 [==============================] - 10s 751ms/step - loss: 0.0011 - accuracy: 1.0000 - val_loss: 0.0063 - val_accuracy: 1.0000\n",
            "Epoch 19/30\n",
            "13/13 [==============================] - 8s 642ms/step - loss: 0.0010 - accuracy: 1.0000 - val_loss: 0.0059 - val_accuracy: 1.0000\n",
            "Epoch 20/30\n",
            "13/13 [==============================] - 9s 743ms/step - loss: 9.4563e-04 - accuracy: 1.0000 - val_loss: 0.0054 - val_accuracy: 1.0000\n",
            "Epoch 21/30\n",
            "13/13 [==============================] - 10s 753ms/step - loss: 8.6719e-04 - accuracy: 1.0000 - val_loss: 0.0052 - val_accuracy: 1.0000\n",
            "Epoch 22/30\n",
            "13/13 [==============================] - 8s 646ms/step - loss: 8.0565e-04 - accuracy: 1.0000 - val_loss: 0.0048 - val_accuracy: 1.0000\n",
            "Epoch 23/30\n",
            "13/13 [==============================] - 10s 754ms/step - loss: 7.4407e-04 - accuracy: 1.0000 - val_loss: 0.0046 - val_accuracy: 1.0000\n",
            "Epoch 24/30\n",
            "13/13 [==============================] - 10s 749ms/step - loss: 7.0308e-04 - accuracy: 1.0000 - val_loss: 0.0043 - val_accuracy: 1.0000\n",
            "Epoch 25/30\n",
            "13/13 [==============================] - 9s 674ms/step - loss: 6.4387e-04 - accuracy: 1.0000 - val_loss: 0.0041 - val_accuracy: 1.0000\n",
            "Epoch 26/30\n",
            "13/13 [==============================] - 9s 670ms/step - loss: 5.9686e-04 - accuracy: 1.0000 - val_loss: 0.0038 - val_accuracy: 1.0000\n",
            "Epoch 27/30\n",
            "13/13 [==============================] - 10s 753ms/step - loss: 5.5342e-04 - accuracy: 1.0000 - val_loss: 0.0036 - val_accuracy: 1.0000\n",
            "Epoch 28/30\n",
            "13/13 [==============================] - 10s 753ms/step - loss: 5.1087e-04 - accuracy: 1.0000 - val_loss: 0.0034 - val_accuracy: 1.0000\n",
            "Epoch 29/30\n",
            "13/13 [==============================] - 9s 669ms/step - loss: 4.8147e-04 - accuracy: 1.0000 - val_loss: 0.0032 - val_accuracy: 1.0000\n",
            "Epoch 30/30\n",
            "13/13 [==============================] - 10s 821ms/step - loss: 4.4562e-04 - accuracy: 1.0000 - val_loss: 0.0030 - val_accuracy: 1.0000\n",
            "8/8 [==============================] - 1s 125ms/step - loss: 2.7594 - accuracy: 0.6104 - recall_7: 0.5931\n",
            "\n",
            "test accuracy: 61.04%\n",
            "test recall_7: 59.31\n",
            "[2.759401321411133, 0.6103895902633667, 0.5930736064910889]\n",
            "crossing_rate_centroid_spect_rolloff_melspect_bandwidth_contrast_\n",
            "bef :  (304, 157, 133)\n",
            "aft :  (304, 20881)\n",
            "bef :  (231, 157, 133)\n",
            "aft :  (231, 20881)\n"
          ]
        },
        {
          "output_type": "stream",
          "name": "stderr",
          "text": [
            "/usr/local/lib/python3.10/dist-packages/sklearn/preprocessing/_encoders.py:868: FutureWarning: `sparse` was renamed to `sparse_output` in version 1.2 and will be removed in 1.4. `sparse_output` is ignored unless you leave `sparse` to its default value.\n",
            "  warnings.warn(\n",
            "/usr/local/lib/python3.10/dist-packages/sklearn/preprocessing/_encoders.py:868: FutureWarning: `sparse` was renamed to `sparse_output` in version 1.2 and will be removed in 1.4. `sparse_output` is ignored unless you leave `sparse` to its default value.\n",
            "  warnings.warn(\n"
          ]
        },
        {
          "output_type": "stream",
          "name": "stdout",
          "text": [
            "Epoch 1/30\n",
            "13/13 [==============================] - 9s 587ms/step - loss: 2.4935 - accuracy: 0.4814 - val_loss: 0.4159 - val_accuracy: 0.8515\n",
            "Epoch 2/30\n",
            "13/13 [==============================] - 8s 648ms/step - loss: 0.3481 - accuracy: 0.8933 - val_loss: 0.3215 - val_accuracy: 0.8911\n",
            "Epoch 3/30\n",
            "13/13 [==============================] - 7s 528ms/step - loss: 0.0788 - accuracy: 0.9727 - val_loss: 0.0788 - val_accuracy: 1.0000\n",
            "Epoch 4/30\n",
            "13/13 [==============================] - 8s 627ms/step - loss: 0.0253 - accuracy: 1.0000 - val_loss: 0.0624 - val_accuracy: 1.0000\n",
            "Epoch 5/30\n",
            "13/13 [==============================] - 7s 542ms/step - loss: 0.0116 - accuracy: 1.0000 - val_loss: 0.0326 - val_accuracy: 1.0000\n",
            "Epoch 6/30\n",
            "13/13 [==============================] - 8s 624ms/step - loss: 0.0069 - accuracy: 1.0000 - val_loss: 0.0192 - val_accuracy: 1.0000\n",
            "Epoch 7/30\n",
            "13/13 [==============================] - 7s 574ms/step - loss: 0.0044 - accuracy: 1.0000 - val_loss: 0.0146 - val_accuracy: 1.0000\n",
            "Epoch 8/30\n",
            "13/13 [==============================] - ETA: 0s - loss: 0.0031 - accuracy: 1.0000"
          ]
        },
        {
          "output_type": "stream",
          "name": "stderr",
          "text": [
            "WARNING:tensorflow:Detecting that an object or model or tf.train.Checkpoint is being deleted with unrestored values. See the following logs for the specific values in question. To silence these warnings, use `status.expect_partial()`. See https://www.tensorflow.org/api_docs/python/tf/train/Checkpoint#restorefor details about the status object returned by the restore function.\n",
            "WARNING:tensorflow:Value in checkpoint could not be found in the restored object: (root).keras_api.metrics.0.total\n",
            "WARNING:tensorflow:Value in checkpoint could not be found in the restored object: (root).keras_api.metrics.0.count\n",
            "WARNING:tensorflow:Value in checkpoint could not be found in the restored object: (root).keras_api.metrics.1.total\n",
            "WARNING:tensorflow:Value in checkpoint could not be found in the restored object: (root).keras_api.metrics.1.count\n"
          ]
        },
        {
          "output_type": "stream",
          "name": "stdout",
          "text": [
            "\b\b\b\b\b\b\b\b\b\b\b\b\b\b\b\b\b\b\b\b\b\b\b\b\b\b\b\b\b\b\b\b\b\b\b\b\b\b\b\b\b\b\b\b\b\b\b\b\b\b\b\b\b\b\b\b\b\b\b\b\b\b\b\b\b\b\b\b\b\b\b\b\b\b\b\b\b\b\b\b\b\b\r13/13 [==============================] - 8s 574ms/step - loss: 0.0031 - accuracy: 1.0000 - val_loss: 0.0121 - val_accuracy: 1.0000\n",
            "Epoch 9/30\n",
            "13/13 [==============================] - 8s 642ms/step - loss: 0.0024 - accuracy: 1.0000 - val_loss: 0.0103 - val_accuracy: 1.0000\n",
            "Epoch 10/30\n",
            "13/13 [==============================] - 7s 513ms/step - loss: 0.0020 - accuracy: 1.0000 - val_loss: 0.0086 - val_accuracy: 1.0000\n",
            "Epoch 11/30\n",
            "13/13 [==============================] - 8s 626ms/step - loss: 0.0017 - accuracy: 1.0000 - val_loss: 0.0073 - val_accuracy: 1.0000\n",
            "Epoch 12/30\n",
            "13/13 [==============================] - 7s 542ms/step - loss: 0.0014 - accuracy: 1.0000 - val_loss: 0.0066 - val_accuracy: 1.0000\n",
            "Epoch 13/30\n",
            "13/13 [==============================] - 8s 623ms/step - loss: 0.0012 - accuracy: 1.0000 - val_loss: 0.0058 - val_accuracy: 1.0000\n",
            "Epoch 14/30\n",
            "13/13 [==============================] - 7s 546ms/step - loss: 0.0011 - accuracy: 1.0000 - val_loss: 0.0052 - val_accuracy: 1.0000\n",
            "Epoch 15/30\n",
            "13/13 [==============================] - 8s 582ms/step - loss: 9.6056e-04 - accuracy: 1.0000 - val_loss: 0.0048 - val_accuracy: 1.0000\n",
            "Epoch 16/30\n",
            "13/13 [==============================] - 8s 618ms/step - loss: 8.6323e-04 - accuracy: 1.0000 - val_loss: 0.0044 - val_accuracy: 1.0000\n",
            "Epoch 17/30\n",
            "13/13 [==============================] - 7s 517ms/step - loss: 7.7370e-04 - accuracy: 1.0000 - val_loss: 0.0040 - val_accuracy: 1.0000\n",
            "Epoch 18/30\n",
            "13/13 [==============================] - 8s 645ms/step - loss: 6.9763e-04 - accuracy: 1.0000 - val_loss: 0.0037 - val_accuracy: 1.0000\n",
            "Epoch 19/30\n",
            "13/13 [==============================] - 7s 548ms/step - loss: 6.4017e-04 - accuracy: 1.0000 - val_loss: 0.0034 - val_accuracy: 1.0000\n",
            "Epoch 20/30\n",
            "13/13 [==============================] - 8s 648ms/step - loss: 5.8576e-04 - accuracy: 1.0000 - val_loss: 0.0031 - val_accuracy: 1.0000\n",
            "Epoch 21/30\n",
            "13/13 [==============================] - 7s 549ms/step - loss: 5.3321e-04 - accuracy: 1.0000 - val_loss: 0.0030 - val_accuracy: 1.0000\n",
            "Epoch 22/30\n",
            "13/13 [==============================] - 8s 579ms/step - loss: 4.9426e-04 - accuracy: 1.0000 - val_loss: 0.0027 - val_accuracy: 1.0000\n",
            "Epoch 23/30\n",
            "13/13 [==============================] - 8s 666ms/step - loss: 4.5261e-04 - accuracy: 1.0000 - val_loss: 0.0026 - val_accuracy: 1.0000\n",
            "Epoch 24/30\n",
            "13/13 [==============================] - 7s 516ms/step - loss: 4.2568e-04 - accuracy: 1.0000 - val_loss: 0.0024 - val_accuracy: 1.0000\n",
            "Epoch 25/30\n",
            "13/13 [==============================] - 8s 651ms/step - loss: 3.9269e-04 - accuracy: 1.0000 - val_loss: 0.0023 - val_accuracy: 1.0000\n",
            "Epoch 26/30\n",
            "13/13 [==============================] - 7s 541ms/step - loss: 3.6664e-04 - accuracy: 1.0000 - val_loss: 0.0021 - val_accuracy: 1.0000\n",
            "Epoch 27/30\n",
            "13/13 [==============================] - 8s 626ms/step - loss: 3.4290e-04 - accuracy: 1.0000 - val_loss: 0.0020 - val_accuracy: 1.0000\n",
            "Epoch 28/30\n",
            "13/13 [==============================] - 7s 587ms/step - loss: 3.2097e-04 - accuracy: 1.0000 - val_loss: 0.0019 - val_accuracy: 1.0000\n",
            "Epoch 29/30\n",
            "13/13 [==============================] - 7s 556ms/step - loss: 3.0469e-04 - accuracy: 1.0000 - val_loss: 0.0018 - val_accuracy: 1.0000\n",
            "Epoch 30/30\n",
            "13/13 [==============================] - 8s 626ms/step - loss: 2.8481e-04 - accuracy: 1.0000 - val_loss: 0.0017 - val_accuracy: 1.0000\n",
            "8/8 [==============================] - 1s 102ms/step - loss: 2.6803 - accuracy: 0.6234 - recall_8: 0.6061\n",
            "\n",
            "test accuracy: 62.34%\n",
            "test recall_8: 60.61\n",
            "[2.6803078651428223, 0.6233766078948975, 0.6060606241226196]\n",
            "mfcc_crossing_rate_centroid_spect_rolloff_bandwidth_contrast_\n",
            "bef :  (304, 157, 45)\n",
            "aft :  (304, 7065)\n",
            "bef :  (231, 157, 45)\n",
            "aft :  (231, 7065)\n",
            "Epoch 1/30\n"
          ]
        },
        {
          "output_type": "stream",
          "name": "stderr",
          "text": [
            "/usr/local/lib/python3.10/dist-packages/sklearn/preprocessing/_encoders.py:868: FutureWarning: `sparse` was renamed to `sparse_output` in version 1.2 and will be removed in 1.4. `sparse_output` is ignored unless you leave `sparse` to its default value.\n",
            "  warnings.warn(\n",
            "/usr/local/lib/python3.10/dist-packages/sklearn/preprocessing/_encoders.py:868: FutureWarning: `sparse` was renamed to `sparse_output` in version 1.2 and will be removed in 1.4. `sparse_output` is ignored unless you leave `sparse` to its default value.\n",
            "  warnings.warn(\n"
          ]
        },
        {
          "output_type": "stream",
          "name": "stdout",
          "text": [
            "13/13 [==============================] - ETA: 0s - loss: 4.0410 - accuracy: 0.2481"
          ]
        },
        {
          "output_type": "stream",
          "name": "stderr",
          "text": [
            "WARNING:tensorflow:Detecting that an object or model or tf.train.Checkpoint is being deleted with unrestored values. See the following logs for the specific values in question. To silence these warnings, use `status.expect_partial()`. See https://www.tensorflow.org/api_docs/python/tf/train/Checkpoint#restorefor details about the status object returned by the restore function.\n",
            "WARNING:tensorflow:Value in checkpoint could not be found in the restored object: (root).keras_api.metrics.0.total\n",
            "WARNING:tensorflow:Value in checkpoint could not be found in the restored object: (root).keras_api.metrics.0.count\n",
            "WARNING:tensorflow:Value in checkpoint could not be found in the restored object: (root).keras_api.metrics.1.total\n",
            "WARNING:tensorflow:Value in checkpoint could not be found in the restored object: (root).keras_api.metrics.1.count\n"
          ]
        },
        {
          "output_type": "stream",
          "name": "stdout",
          "text": [
            "\b\b\b\b\b\b\b\b\b\b\b\b\b\b\b\b\b\b\b\b\b\b\b\b\b\b\b\b\b\b\b\b\b\b\b\b\b\b\b\b\b\b\b\b\b\b\b\b\b\b\b\b\b\b\b\b\b\b\b\b\b\b\b\b\b\b\b\b\b\b\b\b\b\b\b\b\b\b\b\b\b\b\r13/13 [==============================] - 4s 255ms/step - loss: 4.0410 - accuracy: 0.2481 - val_loss: 1.9458 - val_accuracy: 0.3762\n",
            "Epoch 2/30\n",
            "13/13 [==============================] - 4s 297ms/step - loss: 1.3540 - accuracy: 0.5980 - val_loss: 1.5193 - val_accuracy: 0.4356\n",
            "Epoch 3/30\n",
            "13/13 [==============================] - 2s 197ms/step - loss: 0.7731 - accuracy: 0.7444 - val_loss: 0.8924 - val_accuracy: 0.6337\n",
            "Epoch 4/30\n",
            "13/13 [==============================] - 2s 197ms/step - loss: 0.4720 - accuracy: 0.8685 - val_loss: 0.4253 - val_accuracy: 0.9109\n",
            "Epoch 5/30\n",
            "13/13 [==============================] - 2s 193ms/step - loss: 0.3370 - accuracy: 0.9057 - val_loss: 0.3004 - val_accuracy: 0.9307\n",
            "Epoch 6/30\n",
            "13/13 [==============================] - 3s 217ms/step - loss: 0.2548 - accuracy: 0.9404 - val_loss: 0.2499 - val_accuracy: 0.9505\n",
            "Epoch 7/30\n",
            "13/13 [==============================] - 3s 271ms/step - loss: 0.1878 - accuracy: 0.9628 - val_loss: 0.1945 - val_accuracy: 0.9604\n",
            "Epoch 8/30\n",
            "13/13 [==============================] - 3s 198ms/step - loss: 0.1388 - accuracy: 0.9777 - val_loss: 0.1567 - val_accuracy: 0.9604\n",
            "Epoch 9/30\n",
            "13/13 [==============================] - 2s 190ms/step - loss: 0.0967 - accuracy: 0.9926 - val_loss: 0.0818 - val_accuracy: 1.0000\n",
            "Epoch 10/30\n",
            "13/13 [==============================] - 2s 190ms/step - loss: 0.0767 - accuracy: 0.9926 - val_loss: 0.0727 - val_accuracy: 0.9901\n",
            "Epoch 11/30\n",
            "13/13 [==============================] - 3s 227ms/step - loss: 0.0617 - accuracy: 0.9975 - val_loss: 0.0708 - val_accuracy: 1.0000\n",
            "Epoch 12/30\n",
            "13/13 [==============================] - 3s 237ms/step - loss: 0.0374 - accuracy: 1.0000 - val_loss: 0.0687 - val_accuracy: 0.9901\n",
            "Epoch 13/30\n",
            "13/13 [==============================] - 2s 190ms/step - loss: 0.0355 - accuracy: 1.0000 - val_loss: 0.0623 - val_accuracy: 0.9901\n",
            "Epoch 14/30\n",
            "13/13 [==============================] - 2s 186ms/step - loss: 0.0334 - accuracy: 1.0000 - val_loss: 0.0414 - val_accuracy: 1.0000\n",
            "Epoch 15/30\n",
            "13/13 [==============================] - 3s 239ms/step - loss: 0.0310 - accuracy: 0.9975 - val_loss: 0.0287 - val_accuracy: 1.0000\n",
            "Epoch 16/30\n",
            "13/13 [==============================] - 3s 263ms/step - loss: 0.0188 - accuracy: 1.0000 - val_loss: 0.0252 - val_accuracy: 1.0000\n",
            "Epoch 17/30\n",
            "13/13 [==============================] - 2s 146ms/step - loss: 0.0152 - accuracy: 1.0000 - val_loss: 0.0255 - val_accuracy: 1.0000\n",
            "Epoch 18/30\n",
            "13/13 [==============================] - 2s 187ms/step - loss: 0.0125 - accuracy: 1.0000 - val_loss: 0.0239 - val_accuracy: 1.0000\n",
            "Epoch 19/30\n",
            "13/13 [==============================] - 2s 194ms/step - loss: 0.0114 - accuracy: 1.0000 - val_loss: 0.0177 - val_accuracy: 1.0000\n",
            "Epoch 20/30\n",
            "13/13 [==============================] - 2s 137ms/step - loss: 0.0095 - accuracy: 1.0000 - val_loss: 0.0210 - val_accuracy: 1.0000\n",
            "Epoch 21/30\n",
            "13/13 [==============================] - 3s 213ms/step - loss: 0.0083 - accuracy: 1.0000 - val_loss: 0.0164 - val_accuracy: 1.0000\n",
            "Epoch 22/30\n",
            "13/13 [==============================] - 3s 204ms/step - loss: 0.0078 - accuracy: 1.0000 - val_loss: 0.0180 - val_accuracy: 1.0000\n",
            "Epoch 23/30\n",
            "13/13 [==============================] - 2s 196ms/step - loss: 0.0069 - accuracy: 1.0000 - val_loss: 0.0138 - val_accuracy: 1.0000\n",
            "Epoch 24/30\n",
            "13/13 [==============================] - 2s 139ms/step - loss: 0.0068 - accuracy: 1.0000 - val_loss: 0.0180 - val_accuracy: 1.0000\n",
            "Epoch 25/30\n",
            "13/13 [==============================] - 3s 198ms/step - loss: 0.0064 - accuracy: 1.0000 - val_loss: 0.0125 - val_accuracy: 1.0000\n",
            "Epoch 26/30\n",
            "13/13 [==============================] - 2s 133ms/step - loss: 0.0053 - accuracy: 1.0000 - val_loss: 0.0125 - val_accuracy: 1.0000\n",
            "Epoch 27/30\n",
            "13/13 [==============================] - 3s 259ms/step - loss: 0.0048 - accuracy: 1.0000 - val_loss: 0.0113 - val_accuracy: 1.0000\n",
            "Epoch 28/30\n",
            "13/13 [==============================] - 3s 222ms/step - loss: 0.0045 - accuracy: 1.0000 - val_loss: 0.0113 - val_accuracy: 1.0000\n",
            "Epoch 29/30\n",
            "13/13 [==============================] - 2s 197ms/step - loss: 0.0043 - accuracy: 1.0000 - val_loss: 0.0111 - val_accuracy: 1.0000\n",
            "Epoch 30/30\n",
            "13/13 [==============================] - 2s 194ms/step - loss: 0.0039 - accuracy: 1.0000 - val_loss: 0.0102 - val_accuracy: 1.0000\n",
            "8/8 [==============================] - 1s 33ms/step - loss: 1.5655 - accuracy: 0.6147 - recall_9: 0.5844\n",
            "\n",
            "test accuracy: 61.47%\n",
            "test recall_9: 58.44\n",
            "[1.5654841661453247, 0.6147186160087585, 0.5844155550003052]\n",
            "centroid_contrast_bandwidth_crossing_rate_spect_rolloff_mfcc_melspect_\n",
            "bef :  (304, 157, 173)\n",
            "aft :  (304, 27161)\n"
          ]
        },
        {
          "output_type": "stream",
          "name": "stderr",
          "text": [
            "WARNING:tensorflow:Detecting that an object or model or tf.train.Checkpoint is being deleted with unrestored values. See the following logs for the specific values in question. To silence these warnings, use `status.expect_partial()`. See https://www.tensorflow.org/api_docs/python/tf/train/Checkpoint#restorefor details about the status object returned by the restore function.\n",
            "WARNING:tensorflow:Value in checkpoint could not be found in the restored object: (root).keras_api.metrics.0.total\n",
            "WARNING:tensorflow:Value in checkpoint could not be found in the restored object: (root).keras_api.metrics.0.count\n",
            "WARNING:tensorflow:Value in checkpoint could not be found in the restored object: (root).keras_api.metrics.1.total\n",
            "WARNING:tensorflow:Value in checkpoint could not be found in the restored object: (root).keras_api.metrics.1.count\n"
          ]
        },
        {
          "output_type": "stream",
          "name": "stdout",
          "text": [
            "bef :  (231, 157, 173)\n",
            "aft :  (231, 27161)\n"
          ]
        },
        {
          "output_type": "stream",
          "name": "stderr",
          "text": [
            "/usr/local/lib/python3.10/dist-packages/sklearn/preprocessing/_encoders.py:868: FutureWarning: `sparse` was renamed to `sparse_output` in version 1.2 and will be removed in 1.4. `sparse_output` is ignored unless you leave `sparse` to its default value.\n",
            "  warnings.warn(\n",
            "/usr/local/lib/python3.10/dist-packages/sklearn/preprocessing/_encoders.py:868: FutureWarning: `sparse` was renamed to `sparse_output` in version 1.2 and will be removed in 1.4. `sparse_output` is ignored unless you leave `sparse` to its default value.\n",
            "  warnings.warn(\n"
          ]
        },
        {
          "output_type": "stream",
          "name": "stdout",
          "text": [
            "Epoch 1/30\n",
            "13/13 [==============================] - 11s 735ms/step - loss: 8.4531 - accuracy: 0.3102 - val_loss: 1.4299 - val_accuracy: 0.7030\n",
            "Epoch 2/30\n",
            "13/13 [==============================] - 10s 790ms/step - loss: 0.9559 - accuracy: 0.7221 - val_loss: 0.6811 - val_accuracy: 0.8713\n",
            "Epoch 3/30\n",
            "13/13 [==============================] - 10s 786ms/step - loss: 0.4432 - accuracy: 0.9032 - val_loss: 0.3558 - val_accuracy: 0.9802\n",
            "Epoch 4/30\n",
            "13/13 [==============================] - 9s 662ms/step - loss: 0.2059 - accuracy: 0.9553 - val_loss: 0.2663 - val_accuracy: 0.9703\n",
            "Epoch 5/30\n",
            "13/13 [==============================] - 10s 755ms/step - loss: 0.0895 - accuracy: 0.9876 - val_loss: 0.1246 - val_accuracy: 1.0000\n",
            "Epoch 6/30\n",
            "13/13 [==============================] - 10s 765ms/step - loss: 0.0375 - accuracy: 1.0000 - val_loss: 0.0520 - val_accuracy: 1.0000\n",
            "Epoch 7/30\n",
            "13/13 [==============================] - 10s 767ms/step - loss: 0.0178 - accuracy: 1.0000 - val_loss: 0.0370 - val_accuracy: 1.0000\n",
            "Epoch 8/30\n",
            "13/13 [==============================] - 9s 675ms/step - loss: 0.0102 - accuracy: 1.0000 - val_loss: 0.0292 - val_accuracy: 1.0000\n",
            "Epoch 9/30\n",
            "13/13 [==============================] - 10s 769ms/step - loss: 0.0074 - accuracy: 1.0000 - val_loss: 0.0214 - val_accuracy: 1.0000\n",
            "Epoch 10/30\n",
            "13/13 [==============================] - 10s 778ms/step - loss: 0.0056 - accuracy: 1.0000 - val_loss: 0.0177 - val_accuracy: 1.0000\n",
            "Epoch 11/30\n",
            "13/13 [==============================] - 9s 709ms/step - loss: 0.0044 - accuracy: 1.0000 - val_loss: 0.0148 - val_accuracy: 1.0000\n",
            "Epoch 12/30\n",
            "13/13 [==============================] - 9s 706ms/step - loss: 0.0037 - accuracy: 1.0000 - val_loss: 0.0127 - val_accuracy: 1.0000\n",
            "Epoch 13/30\n",
            "13/13 [==============================] - 10s 783ms/step - loss: 0.0031 - accuracy: 1.0000 - val_loss: 0.0108 - val_accuracy: 1.0000\n",
            "Epoch 14/30\n",
            "13/13 [==============================] - 10s 773ms/step - loss: 0.0027 - accuracy: 1.0000 - val_loss: 0.0097 - val_accuracy: 1.0000\n",
            "Epoch 15/30\n",
            "13/13 [==============================] - 9s 740ms/step - loss: 0.0023 - accuracy: 1.0000 - val_loss: 0.0086 - val_accuracy: 1.0000\n",
            "Epoch 16/30\n",
            "13/13 [==============================] - 10s 748ms/step - loss: 0.0020 - accuracy: 1.0000 - val_loss: 0.0077 - val_accuracy: 1.0000\n",
            "Epoch 17/30\n",
            "13/13 [==============================] - 10s 787ms/step - loss: 0.0017 - accuracy: 1.0000 - val_loss: 0.0071 - val_accuracy: 1.0000\n",
            "Epoch 18/30\n",
            "13/13 [==============================] - 10s 776ms/step - loss: 0.0015 - accuracy: 1.0000 - val_loss: 0.0065 - val_accuracy: 1.0000\n",
            "Epoch 19/30\n",
            "13/13 [==============================] - 9s 670ms/step - loss: 0.0014 - accuracy: 1.0000 - val_loss: 0.0057 - val_accuracy: 1.0000\n",
            "Epoch 20/30\n",
            "13/13 [==============================] - 10s 773ms/step - loss: 0.0012 - accuracy: 1.0000 - val_loss: 0.0052 - val_accuracy: 1.0000\n",
            "Epoch 21/30\n",
            "13/13 [==============================] - 10s 773ms/step - loss: 0.0011 - accuracy: 1.0000 - val_loss: 0.0048 - val_accuracy: 1.0000\n",
            "Epoch 22/30\n",
            "13/13 [==============================] - 9s 694ms/step - loss: 0.0010 - accuracy: 1.0000 - val_loss: 0.0044 - val_accuracy: 1.0000\n",
            "Epoch 23/30\n",
            "13/13 [==============================] - 9s 681ms/step - loss: 9.4671e-04 - accuracy: 1.0000 - val_loss: 0.0042 - val_accuracy: 1.0000\n",
            "Epoch 24/30\n",
            "13/13 [==============================] - 10s 761ms/step - loss: 8.8168e-04 - accuracy: 1.0000 - val_loss: 0.0038 - val_accuracy: 1.0000\n",
            "Epoch 25/30\n",
            "13/13 [==============================] - 10s 811ms/step - loss: 8.1256e-04 - accuracy: 1.0000 - val_loss: 0.0036 - val_accuracy: 1.0000\n",
            "Epoch 26/30\n",
            "13/13 [==============================] - 8s 659ms/step - loss: 7.5363e-04 - accuracy: 1.0000 - val_loss: 0.0033 - val_accuracy: 1.0000\n",
            "Epoch 27/30\n",
            "13/13 [==============================] - 10s 766ms/step - loss: 6.9994e-04 - accuracy: 1.0000 - val_loss: 0.0031 - val_accuracy: 1.0000\n",
            "Epoch 28/30\n",
            "13/13 [==============================] - 10s 768ms/step - loss: 6.5130e-04 - accuracy: 1.0000 - val_loss: 0.0030 - val_accuracy: 1.0000\n",
            "Epoch 29/30\n",
            "13/13 [==============================] - 10s 766ms/step - loss: 6.1052e-04 - accuracy: 1.0000 - val_loss: 0.0027 - val_accuracy: 1.0000\n",
            "Epoch 30/30\n",
            "13/13 [==============================] - 9s 712ms/step - loss: 5.6633e-04 - accuracy: 1.0000 - val_loss: 0.0025 - val_accuracy: 1.0000\n",
            "8/8 [==============================] - 1s 132ms/step - loss: 2.2151 - accuracy: 0.6450 - recall_10: 0.6234\n",
            "\n",
            "test accuracy: 64.50%\n",
            "test recall_10: 62.34\n",
            "[2.2150771617889404, 0.6450216174125671, 0.6233766078948975]\n",
            "{'mfcc_': [1.6393437385559082, 0.6103895902633667, 0.5930736064910889], 'melspect_': [2.803276538848877, 0.6320346593856812, 0.6190476417541504], 'mfcc_crossing_rate_spect_rolloff_melspect_bandwidth_contrast_': [3.0719757080078125, 0.6103895902633667, 0.6017315983772278], 'mfcc_crossing_rate_centroid_spect_rolloff_melspect_bandwidth_': [2.709397315979004, 0.6190476417541504, 0.6060606241226196], 'mfcc_crossing_rate_centroid_spect_rolloff_melspect_contrast_': [2.5434820652008057, 0.6363636255264282, 0.6147186160087585], 'mfcc_centroid_spect_rolloff_melspect_bandwidth_contrast_': [2.342517852783203, 0.6363636255264282, 0.6233766078948975], 'mfcc_crossing_rate_centroid_melspect_bandwidth_contrast_': [2.759401321411133, 0.6103895902633667, 0.5930736064910889], 'crossing_rate_centroid_spect_rolloff_melspect_bandwidth_contrast_': [2.6803078651428223, 0.6233766078948975, 0.6060606241226196], 'mfcc_crossing_rate_centroid_spect_rolloff_bandwidth_contrast_': [1.5654841661453247, 0.6147186160087585, 0.5844155550003052], 'centroid_contrast_bandwidth_crossing_rate_spect_rolloff_mfcc_melspect_': [2.2150771617889404, 0.6450216174125671, 0.6233766078948975]}\n"
          ]
        }
      ]
    },
    {
      "cell_type": "markdown",
      "metadata": {
        "id": "eAB0T2CU5V8O"
      },
      "source": [
        "Also, using BiLSTM Attention model"
      ]
    },
    {
      "cell_type": "code",
      "execution_count": 66,
      "metadata": {
        "id": "zVWJujWXXv9p"
      },
      "outputs": [],
      "source": [
        "def create_model(units=256):\n",
        "    input = keras.Input(shape=(N_FRAMES, N_FEATURES))\n",
        "    states, forward_h, _, backward_h, _ = layers.Bidirectional(\n",
        "        layers.LSTM(units, return_sequences=True, return_state=True)\n",
        "    )(input)\n",
        "    last_state = layers.Concatenate()([forward_h, backward_h])\n",
        "    hidden = layers.Dense(units, activation=\"tanh\", use_bias=False,\n",
        "                          kernel_initializer=keras.initializers.RandomNormal(mean=0., stddev=1.)\n",
        "                          )(states)\n",
        "    out = layers.Dense(1, activation='linear', use_bias=False,\n",
        "                          kernel_initializer=keras.initializers.RandomNormal(mean=0., stddev=1.)\n",
        "                          )(hidden)\n",
        "    flat = layers.Flatten()(out)\n",
        "    energy = layers.Lambda(lambda x:x/np.sqrt(units))(flat)\n",
        "    normalize = layers.Softmax()\n",
        "    normalize._init_set_name(\"alpha\")\n",
        "    alpha = normalize(energy)\n",
        "    context_vector = layers.Dot(axes=1)([states, alpha])\n",
        "    context_vector = layers.Concatenate()([context_vector, last_state])\n",
        "\n",
        "    pred = layers.Dense(N_EMOTIONS, activation=\"softmax\")(context_vector)\n",
        "    model = keras.Model(inputs=[input], outputs=[pred])\n",
        "    model._init_set_name('Attention_BLSTM')\n",
        "    print(str(model.summary()))\n",
        "    return model"
      ]
    },
    {
      "cell_type": "code",
      "execution_count": 58,
      "metadata": {
        "colab": {
          "base_uri": "https://localhost:8080/"
        },
        "id": "xAi5SqUkZcuY",
        "outputId": "06cc14e2-bd59-42ff-d9e1-481f02840871"
      },
      "outputs": [
        {
          "output_type": "stream",
          "name": "stdout",
          "text": [
            "Model: \"Attention_BLSTM\"\n",
            "__________________________________________________________________________________________________\n",
            " Layer (type)                Output Shape                 Param #   Connected to                  \n",
            "==================================================================================================\n",
            " input_1 (InputLayer)        [(None, 157, 158)]           0         []                            \n",
            "                                                                                                  \n",
            " bidirectional (Bidirection  [(None, 157, 512),           849920    ['input_1[0][0]']             \n",
            " al)                          (None, 256),                                                        \n",
            "                              (None, 256),                                                        \n",
            "                              (None, 256),                                                        \n",
            "                              (None, 256)]                                                        \n",
            "                                                                                                  \n",
            " dense_10 (Dense)            (None, 157, 256)             131072    ['bidirectional[0][0]']       \n",
            "                                                                                                  \n",
            " dense_11 (Dense)            (None, 157, 1)               256       ['dense_10[0][0]']            \n",
            "                                                                                                  \n",
            " flatten_5 (Flatten)         (None, 157)                  0         ['dense_11[0][0]']            \n",
            "                                                                                                  \n",
            " lambda (Lambda)             (None, 157)                  0         ['flatten_5[0][0]']           \n",
            "                                                                                                  \n",
            " alpha (Softmax)             (None, 157)                  0         ['lambda[0][0]']              \n",
            "                                                                                                  \n",
            " dot (Dot)                   (None, 512)                  0         ['bidirectional[0][0]',       \n",
            "                                                                     'alpha[0][0]']               \n",
            "                                                                                                  \n",
            " concatenate (Concatenate)   (None, 512)                  0         ['bidirectional[0][1]',       \n",
            "                                                                     'bidirectional[0][3]']       \n",
            "                                                                                                  \n",
            " concatenate_1 (Concatenate  (None, 1024)                 0         ['dot[0][0]',                 \n",
            " )                                                                   'concatenate[0][0]']         \n",
            "                                                                                                  \n",
            " dense_12 (Dense)            (None, 7)                    7175      ['concatenate_1[0][0]']       \n",
            "                                                                                                  \n",
            "==================================================================================================\n",
            "Total params: 988423 (3.77 MB)\n",
            "Trainable params: 988423 (3.77 MB)\n",
            "Non-trainable params: 0 (0.00 Byte)\n",
            "__________________________________________________________________________________________________\n",
            "None\n"
          ]
        }
      ],
      "source": [
        "model=create_model()"
      ]
    },
    {
      "cell_type": "code",
      "execution_count": 67,
      "metadata": {
        "id": "LrjY8a9lZFO4"
      },
      "outputs": [],
      "source": [
        "model.compile(loss='categorical_crossentropy', optimizer=\"adam\", metrics=['accuracy'])"
      ]
    },
    {
      "cell_type": "code",
      "execution_count": 68,
      "metadata": {
        "colab": {
          "base_uri": "https://localhost:8080/"
        },
        "id": "wldrWvLAZMLL",
        "outputId": "638403ff-20d9-4b52-95e5-f9a468cc65a0"
      },
      "outputs": [
        {
          "output_type": "stream",
          "name": "stdout",
          "text": [
            "Epoch 1/30\n",
            "\n",
            "Epoch 1: val_loss improved from inf to 0.09217, saving model to attention_bilstm_weights.h5\n",
            "51/51 - 14s - loss: 0.2603 - accuracy: 0.9529 - val_loss: 0.0922 - val_accuracy: 0.9802 - 14s/epoch - 283ms/step\n",
            "Epoch 2/30\n",
            "\n",
            "Epoch 2: val_loss improved from 0.09217 to 0.03182, saving model to attention_bilstm_weights.h5\n",
            "51/51 - 29s - loss: 0.3950 - accuracy: 0.9404 - val_loss: 0.0318 - val_accuracy: 1.0000 - 29s/epoch - 567ms/step\n",
            "Epoch 3/30\n",
            "\n",
            "Epoch 3: val_loss improved from 0.03182 to 0.01017, saving model to attention_bilstm_weights.h5\n",
            "51/51 - 12s - loss: 0.0296 - accuracy: 0.9926 - val_loss: 0.0102 - val_accuracy: 1.0000 - 12s/epoch - 240ms/step\n",
            "Epoch 4/30\n",
            "\n",
            "Epoch 4: val_loss improved from 0.01017 to 0.00746, saving model to attention_bilstm_weights.h5\n",
            "51/51 - 12s - loss: 0.0210 - accuracy: 0.9950 - val_loss: 0.0075 - val_accuracy: 1.0000 - 12s/epoch - 243ms/step\n",
            "Epoch 5/30\n",
            "\n",
            "Epoch 5: val_loss improved from 0.00746 to 0.00322, saving model to attention_bilstm_weights.h5\n",
            "51/51 - 12s - loss: 0.0012 - accuracy: 1.0000 - val_loss: 0.0032 - val_accuracy: 1.0000 - 12s/epoch - 240ms/step\n",
            "Epoch 6/30\n",
            "\n",
            "Epoch 6: val_loss improved from 0.00322 to 0.00246, saving model to attention_bilstm_weights.h5\n",
            "51/51 - 13s - loss: 5.7146e-04 - accuracy: 1.0000 - val_loss: 0.0025 - val_accuracy: 1.0000 - 13s/epoch - 248ms/step\n",
            "Epoch 7/30\n",
            "\n",
            "Epoch 7: val_loss improved from 0.00246 to 0.00194, saving model to attention_bilstm_weights.h5\n",
            "51/51 - 12s - loss: 3.6987e-04 - accuracy: 1.0000 - val_loss: 0.0019 - val_accuracy: 1.0000 - 12s/epoch - 242ms/step\n",
            "Epoch 8/30\n",
            "\n",
            "Epoch 8: val_loss improved from 0.00194 to 0.00170, saving model to attention_bilstm_weights.h5\n",
            "51/51 - 13s - loss: 2.8559e-04 - accuracy: 1.0000 - val_loss: 0.0017 - val_accuracy: 1.0000 - 13s/epoch - 251ms/step\n",
            "Epoch 9/30\n",
            "\n",
            "Epoch 9: val_loss improved from 0.00170 to 0.00144, saving model to attention_bilstm_weights.h5\n",
            "51/51 - 13s - loss: 2.2737e-04 - accuracy: 1.0000 - val_loss: 0.0014 - val_accuracy: 1.0000 - 13s/epoch - 249ms/step\n",
            "Epoch 10/30\n",
            "\n",
            "Epoch 10: val_loss improved from 0.00144 to 0.00123, saving model to attention_bilstm_weights.h5\n",
            "51/51 - 12s - loss: 1.8899e-04 - accuracy: 1.0000 - val_loss: 0.0012 - val_accuracy: 1.0000 - 12s/epoch - 227ms/step\n",
            "Epoch 11/30\n",
            "\n",
            "Epoch 11: val_loss improved from 0.00123 to 0.00108, saving model to attention_bilstm_weights.h5\n",
            "51/51 - 12s - loss: 1.5310e-04 - accuracy: 1.0000 - val_loss: 0.0011 - val_accuracy: 1.0000 - 12s/epoch - 240ms/step\n",
            "Epoch 12/30\n",
            "\n",
            "Epoch 12: val_loss improved from 0.00108 to 0.00099, saving model to attention_bilstm_weights.h5\n",
            "51/51 - 13s - loss: 1.2448e-04 - accuracy: 1.0000 - val_loss: 9.9206e-04 - val_accuracy: 1.0000 - 13s/epoch - 253ms/step\n",
            "Epoch 13/30\n",
            "\n",
            "Epoch 13: val_loss improved from 0.00099 to 0.00086, saving model to attention_bilstm_weights.h5\n",
            "51/51 - 13s - loss: 1.0894e-04 - accuracy: 1.0000 - val_loss: 8.6023e-04 - val_accuracy: 1.0000 - 13s/epoch - 253ms/step\n",
            "Epoch 14/30\n",
            "\n",
            "Epoch 14: val_loss improved from 0.00086 to 0.00075, saving model to attention_bilstm_weights.h5\n",
            "51/51 - 13s - loss: 9.2948e-05 - accuracy: 1.0000 - val_loss: 7.5424e-04 - val_accuracy: 1.0000 - 13s/epoch - 250ms/step\n",
            "Epoch 15/30\n",
            "\n",
            "Epoch 15: val_loss improved from 0.00075 to 0.00069, saving model to attention_bilstm_weights.h5\n",
            "51/51 - 13s - loss: 8.1044e-05 - accuracy: 1.0000 - val_loss: 6.8766e-04 - val_accuracy: 1.0000 - 13s/epoch - 246ms/step\n",
            "Epoch 16/30\n",
            "\n",
            "Epoch 16: val_loss improved from 0.00069 to 0.00060, saving model to attention_bilstm_weights.h5\n",
            "51/51 - 12s - loss: 7.2031e-05 - accuracy: 1.0000 - val_loss: 6.0044e-04 - val_accuracy: 1.0000 - 12s/epoch - 244ms/step\n",
            "Epoch 17/30\n",
            "\n",
            "Epoch 17: val_loss improved from 0.00060 to 0.00055, saving model to attention_bilstm_weights.h5\n",
            "51/51 - 11s - loss: 6.3181e-05 - accuracy: 1.0000 - val_loss: 5.4503e-04 - val_accuracy: 1.0000 - 11s/epoch - 219ms/step\n",
            "Epoch 18/30\n",
            "\n",
            "Epoch 18: val_loss improved from 0.00055 to 0.00048, saving model to attention_bilstm_weights.h5\n",
            "51/51 - 13s - loss: 5.5553e-05 - accuracy: 1.0000 - val_loss: 4.7787e-04 - val_accuracy: 1.0000 - 13s/epoch - 246ms/step\n",
            "Epoch 19/30\n",
            "\n",
            "Epoch 19: val_loss improved from 0.00048 to 0.00043, saving model to attention_bilstm_weights.h5\n",
            "51/51 - 13s - loss: 4.7943e-05 - accuracy: 1.0000 - val_loss: 4.3327e-04 - val_accuracy: 1.0000 - 13s/epoch - 245ms/step\n",
            "Epoch 20/30\n",
            "\n",
            "Epoch 20: val_loss improved from 0.00043 to 0.00040, saving model to attention_bilstm_weights.h5\n",
            "51/51 - 13s - loss: 4.2713e-05 - accuracy: 1.0000 - val_loss: 3.9977e-04 - val_accuracy: 1.0000 - 13s/epoch - 250ms/step\n",
            "Epoch 21/30\n",
            "\n",
            "Epoch 21: val_loss improved from 0.00040 to 0.00037, saving model to attention_bilstm_weights.h5\n",
            "51/51 - 13s - loss: 3.8259e-05 - accuracy: 1.0000 - val_loss: 3.6941e-04 - val_accuracy: 1.0000 - 13s/epoch - 252ms/step\n",
            "Epoch 22/30\n",
            "\n",
            "Epoch 22: val_loss improved from 0.00037 to 0.00034, saving model to attention_bilstm_weights.h5\n",
            "51/51 - 13s - loss: 3.5031e-05 - accuracy: 1.0000 - val_loss: 3.4235e-04 - val_accuracy: 1.0000 - 13s/epoch - 249ms/step\n",
            "Epoch 23/30\n",
            "\n",
            "Epoch 23: val_loss improved from 0.00034 to 0.00032, saving model to attention_bilstm_weights.h5\n",
            "51/51 - 13s - loss: 3.2264e-05 - accuracy: 1.0000 - val_loss: 3.2428e-04 - val_accuracy: 1.0000 - 13s/epoch - 247ms/step\n",
            "Epoch 24/30\n",
            "\n",
            "Epoch 24: val_loss improved from 0.00032 to 0.00029, saving model to attention_bilstm_weights.h5\n",
            "51/51 - 11s - loss: 2.9514e-05 - accuracy: 1.0000 - val_loss: 2.9368e-04 - val_accuracy: 1.0000 - 11s/epoch - 220ms/step\n",
            "Epoch 25/30\n",
            "\n",
            "Epoch 25: val_loss improved from 0.00029 to 0.00028, saving model to attention_bilstm_weights.h5\n",
            "51/51 - 13s - loss: 2.6822e-05 - accuracy: 1.0000 - val_loss: 2.8218e-04 - val_accuracy: 1.0000 - 13s/epoch - 251ms/step\n",
            "Epoch 26/30\n",
            "\n",
            "Epoch 26: val_loss improved from 0.00028 to 0.00026, saving model to attention_bilstm_weights.h5\n",
            "51/51 - 13s - loss: 2.4899e-05 - accuracy: 1.0000 - val_loss: 2.6072e-04 - val_accuracy: 1.0000 - 13s/epoch - 251ms/step\n",
            "Epoch 27/30\n",
            "\n",
            "Epoch 27: val_loss improved from 0.00026 to 0.00024, saving model to attention_bilstm_weights.h5\n",
            "51/51 - 12s - loss: 2.2799e-05 - accuracy: 1.0000 - val_loss: 2.4261e-04 - val_accuracy: 1.0000 - 12s/epoch - 245ms/step\n",
            "Epoch 28/30\n",
            "\n",
            "Epoch 28: val_loss improved from 0.00024 to 0.00023, saving model to attention_bilstm_weights.h5\n",
            "51/51 - 13s - loss: 2.0810e-05 - accuracy: 1.0000 - val_loss: 2.3138e-04 - val_accuracy: 1.0000 - 13s/epoch - 253ms/step\n",
            "Epoch 29/30\n",
            "\n",
            "Epoch 29: val_loss improved from 0.00023 to 0.00022, saving model to attention_bilstm_weights.h5\n",
            "51/51 - 12s - loss: 1.9370e-05 - accuracy: 1.0000 - val_loss: 2.1815e-04 - val_accuracy: 1.0000 - 12s/epoch - 244ms/step\n",
            "Epoch 30/30\n",
            "\n",
            "Epoch 30: val_loss improved from 0.00022 to 0.00021, saving model to attention_bilstm_weights.h5\n",
            "51/51 - 11s - loss: 1.8116e-05 - accuracy: 1.0000 - val_loss: 2.0890e-04 - val_accuracy: 1.0000 - 11s/epoch - 224ms/step\n"
          ]
        },
        {
          "output_type": "execute_result",
          "data": {
            "text/plain": [
              "<keras.src.callbacks.History at 0x7d324e05bd90>"
            ]
          },
          "metadata": {},
          "execution_count": 68
        }
      ],
      "source": [
        "best_weights_file = \"attention_bilstm_weights.h5\"\n",
        "es = EarlyStopping(monitor='val_loss', mode='min', verbose=2, patience=10)\n",
        "mc = ModelCheckpoint(best_weights_file, monitor='val_loss', mode='min', verbose=2,\n",
        "                         save_best_only=True)\n",
        "model.fit(\n",
        "        X_train, y_train,\n",
        "        epochs=30,\n",
        "        batch_size=8,\n",
        "        validation_split=0.2,\n",
        "        callbacks=[es, mc],\n",
        "        verbose=2\n",
        "    )"
      ]
    },
    {
      "cell_type": "code",
      "execution_count": 70,
      "metadata": {
        "colab": {
          "base_uri": "https://localhost:8080/"
        },
        "id": "7-S7VEnGZMR-",
        "outputId": "5a28878c-f7bc-4adf-c27a-1abc9d98107d"
      },
      "outputs": [
        {
          "output_type": "stream",
          "name": "stdout",
          "text": [
            "29/29 [==============================] - 2s 59ms/step - loss: 2.9960 - accuracy: 0.5801 - recall_9: 0.5758\n",
            "\n",
            "test accuracy: 58.01%\n",
            "test recall_9: 57.58\n"
          ]
        }
      ],
      "source": [
        "# test acc and loss\n",
        "model.load_weights(best_weights_file) # load the best saved model\n",
        "model.compile(loss='categorical_crossentropy', optimizer='adam', metrics=['accuracy',keras.metrics.Recall()])\n",
        "test_metrics = model.evaluate(X_test, y_test, batch_size=8)\n",
        "print(\"\\n%s: %.2f%%\" % (\"test \" + model.metrics_names[1], test_metrics[1] * 100))\n",
        "print(\"%s: %.2f\" % (\"test \" + model.metrics_names[2], test_metrics[2]* 100))"
      ]
    }
  ],
  "metadata": {
    "colab": {
      "provenance": []
    },
    "kernelspec": {
      "display_name": "Python 3",
      "name": "python3"
    },
    "language_info": {
      "name": "python"
    }
  },
  "nbformat": 4,
  "nbformat_minor": 0
}